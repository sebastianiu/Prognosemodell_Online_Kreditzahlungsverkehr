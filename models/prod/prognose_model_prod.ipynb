{
  "nbformat": 4,
  "nbformat_minor": 0,
  "metadata": {
    "colab": {
      "provenance": [],
      "authorship_tag": "ABX9TyO1YF9Clz9cWLUBXw4Iyf47",
      "include_colab_link": true
    },
    "kernelspec": {
      "name": "python3",
      "display_name": "Python 3"
    },
    "language_info": {
      "name": "python"
    }
  },
  "cells": [
    {
      "cell_type": "markdown",
      "metadata": {
        "id": "view-in-github",
        "colab_type": "text"
      },
      "source": [
        "<a href=\"https://colab.research.google.com/github/sebastianiu/Prognosemodell_Online_Kreditzahlungsverkehr/blob/main/models/prod/prognose_model_prod.ipynb\" target=\"_parent\"><img src=\"https://colab.research.google.com/assets/colab-badge.svg\" alt=\"Open In Colab\"/></a>"
      ]
    },
    {
      "cell_type": "markdown",
      "source": [
        "# 1. Bilbiotheken und optmimierte Hyperparametereinstellungen laden"
      ],
      "metadata": {
        "id": "9wdCfj0ScPUd"
      }
    },
    {
      "cell_type": "code",
      "execution_count": 1,
      "metadata": {
        "id": "O8vMZ3RVcHAd"
      },
      "outputs": [],
      "source": [
        "# Bibliotheken laden\n",
        "import xgboost as xgb\n",
        "from sklearn.metrics import accuracy_score,auc,roc_curve\n",
        "import numpy as np\n",
        "import pandas as pd\n",
        "import matplotlib.pyplot as plt\n",
        "\n",
        "best_hyperparams = {'learning_rate': 0.03486207277919493, 'max_depth': 5, 'n_estimators': 120, 'subsample': 0.9998090410526672}"
      ]
    },
    {
      "cell_type": "markdown",
      "source": [
        "# 2. Daten Laden"
      ],
      "metadata": {
        "id": "3garWEz2sR9K"
      }
    },
    {
      "cell_type": "code",
      "source": [
        "url = \"https://github.com/sebastianiu/Prognosemodell_Online_Kreditzahlungsverkehr/raw/main/data/raw/PSP_Jan_Feb_2019.xlsx\"\n",
        "Datensatz = pd.read_excel(url)\n",
        "Datensatz = Datensatz.rename(columns = {\"Unnamed: 0\":\"id\"})"
      ],
      "metadata": {
        "id": "DeUdReV4UF31"
      },
      "execution_count": 2,
      "outputs": []
    },
    {
      "cell_type": "markdown",
      "source": [
        "# 3. Datenaufbereitung"
      ],
      "metadata": {
        "id": "005GLg72O2F6"
      }
    },
    {
      "cell_type": "code",
      "source": [
        "# Bilbiotheken laden\n",
        "from sklearn.preprocessing import LabelEncoder\n",
        "from sklearn import datasets\n",
        "from sklearn.datasets import make_classification\n",
        "from sklearn.model_selection import RandomizedSearchCV, train_test_split\n",
        "from scipy.stats import randint\n",
        "import plotly.express as px\n",
        "from plotly.subplots import make_subplots\n",
        "import plotly.graph_objects as go\n",
        "from sklearn.model_selection import cross_val_score\n",
        "\n",
        "# Datenaufbereitung\n",
        "label_encoder_PSP = LabelEncoder()\n",
        "label_encoder_country = LabelEncoder()\n",
        "label_encoder_card = LabelEncoder()\n",
        "label_encoder_weekday = LabelEncoder()\n",
        "\n",
        "ML_Daten = Datensatz.filter(['amount','success','PSP','country','card','tmsp','3D_secured'], axis=1)\n",
        "\n",
        "ML_Daten['country'] = label_encoder_country.fit_transform(ML_Daten['country'])\n",
        "ML_Daten['PSP'] = label_encoder_PSP.fit_transform(ML_Daten['PSP'])\n",
        "ML_Daten['card'] = label_encoder_card.fit_transform(ML_Daten['card'])\n",
        "\n",
        "# Datumswerte in Tag/ Wochentag/ Stunde aufteilen\n",
        "ML_Daten['weekday'] = ML_Daten['tmsp'].dt.day_name()\n",
        "ML_Daten['weekday'] = label_encoder_weekday.fit_transform(ML_Daten['weekday'])\n",
        "ML_Daten['day'] = ML_Daten['tmsp'].dt.strftime('%d').astype(int)\n",
        "ML_Daten['hour'] = ML_Daten['tmsp'].dt.strftime('%H').astype(int)\n",
        "\n",
        "# Separation in X Merkmale and Zielvariable Y\n",
        "Y = ML_Daten['success']\n",
        "X = ML_Daten.filter(['amount','PSP','3D_secured','card','country','weekday','day','hour'], axis=1)\n",
        "\n",
        "# Aufteilung in Trainings- und Validierungsdatensatz\n",
        "x_train, x_test, y_train, y_test = train_test_split(X, Y, test_size=0.2)"
      ],
      "metadata": {
        "id": "3Fyc9fhFDYv-"
      },
      "execution_count": 3,
      "outputs": []
    },
    {
      "cell_type": "markdown",
      "source": [],
      "metadata": {
        "id": "607cnRvOUFgF"
      }
    },
    {
      "cell_type": "markdown",
      "source": [
        "# 4. Erstelle und trainiere Modell mit optimierten Hyperparametern"
      ],
      "metadata": {
        "id": "vmPum3bD-VWZ"
      }
    },
    {
      "cell_type": "code",
      "source": [
        "XGB_final = xgb.XGBClassifier(colsample_bytree = best_hyperparams.get('colsample_bytree') ,gamma = best_hyperparams.get('gamma'), max_depth = round(best_hyperparams.get('max_depth')),\n",
        "                              min_child_weight = best_hyperparams.get('min_child_weight'),reg_alpha = best_hyperparams.get('reg_alpha'), reg_lambda = best_hyperparams.get('reg_lambda'))\n",
        "XGB_final.fit(X,Y)\n",
        "\n",
        "y_test_pred = XGB_final.predict(x_test)\n",
        "y_train_pred = XGB_final.predict(x_train)\n",
        "probs = XGB_final.predict_proba(x_test)\n",
        "preds = probs[:,1]\n",
        "fpr, tpr, threshold = roc_curve(y_test, preds)\n",
        "auc_value = round(auc(fpr,tpr),2)\n",
        "\n",
        "print('Bewertungsmetriken')\n",
        "print('#'*20)\n",
        "print(f\"Vorhersage-Genauigkeit auf Basis der Trainingsdaten: {round(accuracy_score(y_train, y_train_pred),3)}\")\n",
        "print(f\"Vorhersage-Genauigkeit auf Basis der Testdaten: {round(accuracy_score(y_test, y_test_pred),3)}\")\n",
        "print(f\"AUC-Wert: {auc_value}\")"
      ],
      "metadata": {
        "id": "uPZEzyB9Lqr1",
        "outputId": "51d6e351-554a-40a6-a937-84adc5094eee",
        "colab": {
          "base_uri": "https://localhost:8080/"
        }
      },
      "execution_count": 5,
      "outputs": [
        {
          "output_type": "stream",
          "name": "stdout",
          "text": [
            "Bewertungsmetriken\n",
            "####################\n",
            "Vorhersage-Genauigkeit auf Basis der Trainingsdaten: 0.81\n",
            "Vorhersage-Genauigkeit auf Basis der Testdaten: 0.811\n",
            "AUC-Wert: 0.77\n"
          ]
        }
      ]
    },
    {
      "cell_type": "code",
      "source": [
        "Prognose_vergangen = pd.DataFrame({'y_true':y_test,'y_pred':y_test_pred})\n",
        "Prognose_vergangen.to_csv('Prognose_vergangen.csv')"
      ],
      "metadata": {
        "id": "RD0hTjiZpenP"
      },
      "execution_count": null,
      "outputs": []
    },
    {
      "cell_type": "markdown",
      "source": [
        "# 5. Testprognosedaten für Visualisierung in Dashboard erzeugen"
      ],
      "metadata": {
        "id": "tHwQK-xTyQXH"
      }
    },
    {
      "cell_type": "code",
      "source": [
        "# Neue Transaktionen per Zufall aus Bestand erzeugen\n",
        "Transaktionen_sample = ML_Daten.sample(frac=0.01)"
      ],
      "metadata": {
        "id": "0G6MlGHn9qyJ"
      },
      "execution_count": null,
      "outputs": []
    },
    {
      "cell_type": "code",
      "source": [
        "# Pro Datenzeile Duplikat für jedes PSP erzeugen, damit Prognosemodell Vorhersage für jeden PSP pro Transaktion erzeugt\n",
        "daten1 =   Transaktionen_sample[['amount','PSP','3D_secured','card','country','weekday','day','hour']].copy(deep=True)\n",
        "daten1.PSP = 'Moneycard'\n",
        "daten2 =   Transaktionen_sample[['amount','PSP','3D_secured','card','country','weekday','day','hour']].copy(deep=True)\n",
        "daten2.PSP = 'Goldcard'\n",
        "daten3 =   Transaktionen_sample[['amount','PSP','3D_secured','card','country','weekday','day','hour']].copy(deep=True)\n",
        "daten3.PSP = 'UK_Card'\n",
        "daten4 =   Transaktionen_sample[['amount','PSP','3D_secured','card','country','weekday','day','hour']].copy(deep=True)\n",
        "daten4.PSP = 'Simplecard'\n",
        "\n",
        "# Alle Datenzeilen  konkantinieren = untereinander anfügen\n",
        "Transaktionen_neu = pd.concat([daten1,daten2,daten3,daten4])\n",
        "\n",
        "# PSP-Daten für Weitereverarbeitung wieder Enkodieren\n",
        "Transaktionen_neu['PSP'] = label_encoder_PSP.fit_transform(Transaktionen_neu['PSP'])\n",
        "\n",
        "Transaktionen_neu = Transaktionen_neu.reset_index()\n",
        "del Transaktionen_neu['index']"
      ],
      "metadata": {
        "id": "Ms969qQLV7PW"
      },
      "execution_count": null,
      "outputs": []
    },
    {
      "cell_type": "code",
      "source": [
        "# Prognose für neue Transaktionen erzeugen\n",
        "y_pred = XGB_final.predict(Transaktionen_neu)\n",
        "y_pred_probs = XGB_final.predict_proba(Transaktionen_neu)\n",
        "y_pred_probs = y_pred_probs[:,0]\n",
        "\n",
        "Transaktionen_neu_pred = pd.DataFrame({'y_pred':y_pred,'y_pred_prob':y_pred_probs})"
      ],
      "metadata": {
        "id": "6c_EimP7yulS"
      },
      "execution_count": null,
      "outputs": []
    },
    {
      "cell_type": "code",
      "source": [
        "Transaktionen_neu = pd.concat([Transaktionen_neu,Transaktionen_neu_pred],axis=1)"
      ],
      "metadata": {
        "id": "G1spyEtFAPpr"
      },
      "execution_count": null,
      "outputs": []
    },
    {
      "cell_type": "code",
      "source": [
        "Transaktionen_neu['country'] = label_encoder_country.inverse_transform(Transaktionen_neu['country'])\n",
        "Transaktionen_neu['PSP'] = label_encoder_PSP.inverse_transform(Transaktionen_neu['PSP'])\n",
        "Transaktionen_neu['card'] = label_encoder_card.inverse_transform(Transaktionen_neu['card'])\n",
        "Transaktionen_neu['weekday'] = label_encoder_weekday.inverse_transform(Transaktionen_neu['weekday'])"
      ],
      "metadata": {
        "id": "Z5reDsRvL_mj"
      },
      "execution_count": null,
      "outputs": []
    },
    {
      "cell_type": "code",
      "source": [
        "Transaktionen_neu.head()"
      ],
      "metadata": {
        "id": "VIXC2IzlPCyJ",
        "outputId": "3b7236f9-c2b7-4b09-bb61-d1b15a44fc9b",
        "colab": {
          "base_uri": "https://localhost:8080/",
          "height": 206
        }
      },
      "execution_count": null,
      "outputs": [
        {
          "output_type": "execute_result",
          "data": {
            "text/plain": [
              "   amount        PSP  3D_secured    card  country   weekday  day  hour  \\\n",
              "0     218  Moneycard           0  Master  Germany    Friday    8    17   \n",
              "1     164  Moneycard           1  Master  Germany  Thursday    7    17   \n",
              "2     284  Moneycard           1  Master  Austria    Monday   21     9   \n",
              "3     275  Moneycard           0  Master  Germany   Tuesday    8    12   \n",
              "4     128  Moneycard           0  Master  Austria    Friday   15    12   \n",
              "\n",
              "   y_pred  y_pred_prob  \n",
              "0       0     0.783034  \n",
              "1       0     0.640246  \n",
              "2       0     0.651328  \n",
              "3       0     0.830280  \n",
              "4       0     0.877289  "
            ],
            "text/html": [
              "\n",
              "  <div id=\"df-729b23c6-354b-47c1-b95b-524e51c87e28\" class=\"colab-df-container\">\n",
              "    <div>\n",
              "<style scoped>\n",
              "    .dataframe tbody tr th:only-of-type {\n",
              "        vertical-align: middle;\n",
              "    }\n",
              "\n",
              "    .dataframe tbody tr th {\n",
              "        vertical-align: top;\n",
              "    }\n",
              "\n",
              "    .dataframe thead th {\n",
              "        text-align: right;\n",
              "    }\n",
              "</style>\n",
              "<table border=\"1\" class=\"dataframe\">\n",
              "  <thead>\n",
              "    <tr style=\"text-align: right;\">\n",
              "      <th></th>\n",
              "      <th>amount</th>\n",
              "      <th>PSP</th>\n",
              "      <th>3D_secured</th>\n",
              "      <th>card</th>\n",
              "      <th>country</th>\n",
              "      <th>weekday</th>\n",
              "      <th>day</th>\n",
              "      <th>hour</th>\n",
              "      <th>y_pred</th>\n",
              "      <th>y_pred_prob</th>\n",
              "    </tr>\n",
              "  </thead>\n",
              "  <tbody>\n",
              "    <tr>\n",
              "      <th>0</th>\n",
              "      <td>218</td>\n",
              "      <td>Moneycard</td>\n",
              "      <td>0</td>\n",
              "      <td>Master</td>\n",
              "      <td>Germany</td>\n",
              "      <td>Friday</td>\n",
              "      <td>8</td>\n",
              "      <td>17</td>\n",
              "      <td>0</td>\n",
              "      <td>0.783034</td>\n",
              "    </tr>\n",
              "    <tr>\n",
              "      <th>1</th>\n",
              "      <td>164</td>\n",
              "      <td>Moneycard</td>\n",
              "      <td>1</td>\n",
              "      <td>Master</td>\n",
              "      <td>Germany</td>\n",
              "      <td>Thursday</td>\n",
              "      <td>7</td>\n",
              "      <td>17</td>\n",
              "      <td>0</td>\n",
              "      <td>0.640246</td>\n",
              "    </tr>\n",
              "    <tr>\n",
              "      <th>2</th>\n",
              "      <td>284</td>\n",
              "      <td>Moneycard</td>\n",
              "      <td>1</td>\n",
              "      <td>Master</td>\n",
              "      <td>Austria</td>\n",
              "      <td>Monday</td>\n",
              "      <td>21</td>\n",
              "      <td>9</td>\n",
              "      <td>0</td>\n",
              "      <td>0.651328</td>\n",
              "    </tr>\n",
              "    <tr>\n",
              "      <th>3</th>\n",
              "      <td>275</td>\n",
              "      <td>Moneycard</td>\n",
              "      <td>0</td>\n",
              "      <td>Master</td>\n",
              "      <td>Germany</td>\n",
              "      <td>Tuesday</td>\n",
              "      <td>8</td>\n",
              "      <td>12</td>\n",
              "      <td>0</td>\n",
              "      <td>0.830280</td>\n",
              "    </tr>\n",
              "    <tr>\n",
              "      <th>4</th>\n",
              "      <td>128</td>\n",
              "      <td>Moneycard</td>\n",
              "      <td>0</td>\n",
              "      <td>Master</td>\n",
              "      <td>Austria</td>\n",
              "      <td>Friday</td>\n",
              "      <td>15</td>\n",
              "      <td>12</td>\n",
              "      <td>0</td>\n",
              "      <td>0.877289</td>\n",
              "    </tr>\n",
              "  </tbody>\n",
              "</table>\n",
              "</div>\n",
              "    <div class=\"colab-df-buttons\">\n",
              "\n",
              "  <div class=\"colab-df-container\">\n",
              "    <button class=\"colab-df-convert\" onclick=\"convertToInteractive('df-729b23c6-354b-47c1-b95b-524e51c87e28')\"\n",
              "            title=\"Convert this dataframe to an interactive table.\"\n",
              "            style=\"display:none;\">\n",
              "\n",
              "  <svg xmlns=\"http://www.w3.org/2000/svg\" height=\"24px\" viewBox=\"0 -960 960 960\">\n",
              "    <path d=\"M120-120v-720h720v720H120Zm60-500h600v-160H180v160Zm220 220h160v-160H400v160Zm0 220h160v-160H400v160ZM180-400h160v-160H180v160Zm440 0h160v-160H620v160ZM180-180h160v-160H180v160Zm440 0h160v-160H620v160Z\"/>\n",
              "  </svg>\n",
              "    </button>\n",
              "\n",
              "  <style>\n",
              "    .colab-df-container {\n",
              "      display:flex;\n",
              "      gap: 12px;\n",
              "    }\n",
              "\n",
              "    .colab-df-convert {\n",
              "      background-color: #E8F0FE;\n",
              "      border: none;\n",
              "      border-radius: 50%;\n",
              "      cursor: pointer;\n",
              "      display: none;\n",
              "      fill: #1967D2;\n",
              "      height: 32px;\n",
              "      padding: 0 0 0 0;\n",
              "      width: 32px;\n",
              "    }\n",
              "\n",
              "    .colab-df-convert:hover {\n",
              "      background-color: #E2EBFA;\n",
              "      box-shadow: 0px 1px 2px rgba(60, 64, 67, 0.3), 0px 1px 3px 1px rgba(60, 64, 67, 0.15);\n",
              "      fill: #174EA6;\n",
              "    }\n",
              "\n",
              "    .colab-df-buttons div {\n",
              "      margin-bottom: 4px;\n",
              "    }\n",
              "\n",
              "    [theme=dark] .colab-df-convert {\n",
              "      background-color: #3B4455;\n",
              "      fill: #D2E3FC;\n",
              "    }\n",
              "\n",
              "    [theme=dark] .colab-df-convert:hover {\n",
              "      background-color: #434B5C;\n",
              "      box-shadow: 0px 1px 3px 1px rgba(0, 0, 0, 0.15);\n",
              "      filter: drop-shadow(0px 1px 2px rgba(0, 0, 0, 0.3));\n",
              "      fill: #FFFFFF;\n",
              "    }\n",
              "  </style>\n",
              "\n",
              "    <script>\n",
              "      const buttonEl =\n",
              "        document.querySelector('#df-729b23c6-354b-47c1-b95b-524e51c87e28 button.colab-df-convert');\n",
              "      buttonEl.style.display =\n",
              "        google.colab.kernel.accessAllowed ? 'block' : 'none';\n",
              "\n",
              "      async function convertToInteractive(key) {\n",
              "        const element = document.querySelector('#df-729b23c6-354b-47c1-b95b-524e51c87e28');\n",
              "        const dataTable =\n",
              "          await google.colab.kernel.invokeFunction('convertToInteractive',\n",
              "                                                    [key], {});\n",
              "        if (!dataTable) return;\n",
              "\n",
              "        const docLinkHtml = 'Like what you see? Visit the ' +\n",
              "          '<a target=\"_blank\" href=https://colab.research.google.com/notebooks/data_table.ipynb>data table notebook</a>'\n",
              "          + ' to learn more about interactive tables.';\n",
              "        element.innerHTML = '';\n",
              "        dataTable['output_type'] = 'display_data';\n",
              "        await google.colab.output.renderOutput(dataTable, element);\n",
              "        const docLink = document.createElement('div');\n",
              "        docLink.innerHTML = docLinkHtml;\n",
              "        element.appendChild(docLink);\n",
              "      }\n",
              "    </script>\n",
              "  </div>\n",
              "\n",
              "\n",
              "<div id=\"df-6970a59f-4910-4952-9b01-82fd7bc055c7\">\n",
              "  <button class=\"colab-df-quickchart\" onclick=\"quickchart('df-6970a59f-4910-4952-9b01-82fd7bc055c7')\"\n",
              "            title=\"Suggest charts.\"\n",
              "            style=\"display:none;\">\n",
              "\n",
              "<svg xmlns=\"http://www.w3.org/2000/svg\" height=\"24px\"viewBox=\"0 0 24 24\"\n",
              "     width=\"24px\">\n",
              "    <g>\n",
              "        <path d=\"M19 3H5c-1.1 0-2 .9-2 2v14c0 1.1.9 2 2 2h14c1.1 0 2-.9 2-2V5c0-1.1-.9-2-2-2zM9 17H7v-7h2v7zm4 0h-2V7h2v10zm4 0h-2v-4h2v4z\"/>\n",
              "    </g>\n",
              "</svg>\n",
              "  </button>\n",
              "\n",
              "<style>\n",
              "  .colab-df-quickchart {\n",
              "      --bg-color: #E8F0FE;\n",
              "      --fill-color: #1967D2;\n",
              "      --hover-bg-color: #E2EBFA;\n",
              "      --hover-fill-color: #174EA6;\n",
              "      --disabled-fill-color: #AAA;\n",
              "      --disabled-bg-color: #DDD;\n",
              "  }\n",
              "\n",
              "  [theme=dark] .colab-df-quickchart {\n",
              "      --bg-color: #3B4455;\n",
              "      --fill-color: #D2E3FC;\n",
              "      --hover-bg-color: #434B5C;\n",
              "      --hover-fill-color: #FFFFFF;\n",
              "      --disabled-bg-color: #3B4455;\n",
              "      --disabled-fill-color: #666;\n",
              "  }\n",
              "\n",
              "  .colab-df-quickchart {\n",
              "    background-color: var(--bg-color);\n",
              "    border: none;\n",
              "    border-radius: 50%;\n",
              "    cursor: pointer;\n",
              "    display: none;\n",
              "    fill: var(--fill-color);\n",
              "    height: 32px;\n",
              "    padding: 0;\n",
              "    width: 32px;\n",
              "  }\n",
              "\n",
              "  .colab-df-quickchart:hover {\n",
              "    background-color: var(--hover-bg-color);\n",
              "    box-shadow: 0 1px 2px rgba(60, 64, 67, 0.3), 0 1px 3px 1px rgba(60, 64, 67, 0.15);\n",
              "    fill: var(--button-hover-fill-color);\n",
              "  }\n",
              "\n",
              "  .colab-df-quickchart-complete:disabled,\n",
              "  .colab-df-quickchart-complete:disabled:hover {\n",
              "    background-color: var(--disabled-bg-color);\n",
              "    fill: var(--disabled-fill-color);\n",
              "    box-shadow: none;\n",
              "  }\n",
              "\n",
              "  .colab-df-spinner {\n",
              "    border: 2px solid var(--fill-color);\n",
              "    border-color: transparent;\n",
              "    border-bottom-color: var(--fill-color);\n",
              "    animation:\n",
              "      spin 1s steps(1) infinite;\n",
              "  }\n",
              "\n",
              "  @keyframes spin {\n",
              "    0% {\n",
              "      border-color: transparent;\n",
              "      border-bottom-color: var(--fill-color);\n",
              "      border-left-color: var(--fill-color);\n",
              "    }\n",
              "    20% {\n",
              "      border-color: transparent;\n",
              "      border-left-color: var(--fill-color);\n",
              "      border-top-color: var(--fill-color);\n",
              "    }\n",
              "    30% {\n",
              "      border-color: transparent;\n",
              "      border-left-color: var(--fill-color);\n",
              "      border-top-color: var(--fill-color);\n",
              "      border-right-color: var(--fill-color);\n",
              "    }\n",
              "    40% {\n",
              "      border-color: transparent;\n",
              "      border-right-color: var(--fill-color);\n",
              "      border-top-color: var(--fill-color);\n",
              "    }\n",
              "    60% {\n",
              "      border-color: transparent;\n",
              "      border-right-color: var(--fill-color);\n",
              "    }\n",
              "    80% {\n",
              "      border-color: transparent;\n",
              "      border-right-color: var(--fill-color);\n",
              "      border-bottom-color: var(--fill-color);\n",
              "    }\n",
              "    90% {\n",
              "      border-color: transparent;\n",
              "      border-bottom-color: var(--fill-color);\n",
              "    }\n",
              "  }\n",
              "</style>\n",
              "\n",
              "  <script>\n",
              "    async function quickchart(key) {\n",
              "      const quickchartButtonEl =\n",
              "        document.querySelector('#' + key + ' button');\n",
              "      quickchartButtonEl.disabled = true;  // To prevent multiple clicks.\n",
              "      quickchartButtonEl.classList.add('colab-df-spinner');\n",
              "      try {\n",
              "        const charts = await google.colab.kernel.invokeFunction(\n",
              "            'suggestCharts', [key], {});\n",
              "      } catch (error) {\n",
              "        console.error('Error during call to suggestCharts:', error);\n",
              "      }\n",
              "      quickchartButtonEl.classList.remove('colab-df-spinner');\n",
              "      quickchartButtonEl.classList.add('colab-df-quickchart-complete');\n",
              "    }\n",
              "    (() => {\n",
              "      let quickchartButtonEl =\n",
              "        document.querySelector('#df-6970a59f-4910-4952-9b01-82fd7bc055c7 button');\n",
              "      quickchartButtonEl.style.display =\n",
              "        google.colab.kernel.accessAllowed ? 'block' : 'none';\n",
              "    })();\n",
              "  </script>\n",
              "</div>\n",
              "    </div>\n",
              "  </div>\n"
            ]
          },
          "metadata": {},
          "execution_count": 13
        }
      ]
    },
    {
      "cell_type": "code",
      "source": [
        "Transaktionen_neu.to_csv('Transaktionen_neu.csv')"
      ],
      "metadata": {
        "id": "uZspBen3IRcg"
      },
      "execution_count": null,
      "outputs": []
    },
    {
      "cell_type": "code",
      "source": [],
      "metadata": {
        "id": "hNiDogfwPDzk"
      },
      "execution_count": null,
      "outputs": []
    }
  ]
}