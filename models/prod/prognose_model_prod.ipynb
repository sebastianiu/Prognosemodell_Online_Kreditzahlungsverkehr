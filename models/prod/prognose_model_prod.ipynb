{
  "nbformat": 4,
  "nbformat_minor": 0,
  "metadata": {
    "colab": {
      "provenance": [],
      "authorship_tag": "ABX9TyOXrS2uiCeeRJLbzNgLkktO",
      "include_colab_link": true
    },
    "kernelspec": {
      "name": "python3",
      "display_name": "Python 3"
    },
    "language_info": {
      "name": "python"
    }
  },
  "cells": [
    {
      "cell_type": "markdown",
      "metadata": {
        "id": "view-in-github",
        "colab_type": "text"
      },
      "source": [
        "<a href=\"https://colab.research.google.com/github/sebastianiu/Prognosemodell_Online_Kreditzahlungsverkehr/blob/main/models/prod/prognose_model_prod.ipynb\" target=\"_parent\"><img src=\"https://colab.research.google.com/assets/colab-badge.svg\" alt=\"Open In Colab\"/></a>"
      ]
    },
    {
      "cell_type": "markdown",
      "source": [
        "# 1. Bilbiotheken und optmimierte Hyperparametereinstellungen laden"
      ],
      "metadata": {
        "id": "9wdCfj0ScPUd"
      }
    },
    {
      "cell_type": "code",
      "execution_count": null,
      "metadata": {
        "id": "O8vMZ3RVcHAd"
      },
      "outputs": [],
      "source": [
        "# Bibliotheken laden\n",
        "import numpy as np\n",
        "import pandas as pd\n",
        "import matplotlib.pyplot as plt\n",
        "\n",
        "best_hyperparams_randomsearch = {'learning_rate': 0.03486207277919493, 'max_depth': 5, 'n_estimators': 120, 'subsample': 0.9998090410526672}\n",
        "\n"
      ]
    },
    {
      "cell_type": "markdown",
      "source": [
        "# 3. Datenaufbereitung"
      ],
      "metadata": {
        "id": "005GLg72O2F6"
      }
    },
    {
      "cell_type": "code",
      "source": [
        "# Bilbiotheken laden\n",
        "from sklearn.preprocessing import LabelEncoder\n",
        "from sklearn import datasets\n",
        "from sklearn.datasets import make_classification\n",
        "from sklearn.model_selection import RandomizedSearchCV, train_test_split\n",
        "from scipy.stats import randint\n",
        "import plotly.express as px\n",
        "from plotly.subplots import make_subplots\n",
        "import plotly.graph_objects as go\n",
        "from sklearn.model_selection import cross_val_score\n",
        "\n",
        "# Datenaufbereitung\n",
        "label_encoder_PSP = LabelEncoder()\n",
        "label_encoder_country = LabelEncoder()\n",
        "label_encoder_card = LabelEncoder()\n",
        "label_encoder_weekday = LabelEncoder()\n",
        "\n",
        "ML_Daten = Datensatz.filter(['amount','success','PSP','country','card','tmsp','3D_secured'], axis=1)\n",
        "\n",
        "ML_Daten['country'] = label_encoder_country.fit_transform(ML_Daten['country'])\n",
        "ML_Daten['PSP'] = label_encoder_PSP.fit_transform(ML_Daten['PSP'])\n",
        "ML_Daten['card'] = label_encoder_card.fit_transform(ML_Daten['card'])\n",
        "\n",
        "# Datumswerte in Tag/ Wochentag/ Stunde aufteilen\n",
        "ML_Daten['weekday'] = ML_Daten['tmsp'].dt.day_name()\n",
        "ML_Daten['weekday'] = label_encoder_weekday.fit_transform(ML_Daten['weekday'])\n",
        "ML_Daten['day'] = ML_Daten['tmsp'].dt.strftime('%d').astype(int)\n",
        "ML_Daten['hour'] = ML_Daten['tmsp'].dt.strftime('%H').astype(int)\n",
        "\n",
        "# Separation in X Merkmale and Zielvariable Y\n",
        "Y = ML_Daten['success']\n",
        "X = ML_Daten.filter(['amount','PSP','3D_secured','card','country','weekday','day','hour'], axis=1)\n",
        "\n",
        "# Aufteilung in Trainings- und Validierungsdatensatz\n",
        "x_train, x_test, y_train, y_test = train_test_split(X, Y, test_size=0.2)"
      ],
      "metadata": {
        "id": "3Fyc9fhFDYv-"
      },
      "execution_count": null,
      "outputs": []
    },
    {
      "cell_type": "markdown",
      "source": [
        "# 2. Daten Laden"
      ],
      "metadata": {
        "id": "3garWEz2sR9K"
      }
    },
    {
      "cell_type": "code",
      "source": [
        "url = \"https://github.com/sebastianiu/Prognosemodell_Online_Kreditzahlungsverkehr/raw/main/data/raw/PSP_Jan_Feb_2019.xlsx\"\n",
        "Datensatz = pd.read_excel(url)\n",
        "Datensatz = Datensatz.rename(columns = {\"Unnamed: 0\":\"id\"})"
      ],
      "metadata": {
        "id": "DeUdReV4UF31"
      },
      "execution_count": null,
      "outputs": []
    },
    {
      "cell_type": "markdown",
      "source": [],
      "metadata": {
        "id": "607cnRvOUFgF"
      }
    }
  ]
}