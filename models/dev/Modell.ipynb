{
  "nbformat": 4,
  "nbformat_minor": 0,
  "metadata": {
    "colab": {
      "provenance": [],
      "authorship_tag": "ABX9TyPngCBnHA1sPmhSmnSLFa6W"
    },
    "kernelspec": {
      "name": "python3",
      "display_name": "Python 3"
    },
    "language_info": {
      "name": "python"
    }
  },
  "cells": [
    {
      "cell_type": "markdown",
      "source": [
        "# 1. Daten Laden"
      ],
      "metadata": {
        "id": "3garWEz2sR9K"
      }
    },
    {
      "cell_type": "markdown",
      "source": [],
      "metadata": {
        "id": "sZhjLILnsQGB"
      }
    },
    {
      "cell_type": "code",
      "execution_count": 1,
      "metadata": {
        "colab": {
          "base_uri": "https://localhost:8080/"
        },
        "id": "Ck2B8_uTrWvS",
        "outputId": "a1376131-66df-4f47-e591-d1a6a0481bd4"
      },
      "outputs": [
        {
          "output_type": "stream",
          "name": "stdout",
          "text": [
            "Mounted at /content/drive\n"
          ]
        }
      ],
      "source": [
        "# Bibliotheken laden\n",
        "import numpy as np\n",
        "import pandas as pd\n",
        "\n",
        "# Dateien von Google Drive bereitstellen\n",
        "from google.colab import drive\n",
        "drive.mount('/content/drive')\n",
        "\n",
        "# Excel auslesen\n",
        "Datensatz = pd.read_excel('/content/drive/MyDrive/Colab Notebooks/Model Engineering/PSP_Jan_Feb_2019.xlsx',header = 0)\n",
        "Datensatz = Datensatz.rename(columns = {\"Unnamed: 0\":\"id\"})"
      ]
    },
    {
      "cell_type": "markdown",
      "source": [
        "# 2. Modellentwicklung & -bewertung"
      ],
      "metadata": {
        "id": "sIbNxa89Gax9"
      }
    },
    {
      "cell_type": "code",
      "source": [
        "# Bilbiotheken laden\n",
        "from sklearn.preprocessing import LabelEncoder\n",
        "from sklearn import datasets\n",
        "from sklearn.datasets import make_classification\n",
        "from sklearn.metrics import accuracy_score, confusion_matrix, precision_score, recall_score, ConfusionMatrixDisplay\n",
        "from sklearn.model_selection import RandomizedSearchCV, train_test_split\n",
        "from scipy.stats import randint\n",
        "from sklearn.metrics import roc_auc_score\n",
        "\n",
        "# Datenaufbereitung\n",
        "label_encoder = LabelEncoder()\n",
        "\n",
        "ML_Daten = Datensatz.filter(['amount','success','PSP','country','card','tmsp','3D_secured'], axis=1)\n",
        "\n",
        "ML_Daten['country'] = label_encoder.fit_transform(ML_Daten['country'])\n",
        "ML_Daten['PSP'] = label_encoder.fit_transform(ML_Daten['PSP'])\n",
        "ML_Daten['card'] = label_encoder.fit_transform(ML_Daten['card'])\n",
        "\n",
        "# Datumswerte in Tag/ Wochentag/ Stunde aufteilen\n",
        "ML_Daten['weekday'] = ML_Daten['tmsp'].dt.day_name()\n",
        "ML_Daten['weekday'] = label_encoder.fit_transform(ML_Daten['weekday'])\n",
        "ML_Daten['day'] = ML_Daten['tmsp'].dt.strftime('%d').astype(int)\n",
        "ML_Daten['hour'] = ML_Daten['tmsp'].dt.strftime('%H').astype(int)\n",
        "\n",
        "# Separation in X Merkmale and Zielvariable Y\n",
        "Y = ML_Daten['success']\n",
        "X = ML_Daten.filter(['amount','PSP','3D_secured','card','country','weekday','day','hour'], axis=1)\n",
        "\n",
        "# Aufteilung in Trainings- und Validierungsdatensatz\n",
        "x_train, x_test, y_train, y_test = train_test_split(X, Y, test_size=0.2)"
      ],
      "metadata": {
        "id": "4V2dUxLcs6yf"
      },
      "execution_count": 2,
      "outputs": []
    },
    {
      "cell_type": "markdown",
      "source": [
        "## 2.1 RandForest"
      ],
      "metadata": {
        "id": "NkBkTrF1tSq7"
      }
    },
    {
      "cell_type": "code",
      "source": [
        "from sklearn.ensemble import RandomForestClassifier\n",
        "\n",
        "rfc = RandomForestClassifier(max_depth = 2)\n",
        "rfc.fit(x_train, y_train)\n",
        "\n",
        "y_pred_proba = rfc.predict_proba(x_test)\n",
        "\n",
        "print('Bewertungsmetriken')\n",
        "print(f\"Vorhersage-Genauigkeit auf Basis der Trainingsdaten: {rfc.score(x_train, y_train)}\")\n",
        "print(f\"Vorhersage-Genauigkeit auf Basis der Testdaten: {rfc.score(x_test, y_test)}\")\n",
        "print(f\"AUC-Score auf Basis Testdaten: {roc_auc_score(y_test, y_pred_proba[:,0])}\")"
      ],
      "metadata": {
        "colab": {
          "base_uri": "https://localhost:8080/"
        },
        "id": "J9XsW85Htm15",
        "outputId": "cc636970-abb0-41f5-a5db-0a673d8d62a4"
      },
      "execution_count": 5,
      "outputs": [
        {
          "output_type": "stream",
          "name": "stdout",
          "text": [
            "Bewertungsmetriken\n",
            "Vorhersage-Genauigkeit auf Basis der Trainingsdaten: 0.7987998413013291\n",
            "Vorhersage-Genauigkeit auf Basis der Testdaten: 0.7903193810751835\n",
            "AUC-Score auf Basis Testdaten: 0.3815617246659295\n"
          ]
        }
      ]
    },
    {
      "cell_type": "markdown",
      "source": [
        "## 2.2 Logistische Regression"
      ],
      "metadata": {
        "id": "6Fw0v0qjta5D"
      }
    },
    {
      "cell_type": "code",
      "source": [
        "from sklearn.linear_model import LogisticRegression\n",
        "from sklearn import preprocessing\n",
        "\n",
        "x_train_scaled = preprocessing.StandardScaler().fit(x_train)\n",
        "\n",
        "lg = LogisticRegression(max_iter=10)\n",
        "lg.fit(x_train, y_train)\n",
        "\n",
        "y_pred_proba = lg.predict_proba(x_test)\n",
        "\n",
        "print(f\"Bewertung der Vorhersage-Genauigkeit auf Basis der Trainingsdaten: {lg.score(x_train, y_train)}\")\n",
        "print(f\"Bewertung der Vorhersage-Genauigkeit auf Basis der Testdaten: {lg.score(x_test, y_test)}\")\n",
        "print(f\"AUC-Score auf Basis Testdaten: {roc_auc_score(y_test, y_pred_proba[:,0])}\")"
      ],
      "metadata": {
        "colab": {
          "base_uri": "https://localhost:8080/"
        },
        "id": "QuqHF9VP3R5Q",
        "outputId": "499e4a86-910b-4cd7-aca4-0fd7b6b1c5ee"
      },
      "execution_count": 4,
      "outputs": [
        {
          "output_type": "stream",
          "name": "stdout",
          "text": [
            "Bewertung der Vorhersage-Genauigkeit auf Basis der Trainingsdaten: 0.7987998413013291\n",
            "Bewertung der Vorhersage-Genauigkeit auf Basis der Testdaten: 0.7903193810751835\n",
            "AUC-Score auf Basis Testdaten: 0.4461363369751475\n"
          ]
        },
        {
          "output_type": "stream",
          "name": "stderr",
          "text": [
            "/usr/local/lib/python3.10/dist-packages/sklearn/linear_model/_logistic.py:458: ConvergenceWarning: lbfgs failed to converge (status=1):\n",
            "STOP: TOTAL NO. of ITERATIONS REACHED LIMIT.\n",
            "\n",
            "Increase the number of iterations (max_iter) or scale the data as shown in:\n",
            "    https://scikit-learn.org/stable/modules/preprocessing.html\n",
            "Please also refer to the documentation for alternative solver options:\n",
            "    https://scikit-learn.org/stable/modules/linear_model.html#logistic-regression\n",
            "  n_iter_i = _check_optimize_result(\n"
          ]
        }
      ]
    },
    {
      "cell_type": "markdown",
      "source": [
        "## 2.3 KNN"
      ],
      "metadata": {
        "id": "Uo5MAcgPQNWX"
      }
    },
    {
      "cell_type": "code",
      "source": [
        "from sklearn.neighbors import KNeighborsClassifier\n",
        "\n",
        "KNN = KNeighborsClassifier()\n",
        "KNN.fit(x_train, y_train)\n",
        "\n",
        "y_pred_proba = KNN.predict_proba(x_test)\n",
        "\n",
        "print(f\"Bewertung der Vorhersage-Genauigkeit auf Basis der Trainingsdaten: {KNN.score(x_train, y_train)}\")\n",
        "print(f\"Bewertung der Vorhersage-Genauigkeit auf Basis der Testdaten: {KNN.score(x_test, y_test)}\")\n",
        "print(f\"AUC-Score auf Basis Testdaten: {roc_auc_score(y_test, y_pred_proba[:,0])}\")"
      ],
      "metadata": {
        "id": "Wl-WENIcQP4E",
        "outputId": "7a5abe9c-ec4b-4716-d2c9-7841217896a8",
        "colab": {
          "base_uri": "https://localhost:8080/"
        }
      },
      "execution_count": 3,
      "outputs": [
        {
          "output_type": "stream",
          "name": "stdout",
          "text": [
            "Bewertung der Vorhersage-Genauigkeit auf Basis der Trainingsdaten: 0.8170997817893275\n",
            "Bewertung der Vorhersage-Genauigkeit auf Basis der Testdaten: 0.766712953779012\n",
            "AUC-Score auf Basis Testdaten: 0.46505606152139306\n"
          ]
        }
      ]
    },
    {
      "cell_type": "markdown",
      "source": [
        "## 2.4 Support Vektor Machine"
      ],
      "metadata": {
        "id": "AJKLjaP9te-e"
      }
    }
  ]
}