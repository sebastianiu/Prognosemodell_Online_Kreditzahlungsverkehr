{
  "nbformat": 4,
  "nbformat_minor": 0,
  "metadata": {
    "colab": {
      "provenance": [],
      "authorship_tag": "ABX9TyP5ugGuo0GCH3D+aiLZqcQu"
    },
    "kernelspec": {
      "name": "python3",
      "display_name": "Python 3"
    },
    "language_info": {
      "name": "python"
    }
  },
  "cells": [
    {
      "cell_type": "markdown",
      "source": [
        "# Erstellen eines Baseline-Modells\n",
        "Einfache Entscheidungregel --> sage immer \"Misserfolg voraus\""
      ],
      "metadata": {
        "id": "hCImCJbK2mcq"
      }
    },
    {
      "cell_type": "code",
      "source": [
        "# Bibliotheken laden\n",
        "import numpy as np\n",
        "import pandas as pd\n",
        "from sklearn.metrics import accuracy_score\n",
        "\n",
        "# Excel auslesen\n",
        "url = \"https://github.com/sebastianiu/Prognosemodell_Online_Kreditzahlungsverkehr/raw/main/data/raw/PSP_Jan_Feb_2019.xlsx\"\n",
        "Datensatz = pd.read_excel(url)\n",
        "Datensatz = Datensatz.rename(columns = {\"Unnamed: 0\":\"id\"})"
      ],
      "metadata": {
        "id": "g4fGH3HJ2zvj"
      },
      "execution_count": 1,
      "outputs": []
    },
    {
      "cell_type": "code",
      "execution_count": 2,
      "metadata": {
        "id": "sr4H5UQE2i3a"
      },
      "outputs": [],
      "source": [
        "# Funktion zu Erzeugung einer Vorhersage\n",
        "def Vorhersage_erzeugen(Datensatz):\n",
        "  Vorhersage = pd.DataFrame(columns = ['predicted_success'])\n",
        "  for index, Datenzeile in Datensatz.iterrows():\n",
        "\n",
        "    current_row = pd.DataFrame({'predicted_success':0},index=[0]) #immer nur Misserfolg voraussagen\n",
        "\n",
        "    Vorhersage = pd.concat([Vorhersage, current_row])\n",
        "\n",
        "    Vorhersage['predicted_success'] = Vorhersage['predicted_success'].astype(int)\n",
        "\n",
        "  return Vorhersage"
      ]
    },
    {
      "cell_type": "code",
      "source": [
        "Vorhersage = Vorhersage_erzeugen(Datensatz)\n",
        "\n",
        "Vorhersage_Genauigkeit = round(accuracy_score(Datensatz['success'],Vorhersage['predicted_success']),3)\n",
        "print('Vorhersage-Genauigkeit: ',Vorhersage_Genauigkeit*100,'%')"
      ],
      "metadata": {
        "colab": {
          "base_uri": "https://localhost:8080/"
        },
        "id": "KSbgXPUw2y9-",
        "outputId": "761db4b8-8a4b-4a3c-de6e-7b56814a0ac4"
      },
      "execution_count": 3,
      "outputs": [
        {
          "output_type": "stream",
          "name": "stdout",
          "text": [
            "Vorhersage-Genauigkeit:  79.7 %\n"
          ]
        }
      ]
    }
  ]
}