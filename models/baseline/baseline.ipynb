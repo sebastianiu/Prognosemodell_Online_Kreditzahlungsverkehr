{
  "nbformat": 4,
  "nbformat_minor": 0,
  "metadata": {
    "colab": {
      "provenance": [],
      "authorship_tag": "ABX9TyNWXAOAVIC7frdssbWdAB2d"
    },
    "kernelspec": {
      "name": "python3",
      "display_name": "Python 3"
    },
    "language_info": {
      "name": "python"
    }
  },
  "cells": [
    {
      "cell_type": "markdown",
      "source": [
        "# Erstellen eines Baseline-Modells\n",
        "Einfache Entscheidungregel --> sage immer \"Misserfolg voraus\""
      ],
      "metadata": {
        "id": "hCImCJbK2mcq"
      }
    },
    {
      "cell_type": "code",
      "source": [
        "# Bibliotheken laden\n",
        "import numpy as np\n",
        "import pandas as pd\n",
        "from sklearn.metrics import accuracy_score\n",
        "\n",
        "# Dateien von Google Drive bereitstellen\n",
        "from google.colab import drive\n",
        "drive.mount('/content/drive')\n",
        "\n",
        "# Excel auslesen\n",
        "Datensatz = pd.read_excel('/content/drive/MyDrive/Colab Notebooks/Model Engineering/PSP_Jan_Feb_2019.xlsx',header = 0)\n",
        "Datensatz = Datensatz.rename(columns = {\"Unnamed: 0\":\"id\"})"
      ],
      "metadata": {
        "colab": {
          "base_uri": "https://localhost:8080/"
        },
        "id": "g4fGH3HJ2zvj",
        "outputId": "67b089cc-43b9-4ec3-a52a-96570f202b23"
      },
      "execution_count": 1,
      "outputs": [
        {
          "output_type": "stream",
          "name": "stdout",
          "text": [
            "Mounted at /content/drive\n"
          ]
        }
      ]
    },
    {
      "cell_type": "code",
      "execution_count": 6,
      "metadata": {
        "id": "sr4H5UQE2i3a"
      },
      "outputs": [],
      "source": [
        "# Funktion zu Erzeugung einer Vorhersage\n",
        "def Vorhersage_erzeugen(Datensatz):\n",
        "  Vorhersage = pd.DataFrame(columns = ['predicted_success'])\n",
        "  for index, Datenzeile in Datensatz.iterrows():\n",
        "\n",
        "    current_row = pd.DataFrame({'predicted_success':0},index=[0]) #immer nur Misserfolg voraussagen\n",
        "\n",
        "    Vorhersage = pd.concat([Vorhersage, current_row])\n",
        "\n",
        "    Vorhersage['predicted_success'] = Vorhersage['predicted_success'].astype(int)\n",
        "\n",
        "  return Vorhersage"
      ]
    },
    {
      "cell_type": "code",
      "source": [
        "Vorhersage = Vorhersage_erzeugen(Datensatz)\n",
        "\n",
        "Vorhersage_Genauigkeit = round(accuracy_score(Datensatz['success'],Vorhersage['predicted_success']),3)\n",
        "print('Vorhersage-Genauigkeit: ',Vorhersage_Genauigkeit*100,'%')"
      ],
      "metadata": {
        "colab": {
          "base_uri": "https://localhost:8080/"
        },
        "id": "KSbgXPUw2y9-",
        "outputId": "91ce64a2-19af-40a3-c3d6-6789d8cdbe01"
      },
      "execution_count": 7,
      "outputs": [
        {
          "output_type": "stream",
          "name": "stdout",
          "text": [
            "Vorhersage-Genauigkeit:  79.7 %\n"
          ]
        }
      ]
    },
    {
      "cell_type": "code",
      "source": [],
      "metadata": {
        "colab": {
          "base_uri": "https://localhost:8080/"
        },
        "id": "VP5QL1JjCH0l",
        "outputId": "9babeeaa-6c71-4aac-9b68-78b24bfdf1b8"
      },
      "execution_count": 4,
      "outputs": [
        {
          "output_type": "stream",
          "name": "stdout",
          "text": [
            "Vorhersage-Genauigkeit:  79.7 %\n"
          ]
        }
      ]
    },
    {
      "cell_type": "code",
      "source": [],
      "metadata": {
        "id": "_r8zRQR7Dusx"
      },
      "execution_count": null,
      "outputs": []
    }
  ]
}