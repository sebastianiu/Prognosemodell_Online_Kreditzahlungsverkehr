{
  "nbformat": 4,
  "nbformat_minor": 0,
  "metadata": {
    "colab": {
      "provenance": [],
      "authorship_tag": "ABX9TyPEDBCPYb/BQKCdunMBlHoW",
      "include_colab_link": true
    },
    "kernelspec": {
      "name": "python3",
      "display_name": "Python 3"
    },
    "language_info": {
      "name": "python"
    }
  },
  "cells": [
    {
      "cell_type": "markdown",
      "metadata": {
        "id": "view-in-github",
        "colab_type": "text"
      },
      "source": [
        "<a href=\"https://colab.research.google.com/github/sebastianiu/Prognosemodell_Online_Kreditzahlungsverkehr/blob/main/models/test/model_tuning.ipynb\" target=\"_parent\"><img src=\"https://colab.research.google.com/assets/colab-badge.svg\" alt=\"Open In Colab\"/></a>"
      ]
    },
    {
      "cell_type": "markdown",
      "source": [
        "# 1. Daten Laden"
      ],
      "metadata": {
        "id": "3garWEz2sR9K"
      }
    },
    {
      "cell_type": "code",
      "source": [
        "# Bibliotheken laden\n",
        "import numpy as np\n",
        "import pandas as pd\n",
        "import matplotlib.pyplot as plt\n",
        "\n",
        "url = \"https://github.com/sebastianiu/Prognosemodell_Online_Kreditzahlungsverkehr/raw/main/data/raw/PSP_Jan_Feb_2019.xlsx\"\n",
        "Datensatz = pd.read_excel(url)\n",
        "Datensatz = Datensatz.rename(columns = {\"Unnamed: 0\":\"id\"})"
      ],
      "metadata": {
        "id": "DeUdReV4UF31"
      },
      "execution_count": 1,
      "outputs": []
    },
    {
      "cell_type": "markdown",
      "source": [],
      "metadata": {
        "id": "607cnRvOUFgF"
      }
    },
    {
      "cell_type": "markdown",
      "source": [
        "# 2. Datenaufbereitung"
      ],
      "metadata": {
        "id": "005GLg72O2F6"
      }
    },
    {
      "cell_type": "code",
      "source": [
        "# Bilbiotheken laden\n",
        "from sklearn.preprocessing import LabelEncoder\n",
        "from sklearn import datasets\n",
        "from sklearn.datasets import make_classification\n",
        "from sklearn.model_selection import RandomizedSearchCV, train_test_split\n",
        "from scipy.stats import randint\n",
        "import plotly.express as px\n",
        "from plotly.subplots import make_subplots\n",
        "import plotly.graph_objects as go\n",
        "from sklearn.model_selection import cross_val_score\n",
        "\n",
        "# Datenaufbereitung\n",
        "label_encoder_PSP = LabelEncoder()\n",
        "label_encoder_country = LabelEncoder()\n",
        "label_encoder_card = LabelEncoder()\n",
        "label_encoder_weekday = LabelEncoder()\n",
        "\n",
        "ML_Daten = Datensatz.filter(['amount','success','PSP','country','card','tmsp','3D_secured'], axis=1)\n",
        "\n",
        "ML_Daten['country'] = label_encoder_country.fit_transform(ML_Daten['country'])\n",
        "ML_Daten['PSP'] = label_encoder_PSP.fit_transform(ML_Daten['PSP'])\n",
        "ML_Daten['card'] = label_encoder_card.fit_transform(ML_Daten['card'])\n",
        "\n",
        "# Datumswerte in Tag/ Wochentag/ Stunde aufteilen\n",
        "ML_Daten['weekday'] = ML_Daten['tmsp'].dt.day_name()\n",
        "ML_Daten['weekday'] = label_encoder_weekday.fit_transform(ML_Daten['weekday'])\n",
        "ML_Daten['day'] = ML_Daten['tmsp'].dt.strftime('%d').astype(int)\n",
        "ML_Daten['hour'] = ML_Daten['tmsp'].dt.strftime('%H').astype(int)\n",
        "\n",
        "# Separation in X Merkmale and Zielvariable Y\n",
        "Y = ML_Daten['success']\n",
        "X = ML_Daten.filter(['amount','PSP','3D_secured','card','country','weekday','day','hour'], axis=1)\n",
        "\n",
        "# Aufteilung in Trainings- und Validierungsdatensatz\n",
        "x_train, x_test, y_train, y_test = train_test_split(X, Y, test_size=0.2)"
      ],
      "metadata": {
        "id": "3Fyc9fhFDYv-"
      },
      "execution_count": 2,
      "outputs": []
    },
    {
      "cell_type": "markdown",
      "source": [
        "# 3. Bewertungsfunktionen"
      ],
      "metadata": {
        "id": "K472PFtoDQrH"
      }
    },
    {
      "cell_type": "code",
      "source": [
        "from sklearn.metrics import  roc_curve,auc,accuracy_score, f1_score\n",
        "\n",
        "def Visualisierung_AUC(model,x_test,y_test):\n",
        "  # Berechnung der Falsch-Positiv-Rate und der Wahr-Positiv-Rate für alle Schwellenwerte der Klassifizierung\n",
        "  probs = model.predict_proba(x_test)\n",
        "  preds = probs[:,1]\n",
        "  fpr, tpr, threshold = roc_curve(y_test, preds)\n",
        "  auc_value = round(auc(fpr,tpr),2)\n",
        "  df = pd.DataFrame(np.column_stack([fpr, tpr, threshold]), columns=['FPR', 'TPR', 'Threshold'])\n",
        "  # Visualisierung\n",
        "  fig = px.line(df, x='FPR', y=\"TPR\",title = f'AUC-Wert = {auc_value}')\n",
        "  fig.update_layout(shapes = [{'type': 'line', 'yref': 'paper', 'xref': 'paper', 'y0': 0, 'y1': 1, 'x0': 0, 'x1': 1,'line_color':'red','line_dash':'dot'}])\n",
        "  fig.show()\n",
        "\n",
        "def Visualisierung_Class_Errors(model,x_test,y_test):\n",
        "  #Vorhersage\n",
        "  y_pred = model.predict(x_test)\n",
        "  #Zippe Daten in Liste\n",
        "  list(zip(y_pred,y_test))\n",
        "  #Entzippe Liste\n",
        "  unzip_file = [{'y_pred':y_pred,'y_test':y_test}for y_pred,y_test in zip(y_pred,y_test)]\n",
        "  #Estelle DataFrame\n",
        "  data = pd.DataFrame(unzip_file)\n",
        "  #Ermittel Classification Error\n",
        "  data['class_error'] = abs(data.y_pred-data.y_test)\n",
        "  data = pd.concat([data,x_test], axis=1, join=\"inner\")\n",
        "  data['zaehler'] = 1\n",
        "\n",
        "  # Decode Features\n",
        "  data['PSP'] = label_encoder_PSP.inverse_transform(data['PSP'])\n",
        "  data['country'] = label_encoder_country.inverse_transform(data['country'])\n",
        "  data['card'] = label_encoder_card.inverse_transform(data['card'])\n",
        "  data['weekday'] = label_encoder_weekday.inverse_transform(data['weekday'])\n",
        "\n",
        "  max = data.amount.max()\n",
        "\n",
        "  def create_amount_quantiles(row):\n",
        "    if row['amount'] > 0 and row['amount'] <= max/4:\n",
        "      result = '0 - '+str(max/4)\n",
        "    else:\n",
        "      if row['amount'] > max/4 and row['amount'] <= max/4*2:\n",
        "        result = str(max/4+1)+' - '+str(max/4*2)\n",
        "      else:\n",
        "        if row['amount'] > max/4*2 and row['amount'] <= max/4*3:\n",
        "          result = str(max/4*2+1)+' - '+str(max/4*3)\n",
        "        else:\n",
        "          result = str(max/4*3+1)+' - '+str(max)\n",
        "    return result\n",
        "\n",
        "  data['amount_quantiles'] = data.apply(create_amount_quantiles, axis=1)\n",
        "\n",
        "\n",
        "  field_list = ['PSP','card','country','weekday','3D_secured','amount_quantiles']\n",
        "  error_rates = pd.DataFrame(columns=['Merkmal','Merkmalswert','class_error','zaehler'])\n",
        "\n",
        "  for field in field_list:\n",
        "    errors = data.groupby(data[field])['class_error'].sum()\n",
        "    total = data.groupby(data[field])['zaehler'].sum()\n",
        "    error_rates_tmp = pd.concat([errors, total], axis=1)\n",
        "    error_rates_tmp['Merkmalswert'] = error_rates_tmp.index.values\n",
        "    error_rates_tmp['Merkmal']=field\n",
        "    error_rates_tmp.reset_index()\n",
        "    error_rates = pd.concat([error_rates,error_rates_tmp])\n",
        "\n",
        "  error_rates['class_error_rate'] = error_rates.zaehler/error_rates.class_error\n",
        "  max_error_rate = error_rates['class_error_rate'].max()\n",
        "\n",
        "  # Visualisiere Verteilungen\n",
        "  fig = px.bar(error_rates, x='Merkmalswert', y='class_error_rate', color= 'Merkmal',labels={'class_error_rate':'Fehlerrate in %'},title=\"Verteilung der Klassifizierungsfehler\")\n",
        "  fig.add_hline(y=max_error_rate,line_dash=\"dot\",annotation_text=str(round(max_error_rate,2))+' %',annotation_position=\"top left\")\n",
        "  fig.show()\n",
        "\n",
        "#Funktionen zur Modellbewertung\n",
        "def Model_Bewertung(model,x_train, y_train,x_test, y_test,X,Y):\n",
        "  y_pred_proba = model.predict_proba(x_test)\n",
        "  cross_validation_tmp = cross_val_score(model, X, Y, cv=6)\n",
        "  cross_validation=[]\n",
        "  for value in cross_validation_tmp:\n",
        "    new = round(value,3)\n",
        "    cross_validation.append(new)\n",
        "\n",
        "  #Vorhersagen für Bewertung erzeugen\n",
        "  y_train_pred = model.predict(x_train)\n",
        "  y_test_pred = model.predict(x_test)\n",
        "\n",
        "  print('Bewertungsmetriken')\n",
        "  print('#'*20)\n",
        "  print(f\"Vorhersage-Genauigkeit auf Basis der Trainingsdaten: {round(accuracy_score(y_train, y_train_pred),2)}\")\n",
        "  print(f\"Vorhersage-Genauigkeit auf Basis der Testdaten: {round(accuracy_score(y_test, y_test_pred),2)}\")\n",
        "  print(f\"Vorhersage-Genauigkeit nach Kreuz-Validierung: {round(sum(cross_validation)/len(cross_validation),2)}\")\n",
        "  print('*'*15)\n",
        "  f1_score_train = round(f1_score(y_train_pred,y_train,zero_division=1.0,average='weighted'),2)\n",
        "  f1_score_test = round(f1_score(y_test_pred,y_test,zero_division=1.0,average='weighted'),2)\n",
        "  print(f\"F1-Score auf Basis der Trainingsdaten: {f1_score_train}\")\n",
        "  print(f\"F1-Score auf Basis der Testdaten: {f1_score_test}\")\n",
        "  print('*'*15)"
      ],
      "metadata": {
        "id": "tu0wtnR9DhaO"
      },
      "execution_count": 3,
      "outputs": []
    },
    {
      "cell_type": "markdown",
      "source": [
        "# 3. Bestes Modell feintunen"
      ],
      "metadata": {
        "id": "nC2o1QG23YI2"
      }
    },
    {
      "cell_type": "code",
      "source": [
        "# import machine learning libraries\n",
        "import xgboost as xgb\n",
        "from sklearn.metrics import accuracy_score\n",
        "\n",
        "\n",
        "# import packages for hyperparameters tuning\n",
        "from hyperopt import STATUS_OK, Trials, fmin, hp, tpe\n"
      ],
      "metadata": {
        "id": "SRqTddUfG9Js"
      },
      "execution_count": 5,
      "outputs": []
    },
    {
      "cell_type": "markdown",
      "source": [
        "### 3.1 Merkmale reduzieren anhand Erkenntissen aus EDA --> nicht möglich, da Merkmalsgewichtung nicht einschätzbar war"
      ],
      "metadata": {
        "id": "3UWzZXHcUhRR"
      }
    },
    {
      "cell_type": "markdown",
      "source": [
        "## 3.2 Hyperparameter-Tuning mittels Bayesian Optimization with HYPEROPT für XGBoost Classifier\n",
        "\n",
        "Bei der Optimierung geht es darum, eine Funktion mit minimalen Kosten zu finden, die eine insgesamt bessere Leistung eines Modells sowohl im Zugsatz als auch im Testsatz bestimmt.\n",
        "In diesem Prozess trainieren wir das Modell mit verschiedenen möglichen Parameterbereichen, bis wir das am besten geeignete Modell erhalten.\n",
        "Die Optimierung von Hyperparametern hilft bei der Bestimmung der optimal abgestimmten Parameter und der Rückgabe des am besten geeigneten Modells. Dies ist die beste Vorgehensweise beim Erstellen eines ML- oder DL-Modells.\n",
        "In diesem Abschnitt besprechen wir eine der genauesten und erfolgreichsten Methoden zur Optimierung von Hyperparametern, nämlich die Bayes'sche Optimierung mit HYPEROPT.\n",
        "\n",
        "HYPEROPT ist eine leistungsstarke Python-Bibliothek, die einen Hyperparameterraum von Werten durchsucht und die bestmöglichen Werte findet, die das Minimum der Verlustfunktion ergeben. Die Bayes'sche Optimierungstechnik verwendet Hyperopt, um die Hyperparameter des Modells abzustimmen. Hyperopt ist eine Python-Bibliothek, die zur Optimierung von Modellhyperparametern verwendet wird.\n",
        "\n",
        "## Phasen\n",
        "1. Domänenraum initialisieren --> Range an Eingabewerten, die getestet werden\n"
      ],
      "metadata": {
        "id": "voOcYQnsZ7BJ"
      }
    },
    {
      "cell_type": "code",
      "source": [
        "space={'max_depth': hp.quniform(\"max_depth\", 3, 18, 1),\n",
        "        'gamma': hp.uniform ('gamma', 1,9),\n",
        "        'reg_alpha' : hp.quniform('reg_alpha', 40,180,1),\n",
        "        'reg_lambda' : hp.uniform('reg_lambda', 0,1),\n",
        "        'colsample_bytree' : hp.uniform('colsample_bytree', 0.5,1),\n",
        "        'min_child_weight' : hp.quniform('min_child_weight', 0, 10, 1),\n",
        "        'n_estimators': 180,\n",
        "        'seed': 0\n",
        "    }\n"
      ],
      "metadata": {
        "id": "z3EaSubP4wDS"
      },
      "execution_count": 6,
      "outputs": []
    },
    {
      "cell_type": "code",
      "source": [
        "from sklearn.model_selection import GridSearchCV\n",
        "from sklearn.model_selection import RepeatedStratifiedKFold\n",
        "\n",
        "XGBC = xgb.XGBClassifier()\n",
        "\n",
        "# Hyper-Parameter für Raster\n",
        "max_depth= [3, 18, 1]\n",
        "gamma=  [1,9],\n",
        "reg_alpha = [40,180,1],\n",
        "reg_lambda = [0,1],\n",
        "colsample_bytree = [0,1],\n",
        "min_child_weight = [0, 10, 1],\n",
        "n_estimators= [180]\n",
        "seed= [0]\n",
        "\n",
        "# define grid search\n",
        "grid = dict(\n",
        "    max_depth =\tmax_depth,\n",
        "  gamma = gamma,\n",
        "  reg_alpha = reg_alpha,\n",
        "  reg_lambda = reg_lambda,\n",
        "  colsample_bytree = colsample_bytree,\n",
        "  min_child_weight = min_child_weight,\n",
        "  n_estimators = n_estimators,\n",
        "  seed = seed)\n",
        "\n",
        "cv = RepeatedStratifiedKFold(n_splits=10, n_repeats=3, random_state=1)\n",
        "\n",
        "#Rastersuche\n",
        "grid_search = GridSearchCV(estimator=XGBC, param_grid=grid, n_jobs=-1, cv=cv, scoring='accuracy',error_score=0)\n",
        "grid_result = grid_search.fit(x_train,y_train)\n",
        "\n",
        "# summarize results\n",
        "print(\"Best: %f using %s\" % (grid_result.best_score_, grid_result.best_params_))\n",
        "means = grid_result.cv_results_['mean_test_score']\n",
        "stds = grid_result.cv_results_['std_test_score']\n",
        "params = grid_result.cv_results_['params']\n",
        "for mean, stdev, param in zip(means, stds, params):\n",
        "    print(\"%f (%f) with: %r\" % (mean, stdev, param))\n",
        "\n",
        "#Bewertung der ermittelten optimalen HP\n",
        "print('Model-Bewertung mit Hyper-Parametern ermittelt mit GridSearchCV')\n",
        "print(f'Vorhersage-Genauigkeit auf Basis der Trainingsdaten: {grid_result.score(x_train2,y_train2):.3f}')\n",
        "print(f'Vorhersage-Genauigkeit auf Basis der Testdaten: {grid_result.score(x_test2,y_test2):.3f}')"
      ],
      "metadata": {
        "id": "PWTq-UjvIvUt",
        "outputId": "9ee5c58a-1d29-45a1-ed0b-c5590ba9e11b",
        "colab": {
          "base_uri": "https://localhost:8080/",
          "height": 789
        }
      },
      "execution_count": 23,
      "outputs": [
        {
          "output_type": "error",
          "ename": "ValueError",
          "evalue": "ignored",
          "traceback": [
            "\u001b[0;31m---------------------------------------------------------------------------\u001b[0m",
            "\u001b[0;31mValueError\u001b[0m                                Traceback (most recent call last)",
            "\u001b[0;32m<ipython-input-23-fc4bd21e8e01>\u001b[0m in \u001b[0;36m<cell line: 31>\u001b[0;34m()\u001b[0m\n\u001b[1;32m     29\u001b[0m \u001b[0;31m#Rastersuche\u001b[0m\u001b[0;34m\u001b[0m\u001b[0;34m\u001b[0m\u001b[0m\n\u001b[1;32m     30\u001b[0m \u001b[0mgrid_search\u001b[0m \u001b[0;34m=\u001b[0m \u001b[0mGridSearchCV\u001b[0m\u001b[0;34m(\u001b[0m\u001b[0mestimator\u001b[0m\u001b[0;34m=\u001b[0m\u001b[0mXGBC\u001b[0m\u001b[0;34m,\u001b[0m \u001b[0mparam_grid\u001b[0m\u001b[0;34m=\u001b[0m\u001b[0mgrid\u001b[0m\u001b[0;34m,\u001b[0m \u001b[0mn_jobs\u001b[0m\u001b[0;34m=\u001b[0m\u001b[0;34m-\u001b[0m\u001b[0;36m1\u001b[0m\u001b[0;34m,\u001b[0m \u001b[0mcv\u001b[0m\u001b[0;34m=\u001b[0m\u001b[0mcv\u001b[0m\u001b[0;34m,\u001b[0m \u001b[0mscoring\u001b[0m\u001b[0;34m=\u001b[0m\u001b[0;34m'accuracy'\u001b[0m\u001b[0;34m,\u001b[0m\u001b[0merror_score\u001b[0m\u001b[0;34m=\u001b[0m\u001b[0;36m0\u001b[0m\u001b[0;34m)\u001b[0m\u001b[0;34m\u001b[0m\u001b[0;34m\u001b[0m\u001b[0m\n\u001b[0;32m---> 31\u001b[0;31m \u001b[0mgrid_result\u001b[0m \u001b[0;34m=\u001b[0m \u001b[0mgrid_search\u001b[0m\u001b[0;34m.\u001b[0m\u001b[0mfit\u001b[0m\u001b[0;34m(\u001b[0m\u001b[0mx_train\u001b[0m\u001b[0;34m,\u001b[0m\u001b[0my_train\u001b[0m\u001b[0;34m)\u001b[0m\u001b[0;34m\u001b[0m\u001b[0;34m\u001b[0m\u001b[0m\n\u001b[0m\u001b[1;32m     32\u001b[0m \u001b[0;34m\u001b[0m\u001b[0m\n\u001b[1;32m     33\u001b[0m \u001b[0;31m# summarize results\u001b[0m\u001b[0;34m\u001b[0m\u001b[0;34m\u001b[0m\u001b[0m\n",
            "\u001b[0;32m/usr/local/lib/python3.10/dist-packages/sklearn/model_selection/_search.py\u001b[0m in \u001b[0;36mfit\u001b[0;34m(self, X, y, groups, **fit_params)\u001b[0m\n\u001b[1;32m    872\u001b[0m                 \u001b[0;32mreturn\u001b[0m \u001b[0mresults\u001b[0m\u001b[0;34m\u001b[0m\u001b[0;34m\u001b[0m\u001b[0m\n\u001b[1;32m    873\u001b[0m \u001b[0;34m\u001b[0m\u001b[0m\n\u001b[0;32m--> 874\u001b[0;31m             \u001b[0mself\u001b[0m\u001b[0;34m.\u001b[0m\u001b[0m_run_search\u001b[0m\u001b[0;34m(\u001b[0m\u001b[0mevaluate_candidates\u001b[0m\u001b[0;34m)\u001b[0m\u001b[0;34m\u001b[0m\u001b[0;34m\u001b[0m\u001b[0m\n\u001b[0m\u001b[1;32m    875\u001b[0m \u001b[0;34m\u001b[0m\u001b[0m\n\u001b[1;32m    876\u001b[0m             \u001b[0;31m# multimetric is determined here because in the case of a callable\u001b[0m\u001b[0;34m\u001b[0m\u001b[0;34m\u001b[0m\u001b[0m\n",
            "\u001b[0;32m/usr/local/lib/python3.10/dist-packages/sklearn/model_selection/_search.py\u001b[0m in \u001b[0;36m_run_search\u001b[0;34m(self, evaluate_candidates)\u001b[0m\n\u001b[1;32m   1386\u001b[0m     \u001b[0;32mdef\u001b[0m \u001b[0m_run_search\u001b[0m\u001b[0;34m(\u001b[0m\u001b[0mself\u001b[0m\u001b[0;34m,\u001b[0m \u001b[0mevaluate_candidates\u001b[0m\u001b[0;34m)\u001b[0m\u001b[0;34m:\u001b[0m\u001b[0;34m\u001b[0m\u001b[0;34m\u001b[0m\u001b[0m\n\u001b[1;32m   1387\u001b[0m         \u001b[0;34m\"\"\"Search all candidates in param_grid\"\"\"\u001b[0m\u001b[0;34m\u001b[0m\u001b[0;34m\u001b[0m\u001b[0m\n\u001b[0;32m-> 1388\u001b[0;31m         \u001b[0mevaluate_candidates\u001b[0m\u001b[0;34m(\u001b[0m\u001b[0mParameterGrid\u001b[0m\u001b[0;34m(\u001b[0m\u001b[0mself\u001b[0m\u001b[0;34m.\u001b[0m\u001b[0mparam_grid\u001b[0m\u001b[0;34m)\u001b[0m\u001b[0;34m)\u001b[0m\u001b[0;34m\u001b[0m\u001b[0;34m\u001b[0m\u001b[0m\n\u001b[0m\u001b[1;32m   1389\u001b[0m \u001b[0;34m\u001b[0m\u001b[0m\n\u001b[1;32m   1390\u001b[0m \u001b[0;34m\u001b[0m\u001b[0m\n",
            "\u001b[0;32m/usr/local/lib/python3.10/dist-packages/sklearn/model_selection/_search.py\u001b[0m in \u001b[0;36mevaluate_candidates\u001b[0;34m(candidate_params, cv, more_results)\u001b[0m\n\u001b[1;32m    849\u001b[0m                     )\n\u001b[1;32m    850\u001b[0m \u001b[0;34m\u001b[0m\u001b[0m\n\u001b[0;32m--> 851\u001b[0;31m                 \u001b[0m_warn_or_raise_about_fit_failures\u001b[0m\u001b[0;34m(\u001b[0m\u001b[0mout\u001b[0m\u001b[0;34m,\u001b[0m \u001b[0mself\u001b[0m\u001b[0;34m.\u001b[0m\u001b[0merror_score\u001b[0m\u001b[0;34m)\u001b[0m\u001b[0;34m\u001b[0m\u001b[0;34m\u001b[0m\u001b[0m\n\u001b[0m\u001b[1;32m    852\u001b[0m \u001b[0;34m\u001b[0m\u001b[0m\n\u001b[1;32m    853\u001b[0m                 \u001b[0;31m# For callable self.scoring, the return type is only know after\u001b[0m\u001b[0;34m\u001b[0m\u001b[0;34m\u001b[0m\u001b[0m\n",
            "\u001b[0;32m/usr/local/lib/python3.10/dist-packages/sklearn/model_selection/_validation.py\u001b[0m in \u001b[0;36m_warn_or_raise_about_fit_failures\u001b[0;34m(results, error_score)\u001b[0m\n\u001b[1;32m    365\u001b[0m                 \u001b[0;34mf\"Below are more details about the failures:\\n{fit_errors_summary}\"\u001b[0m\u001b[0;34m\u001b[0m\u001b[0;34m\u001b[0m\u001b[0m\n\u001b[1;32m    366\u001b[0m             )\n\u001b[0;32m--> 367\u001b[0;31m             \u001b[0;32mraise\u001b[0m \u001b[0mValueError\u001b[0m\u001b[0;34m(\u001b[0m\u001b[0mall_fits_failed_message\u001b[0m\u001b[0;34m)\u001b[0m\u001b[0;34m\u001b[0m\u001b[0;34m\u001b[0m\u001b[0m\n\u001b[0m\u001b[1;32m    368\u001b[0m \u001b[0;34m\u001b[0m\u001b[0m\n\u001b[1;32m    369\u001b[0m         \u001b[0;32melse\u001b[0m\u001b[0;34m:\u001b[0m\u001b[0;34m\u001b[0m\u001b[0;34m\u001b[0m\u001b[0m\n",
            "\u001b[0;31mValueError\u001b[0m: \nAll the 90 fits failed.\nIt is very likely that your model is misconfigured.\nYou can try to debug the error by setting error_score='raise'.\n\nBelow are more details about the failures:\n--------------------------------------------------------------------------------\n90 fits failed with the following error:\nTraceback (most recent call last):\n  File \"/usr/local/lib/python3.10/dist-packages/sklearn/model_selection/_validation.py\", line 686, in _fit_and_score\n    estimator.fit(X_train, y_train, **fit_params)\n  File \"/usr/local/lib/python3.10/dist-packages/xgboost/core.py\", line 729, in inner_f\n    return func(**kwargs)\n  File \"/usr/local/lib/python3.10/dist-packages/xgboost/sklearn.py\", line 1515, in fit\n    self._Booster = train(\n  File \"/usr/local/lib/python3.10/dist-packages/xgboost/core.py\", line 729, in inner_f\n    return func(**kwargs)\n  File \"/usr/local/lib/python3.10/dist-packages/xgboost/training.py\", line 181, in train\n    bst.update(dtrain, i, obj)\n  File \"/usr/local/lib/python3.10/dist-packages/xgboost/core.py\", line 2049, in update\n    _check_call(\n  File \"/usr/local/lib/python3.10/dist-packages/xgboost/core.py\", line 281, in _check_call\n    raise XGBoostError(py_str(_LIB.XGBGetLastError()))\nxgboost.core.XGBoostError: Invalid Parameter format for colsample_bytree expect float but value='[0, 1]'\n"
          ]
        }
      ]
    },
    {
      "cell_type": "markdown",
      "source": [
        "Die verfügbaren Hyperopt-Optimierungsalgorithmen sind:\n",
        "\n",
        "hp.choice(label, options) – Gibt eine der Optionen zurück, die eine Liste oder ein Tupel sein sollte.\n",
        "\n",
        "hp.randint(label, Upper) – Gibt eine zufällige Ganzzahl im Bereich [0, Upper) zurück.\n",
        "\n",
        "hp.uniform(label, low, high) – Gibt einen Wert zurück, der gleichmäßig zwischen niedrig und hoch liegt.\n",
        "\n",
        "hp.quniform(label, low, high, q) – Gibt einen Wert Round(uniform(low, high) / q) * q zurück, d. h. es rundet die Dezimalwerte und gibt eine ganze Zahl zurück.\n",
        "\n",
        "hp.normal(label, mean, std) – Gibt einen realen Wert zurück, der normalverteilt mit Mittelwert und Standardabweichung Sigma ist."
      ],
      "metadata": {
        "id": "pKdrGO7nGS7u"
      }
    },
    {
      "cell_type": "markdown",
      "source": [
        "\n",
        "2. Zielfunktion definieren: Funktion, die  realen Wert zurückgibt, den es zu minimieren gilt --> Validierungsfehler in Bezug auf die Hyperparameter minimieren. Wenn der wahre Wert die Genauigkeit ist, dann wollen wir ihn maximieren. Dann sollte die Funktion das Negativ dieser Metrik zurückgeben."
      ],
      "metadata": {
        "id": "hQaV9ewXGAgD"
      }
    },
    {
      "cell_type": "code",
      "source": [
        "def objective(space):\n",
        "    clf= xgb.XGBClassifier(\n",
        "                    n_estimators =space['n_estimators'], max_depth = int(space['max_depth']), gamma = space['gamma'],\n",
        "                    reg_alpha = int(space['reg_alpha']),min_child_weight=int(space['min_child_weight']),\n",
        "                    colsample_bytree=int(space['colsample_bytree']))\n",
        "\n",
        "    evaluation = [( x_train, y_train), ( x_test, y_test)]\n",
        "\n",
        "    clf.fit(x_train, y_train,\n",
        "            eval_set=evaluation, eval_metric=\"auc\",\n",
        "            early_stopping_rounds=10,verbose=False)\n",
        "\n",
        "    pred = clf.predict(x_test)\n",
        "    accuracy = accuracy_score(y_test, pred>0.5)\n",
        "    print (\"SCORE:\", accuracy)\n",
        "    return {'loss': -accuracy, 'status': STATUS_OK }"
      ],
      "metadata": {
        "id": "PNaopqaQGf22"
      },
      "execution_count": 14,
      "outputs": []
    },
    {
      "cell_type": "markdown",
      "source": [
        "3. Optimierungsalgorithmus\n",
        "Dies ist die Methode, mit der die Ersatzzielfunktion erstellt und die nächsten auszuwertenden Werte ausgewählt werden."
      ],
      "metadata": {
        "id": "Lm47v2wKGaU0"
      }
    },
    {
      "cell_type": "code",
      "source": [
        "trials = Trials()\n",
        "\n",
        "best_hyperparams = fmin(fn = objective,\n",
        "                        space = space,\n",
        "                        algo = tpe.suggest,\n",
        "                        max_evals = 100,\n",
        "                        trials = trials)"
      ],
      "metadata": {
        "colab": {
          "base_uri": "https://localhost:8080/"
        },
        "id": "cBdhq0odHNa-",
        "outputId": "128f72eb-00f8-4f37-8fe3-7cfc523ad258"
      },
      "execution_count": 15,
      "outputs": [
        {
          "output_type": "stream",
          "name": "stdout",
          "text": [
            "\r  0%|          | 0/100 [00:00<?, ?trial/s, best loss=?]"
          ]
        },
        {
          "output_type": "stream",
          "name": "stderr",
          "text": [
            "/usr/local/lib/python3.10/dist-packages/xgboost/sklearn.py:885: UserWarning: `eval_metric` in `fit` method is deprecated for better compatibility with scikit-learn, use `eval_metric` in constructor or`set_params` instead.\n",
            "  warnings.warn(\n",
            "\n",
            "/usr/local/lib/python3.10/dist-packages/xgboost/sklearn.py:885: UserWarning: `early_stopping_rounds` in `fit` method is deprecated for better compatibility with scikit-learn, use `early_stopping_rounds` in constructor or`set_params` instead.\n",
            "  warnings.warn(\n",
            "\n"
          ]
        },
        {
          "output_type": "stream",
          "name": "stdout",
          "text": [
            "SCORE:\n",
            "0.7939892878397143\n",
            "  1%|          | 1/100 [00:01<01:58,  1.20s/trial, best loss: -0.7939892878397143]"
          ]
        },
        {
          "output_type": "stream",
          "name": "stderr",
          "text": [
            "/usr/local/lib/python3.10/dist-packages/xgboost/sklearn.py:885: UserWarning: `eval_metric` in `fit` method is deprecated for better compatibility with scikit-learn, use `eval_metric` in constructor or`set_params` instead.\n",
            "  warnings.warn(\n",
            "\n",
            "/usr/local/lib/python3.10/dist-packages/xgboost/sklearn.py:885: UserWarning: `early_stopping_rounds` in `fit` method is deprecated for better compatibility with scikit-learn, use `early_stopping_rounds` in constructor or`set_params` instead.\n",
            "  warnings.warn(\n",
            "\n"
          ]
        },
        {
          "output_type": "stream",
          "name": "stdout",
          "text": [
            "SCORE:\n",
            "0.7939892878397143\n",
            "  2%|▏         | 2/100 [00:02<02:00,  1.23s/trial, best loss: -0.7939892878397143]"
          ]
        },
        {
          "output_type": "stream",
          "name": "stderr",
          "text": [
            "/usr/local/lib/python3.10/dist-packages/xgboost/sklearn.py:885: UserWarning: `eval_metric` in `fit` method is deprecated for better compatibility with scikit-learn, use `eval_metric` in constructor or`set_params` instead.\n",
            "  warnings.warn(\n",
            "\n",
            "/usr/local/lib/python3.10/dist-packages/xgboost/sklearn.py:885: UserWarning: `early_stopping_rounds` in `fit` method is deprecated for better compatibility with scikit-learn, use `early_stopping_rounds` in constructor or`set_params` instead.\n",
            "  warnings.warn(\n",
            "\n"
          ]
        },
        {
          "output_type": "stream",
          "name": "stdout",
          "text": [
            "SCORE:\n",
            "0.7939892878397143\n",
            "  3%|▎         | 3/100 [00:03<01:50,  1.14s/trial, best loss: -0.7939892878397143]"
          ]
        },
        {
          "output_type": "stream",
          "name": "stderr",
          "text": [
            "/usr/local/lib/python3.10/dist-packages/xgboost/sklearn.py:885: UserWarning: `eval_metric` in `fit` method is deprecated for better compatibility with scikit-learn, use `eval_metric` in constructor or`set_params` instead.\n",
            "  warnings.warn(\n",
            "\n",
            "/usr/local/lib/python3.10/dist-packages/xgboost/sklearn.py:885: UserWarning: `early_stopping_rounds` in `fit` method is deprecated for better compatibility with scikit-learn, use `early_stopping_rounds` in constructor or`set_params` instead.\n",
            "  warnings.warn(\n",
            "\n"
          ]
        },
        {
          "output_type": "stream",
          "name": "stdout",
          "text": [
            "SCORE:\n",
            "0.7939892878397143\n",
            "  4%|▍         | 4/100 [00:03<01:22,  1.16trial/s, best loss: -0.7939892878397143]"
          ]
        },
        {
          "output_type": "stream",
          "name": "stderr",
          "text": [
            "/usr/local/lib/python3.10/dist-packages/xgboost/sklearn.py:885: UserWarning: `eval_metric` in `fit` method is deprecated for better compatibility with scikit-learn, use `eval_metric` in constructor or`set_params` instead.\n",
            "  warnings.warn(\n",
            "\n",
            "/usr/local/lib/python3.10/dist-packages/xgboost/sklearn.py:885: UserWarning: `early_stopping_rounds` in `fit` method is deprecated for better compatibility with scikit-learn, use `early_stopping_rounds` in constructor or`set_params` instead.\n",
            "  warnings.warn(\n",
            "\n"
          ]
        },
        {
          "output_type": "stream",
          "name": "stdout",
          "text": [
            "SCORE:\n",
            "0.7939892878397143\n",
            "  5%|▌         | 5/100 [00:04<01:06,  1.44trial/s, best loss: -0.7939892878397143]"
          ]
        },
        {
          "output_type": "stream",
          "name": "stderr",
          "text": [
            "/usr/local/lib/python3.10/dist-packages/xgboost/sklearn.py:885: UserWarning: `eval_metric` in `fit` method is deprecated for better compatibility with scikit-learn, use `eval_metric` in constructor or`set_params` instead.\n",
            "  warnings.warn(\n",
            "\n",
            "/usr/local/lib/python3.10/dist-packages/xgboost/sklearn.py:885: UserWarning: `early_stopping_rounds` in `fit` method is deprecated for better compatibility with scikit-learn, use `early_stopping_rounds` in constructor or`set_params` instead.\n",
            "  warnings.warn(\n",
            "\n"
          ]
        },
        {
          "output_type": "stream",
          "name": "stdout",
          "text": [
            "SCORE:\n",
            "0.7939892878397143\n",
            "  6%|▌         | 6/100 [00:04<00:50,  1.84trial/s, best loss: -0.7939892878397143]"
          ]
        },
        {
          "output_type": "stream",
          "name": "stderr",
          "text": [
            "/usr/local/lib/python3.10/dist-packages/xgboost/sklearn.py:885: UserWarning: `eval_metric` in `fit` method is deprecated for better compatibility with scikit-learn, use `eval_metric` in constructor or`set_params` instead.\n",
            "  warnings.warn(\n",
            "\n",
            "/usr/local/lib/python3.10/dist-packages/xgboost/sklearn.py:885: UserWarning: `early_stopping_rounds` in `fit` method is deprecated for better compatibility with scikit-learn, use `early_stopping_rounds` in constructor or`set_params` instead.\n",
            "  warnings.warn(\n",
            "\n"
          ]
        },
        {
          "output_type": "stream",
          "name": "stdout",
          "text": [
            "SCORE:\n",
            "0.7939892878397143\n",
            "  7%|▋         | 7/100 [00:05<00:47,  1.97trial/s, best loss: -0.7939892878397143]"
          ]
        },
        {
          "output_type": "stream",
          "name": "stderr",
          "text": [
            "/usr/local/lib/python3.10/dist-packages/xgboost/sklearn.py:885: UserWarning: `eval_metric` in `fit` method is deprecated for better compatibility with scikit-learn, use `eval_metric` in constructor or`set_params` instead.\n",
            "  warnings.warn(\n",
            "\n",
            "/usr/local/lib/python3.10/dist-packages/xgboost/sklearn.py:885: UserWarning: `early_stopping_rounds` in `fit` method is deprecated for better compatibility with scikit-learn, use `early_stopping_rounds` in constructor or`set_params` instead.\n",
            "  warnings.warn(\n",
            "\n"
          ]
        },
        {
          "output_type": "stream",
          "name": "stdout",
          "text": [
            "SCORE:\n",
            "0.7939892878397143\n",
            "  8%|▊         | 8/100 [00:05<00:42,  2.17trial/s, best loss: -0.7939892878397143]"
          ]
        },
        {
          "output_type": "stream",
          "name": "stderr",
          "text": [
            "/usr/local/lib/python3.10/dist-packages/xgboost/sklearn.py:885: UserWarning: `eval_metric` in `fit` method is deprecated for better compatibility with scikit-learn, use `eval_metric` in constructor or`set_params` instead.\n",
            "  warnings.warn(\n",
            "\n",
            "/usr/local/lib/python3.10/dist-packages/xgboost/sklearn.py:885: UserWarning: `early_stopping_rounds` in `fit` method is deprecated for better compatibility with scikit-learn, use `early_stopping_rounds` in constructor or`set_params` instead.\n",
            "  warnings.warn(\n",
            "\n"
          ]
        },
        {
          "output_type": "stream",
          "name": "stdout",
          "text": [
            "SCORE:\n",
            "0.7939892878397143\n",
            "  9%|▉         | 9/100 [00:05<00:36,  2.46trial/s, best loss: -0.7939892878397143]"
          ]
        },
        {
          "output_type": "stream",
          "name": "stderr",
          "text": [
            "/usr/local/lib/python3.10/dist-packages/xgboost/sklearn.py:885: UserWarning: `eval_metric` in `fit` method is deprecated for better compatibility with scikit-learn, use `eval_metric` in constructor or`set_params` instead.\n",
            "  warnings.warn(\n",
            "\n",
            "/usr/local/lib/python3.10/dist-packages/xgboost/sklearn.py:885: UserWarning: `early_stopping_rounds` in `fit` method is deprecated for better compatibility with scikit-learn, use `early_stopping_rounds` in constructor or`set_params` instead.\n",
            "  warnings.warn(\n",
            "\n"
          ]
        },
        {
          "output_type": "stream",
          "name": "stdout",
          "text": [
            "SCORE:\n",
            "0.7939892878397143\n",
            " 10%|█         | 10/100 [00:05<00:34,  2.59trial/s, best loss: -0.7939892878397143]"
          ]
        },
        {
          "output_type": "stream",
          "name": "stderr",
          "text": [
            "/usr/local/lib/python3.10/dist-packages/xgboost/sklearn.py:885: UserWarning: `eval_metric` in `fit` method is deprecated for better compatibility with scikit-learn, use `eval_metric` in constructor or`set_params` instead.\n",
            "  warnings.warn(\n",
            "\n",
            "/usr/local/lib/python3.10/dist-packages/xgboost/sklearn.py:885: UserWarning: `early_stopping_rounds` in `fit` method is deprecated for better compatibility with scikit-learn, use `early_stopping_rounds` in constructor or`set_params` instead.\n",
            "  warnings.warn(\n",
            "\n"
          ]
        },
        {
          "output_type": "stream",
          "name": "stdout",
          "text": [
            "SCORE:\n",
            "0.7939892878397143\n",
            " 11%|█         | 11/100 [00:07<00:52,  1.70trial/s, best loss: -0.7939892878397143]"
          ]
        },
        {
          "output_type": "stream",
          "name": "stderr",
          "text": [
            "/usr/local/lib/python3.10/dist-packages/xgboost/sklearn.py:885: UserWarning: `eval_metric` in `fit` method is deprecated for better compatibility with scikit-learn, use `eval_metric` in constructor or`set_params` instead.\n",
            "  warnings.warn(\n",
            "\n",
            "/usr/local/lib/python3.10/dist-packages/xgboost/sklearn.py:885: UserWarning: `early_stopping_rounds` in `fit` method is deprecated for better compatibility with scikit-learn, use `early_stopping_rounds` in constructor or`set_params` instead.\n",
            "  warnings.warn(\n",
            "\n"
          ]
        },
        {
          "output_type": "stream",
          "name": "stdout",
          "text": [
            "SCORE:\n",
            "0.7939892878397143\n",
            " 12%|█▏        | 12/100 [00:08<01:16,  1.15trial/s, best loss: -0.7939892878397143]"
          ]
        },
        {
          "output_type": "stream",
          "name": "stderr",
          "text": [
            "/usr/local/lib/python3.10/dist-packages/xgboost/sklearn.py:885: UserWarning: `eval_metric` in `fit` method is deprecated for better compatibility with scikit-learn, use `eval_metric` in constructor or`set_params` instead.\n",
            "  warnings.warn(\n",
            "\n",
            "/usr/local/lib/python3.10/dist-packages/xgboost/sklearn.py:885: UserWarning: `early_stopping_rounds` in `fit` method is deprecated for better compatibility with scikit-learn, use `early_stopping_rounds` in constructor or`set_params` instead.\n",
            "  warnings.warn(\n",
            "\n"
          ]
        },
        {
          "output_type": "stream",
          "name": "stdout",
          "text": [
            "SCORE:\n",
            "0.7939892878397143\n",
            " 13%|█▎        | 13/100 [00:08<01:01,  1.41trial/s, best loss: -0.7939892878397143]"
          ]
        },
        {
          "output_type": "stream",
          "name": "stderr",
          "text": [
            "/usr/local/lib/python3.10/dist-packages/xgboost/sklearn.py:885: UserWarning: `eval_metric` in `fit` method is deprecated for better compatibility with scikit-learn, use `eval_metric` in constructor or`set_params` instead.\n",
            "  warnings.warn(\n",
            "\n",
            "/usr/local/lib/python3.10/dist-packages/xgboost/sklearn.py:885: UserWarning: `early_stopping_rounds` in `fit` method is deprecated for better compatibility with scikit-learn, use `early_stopping_rounds` in constructor or`set_params` instead.\n",
            "  warnings.warn(\n",
            "\n"
          ]
        },
        {
          "output_type": "stream",
          "name": "stdout",
          "text": [
            "SCORE:\n",
            "0.7939892878397143\n",
            " 14%|█▍        | 14/100 [00:09<00:53,  1.61trial/s, best loss: -0.7939892878397143]"
          ]
        },
        {
          "output_type": "stream",
          "name": "stderr",
          "text": [
            "/usr/local/lib/python3.10/dist-packages/xgboost/sklearn.py:885: UserWarning: `eval_metric` in `fit` method is deprecated for better compatibility with scikit-learn, use `eval_metric` in constructor or`set_params` instead.\n",
            "  warnings.warn(\n",
            "\n",
            "/usr/local/lib/python3.10/dist-packages/xgboost/sklearn.py:885: UserWarning: `early_stopping_rounds` in `fit` method is deprecated for better compatibility with scikit-learn, use `early_stopping_rounds` in constructor or`set_params` instead.\n",
            "  warnings.warn(\n",
            "\n"
          ]
        },
        {
          "output_type": "stream",
          "name": "stdout",
          "text": [
            "SCORE:\n",
            "0.7939892878397143\n",
            " 15%|█▌        | 15/100 [00:09<00:45,  1.88trial/s, best loss: -0.7939892878397143]"
          ]
        },
        {
          "output_type": "stream",
          "name": "stderr",
          "text": [
            "/usr/local/lib/python3.10/dist-packages/xgboost/sklearn.py:885: UserWarning: `eval_metric` in `fit` method is deprecated for better compatibility with scikit-learn, use `eval_metric` in constructor or`set_params` instead.\n",
            "  warnings.warn(\n",
            "\n",
            "/usr/local/lib/python3.10/dist-packages/xgboost/sklearn.py:885: UserWarning: `early_stopping_rounds` in `fit` method is deprecated for better compatibility with scikit-learn, use `early_stopping_rounds` in constructor or`set_params` instead.\n",
            "  warnings.warn(\n",
            "\n"
          ]
        },
        {
          "output_type": "stream",
          "name": "stdout",
          "text": [
            "SCORE:\n",
            "0.7939892878397143\n",
            " 16%|█▌        | 16/100 [00:09<00:40,  2.08trial/s, best loss: -0.7939892878397143]"
          ]
        },
        {
          "output_type": "stream",
          "name": "stderr",
          "text": [
            "/usr/local/lib/python3.10/dist-packages/xgboost/sklearn.py:885: UserWarning: `eval_metric` in `fit` method is deprecated for better compatibility with scikit-learn, use `eval_metric` in constructor or`set_params` instead.\n",
            "  warnings.warn(\n",
            "\n",
            "/usr/local/lib/python3.10/dist-packages/xgboost/sklearn.py:885: UserWarning: `early_stopping_rounds` in `fit` method is deprecated for better compatibility with scikit-learn, use `early_stopping_rounds` in constructor or`set_params` instead.\n",
            "  warnings.warn(\n",
            "\n"
          ]
        },
        {
          "output_type": "stream",
          "name": "stdout",
          "text": [
            "SCORE:\n",
            "0.7939892878397143\n",
            " 17%|█▋        | 17/100 [00:10<00:34,  2.43trial/s, best loss: -0.7939892878397143]"
          ]
        },
        {
          "output_type": "stream",
          "name": "stderr",
          "text": [
            "/usr/local/lib/python3.10/dist-packages/xgboost/sklearn.py:885: UserWarning: `eval_metric` in `fit` method is deprecated for better compatibility with scikit-learn, use `eval_metric` in constructor or`set_params` instead.\n",
            "  warnings.warn(\n",
            "\n",
            "/usr/local/lib/python3.10/dist-packages/xgboost/sklearn.py:885: UserWarning: `early_stopping_rounds` in `fit` method is deprecated for better compatibility with scikit-learn, use `early_stopping_rounds` in constructor or`set_params` instead.\n",
            "  warnings.warn(\n",
            "\n"
          ]
        },
        {
          "output_type": "stream",
          "name": "stdout",
          "text": [
            "SCORE:\n",
            "0.7939892878397143\n",
            " 18%|█▊        | 18/100 [00:10<00:31,  2.60trial/s, best loss: -0.7939892878397143]"
          ]
        },
        {
          "output_type": "stream",
          "name": "stderr",
          "text": [
            "/usr/local/lib/python3.10/dist-packages/xgboost/sklearn.py:885: UserWarning: `eval_metric` in `fit` method is deprecated for better compatibility with scikit-learn, use `eval_metric` in constructor or`set_params` instead.\n",
            "  warnings.warn(\n",
            "\n",
            "/usr/local/lib/python3.10/dist-packages/xgboost/sklearn.py:885: UserWarning: `early_stopping_rounds` in `fit` method is deprecated for better compatibility with scikit-learn, use `early_stopping_rounds` in constructor or`set_params` instead.\n",
            "  warnings.warn(\n",
            "\n"
          ]
        },
        {
          "output_type": "stream",
          "name": "stdout",
          "text": [
            "SCORE:\n",
            "0.7939892878397143\n",
            " 19%|█▉        | 19/100 [00:11<00:32,  2.47trial/s, best loss: -0.7939892878397143]"
          ]
        },
        {
          "output_type": "stream",
          "name": "stderr",
          "text": [
            "/usr/local/lib/python3.10/dist-packages/xgboost/sklearn.py:885: UserWarning: `eval_metric` in `fit` method is deprecated for better compatibility with scikit-learn, use `eval_metric` in constructor or`set_params` instead.\n",
            "  warnings.warn(\n",
            "\n",
            "/usr/local/lib/python3.10/dist-packages/xgboost/sklearn.py:885: UserWarning: `early_stopping_rounds` in `fit` method is deprecated for better compatibility with scikit-learn, use `early_stopping_rounds` in constructor or`set_params` instead.\n",
            "  warnings.warn(\n",
            "\n"
          ]
        },
        {
          "output_type": "stream",
          "name": "stdout",
          "text": [
            "SCORE:\n",
            "0.7939892878397143\n",
            " 20%|██        | 20/100 [00:11<00:32,  2.48trial/s, best loss: -0.7939892878397143]"
          ]
        },
        {
          "output_type": "stream",
          "name": "stderr",
          "text": [
            "/usr/local/lib/python3.10/dist-packages/xgboost/sklearn.py:885: UserWarning: `eval_metric` in `fit` method is deprecated for better compatibility with scikit-learn, use `eval_metric` in constructor or`set_params` instead.\n",
            "  warnings.warn(\n",
            "\n",
            "/usr/local/lib/python3.10/dist-packages/xgboost/sklearn.py:885: UserWarning: `early_stopping_rounds` in `fit` method is deprecated for better compatibility with scikit-learn, use `early_stopping_rounds` in constructor or`set_params` instead.\n",
            "  warnings.warn(\n",
            "\n"
          ]
        },
        {
          "output_type": "stream",
          "name": "stdout",
          "text": [
            "SCORE:\n",
            "0.7939892878397143\n",
            " 21%|██        | 21/100 [00:11<00:31,  2.50trial/s, best loss: -0.7939892878397143]"
          ]
        },
        {
          "output_type": "stream",
          "name": "stderr",
          "text": [
            "/usr/local/lib/python3.10/dist-packages/xgboost/sklearn.py:885: UserWarning: `eval_metric` in `fit` method is deprecated for better compatibility with scikit-learn, use `eval_metric` in constructor or`set_params` instead.\n",
            "  warnings.warn(\n",
            "\n",
            "/usr/local/lib/python3.10/dist-packages/xgboost/sklearn.py:885: UserWarning: `early_stopping_rounds` in `fit` method is deprecated for better compatibility with scikit-learn, use `early_stopping_rounds` in constructor or`set_params` instead.\n",
            "  warnings.warn(\n",
            "\n"
          ]
        },
        {
          "output_type": "stream",
          "name": "stdout",
          "text": [
            "SCORE:\n",
            "0.7939892878397143\n",
            " 22%|██▏       | 22/100 [00:12<00:30,  2.57trial/s, best loss: -0.7939892878397143]"
          ]
        },
        {
          "output_type": "stream",
          "name": "stderr",
          "text": [
            "/usr/local/lib/python3.10/dist-packages/xgboost/sklearn.py:885: UserWarning: `eval_metric` in `fit` method is deprecated for better compatibility with scikit-learn, use `eval_metric` in constructor or`set_params` instead.\n",
            "  warnings.warn(\n",
            "\n",
            "/usr/local/lib/python3.10/dist-packages/xgboost/sklearn.py:885: UserWarning: `early_stopping_rounds` in `fit` method is deprecated for better compatibility with scikit-learn, use `early_stopping_rounds` in constructor or`set_params` instead.\n",
            "  warnings.warn(\n",
            "\n"
          ]
        },
        {
          "output_type": "stream",
          "name": "stdout",
          "text": [
            "SCORE:\n",
            "0.7939892878397143\n",
            " 23%|██▎       | 23/100 [00:12<00:30,  2.56trial/s, best loss: -0.7939892878397143]"
          ]
        },
        {
          "output_type": "stream",
          "name": "stderr",
          "text": [
            "/usr/local/lib/python3.10/dist-packages/xgboost/sklearn.py:885: UserWarning: `eval_metric` in `fit` method is deprecated for better compatibility with scikit-learn, use `eval_metric` in constructor or`set_params` instead.\n",
            "  warnings.warn(\n",
            "\n",
            "/usr/local/lib/python3.10/dist-packages/xgboost/sklearn.py:885: UserWarning: `early_stopping_rounds` in `fit` method is deprecated for better compatibility with scikit-learn, use `early_stopping_rounds` in constructor or`set_params` instead.\n",
            "  warnings.warn(\n",
            "\n"
          ]
        },
        {
          "output_type": "stream",
          "name": "stdout",
          "text": [
            "SCORE:\n",
            "0.7939892878397143\n",
            " 24%|██▍       | 24/100 [00:12<00:29,  2.53trial/s, best loss: -0.7939892878397143]"
          ]
        },
        {
          "output_type": "stream",
          "name": "stderr",
          "text": [
            "/usr/local/lib/python3.10/dist-packages/xgboost/sklearn.py:885: UserWarning: `eval_metric` in `fit` method is deprecated for better compatibility with scikit-learn, use `eval_metric` in constructor or`set_params` instead.\n",
            "  warnings.warn(\n",
            "\n",
            "/usr/local/lib/python3.10/dist-packages/xgboost/sklearn.py:885: UserWarning: `early_stopping_rounds` in `fit` method is deprecated for better compatibility with scikit-learn, use `early_stopping_rounds` in constructor or`set_params` instead.\n",
            "  warnings.warn(\n",
            "\n"
          ]
        },
        {
          "output_type": "stream",
          "name": "stdout",
          "text": [
            "SCORE:\n",
            "0.7939892878397143\n",
            " 25%|██▌       | 25/100 [00:13<00:28,  2.61trial/s, best loss: -0.7939892878397143]"
          ]
        },
        {
          "output_type": "stream",
          "name": "stderr",
          "text": [
            "/usr/local/lib/python3.10/dist-packages/xgboost/sklearn.py:885: UserWarning: `eval_metric` in `fit` method is deprecated for better compatibility with scikit-learn, use `eval_metric` in constructor or`set_params` instead.\n",
            "  warnings.warn(\n",
            "\n",
            "/usr/local/lib/python3.10/dist-packages/xgboost/sklearn.py:885: UserWarning: `early_stopping_rounds` in `fit` method is deprecated for better compatibility with scikit-learn, use `early_stopping_rounds` in constructor or`set_params` instead.\n",
            "  warnings.warn(\n",
            "\n"
          ]
        },
        {
          "output_type": "stream",
          "name": "stdout",
          "text": [
            "SCORE:\n",
            "0.7939892878397143\n",
            " 26%|██▌       | 26/100 [00:13<00:28,  2.56trial/s, best loss: -0.7939892878397143]"
          ]
        },
        {
          "output_type": "stream",
          "name": "stderr",
          "text": [
            "/usr/local/lib/python3.10/dist-packages/xgboost/sklearn.py:885: UserWarning: `eval_metric` in `fit` method is deprecated for better compatibility with scikit-learn, use `eval_metric` in constructor or`set_params` instead.\n",
            "  warnings.warn(\n",
            "\n",
            "/usr/local/lib/python3.10/dist-packages/xgboost/sklearn.py:885: UserWarning: `early_stopping_rounds` in `fit` method is deprecated for better compatibility with scikit-learn, use `early_stopping_rounds` in constructor or`set_params` instead.\n",
            "  warnings.warn(\n",
            "\n"
          ]
        },
        {
          "output_type": "stream",
          "name": "stdout",
          "text": [
            "SCORE:\n",
            "0.7939892878397143\n",
            " 27%|██▋       | 27/100 [00:14<00:27,  2.66trial/s, best loss: -0.7939892878397143]"
          ]
        },
        {
          "output_type": "stream",
          "name": "stderr",
          "text": [
            "/usr/local/lib/python3.10/dist-packages/xgboost/sklearn.py:885: UserWarning: `eval_metric` in `fit` method is deprecated for better compatibility with scikit-learn, use `eval_metric` in constructor or`set_params` instead.\n",
            "  warnings.warn(\n",
            "\n",
            "/usr/local/lib/python3.10/dist-packages/xgboost/sklearn.py:885: UserWarning: `early_stopping_rounds` in `fit` method is deprecated for better compatibility with scikit-learn, use `early_stopping_rounds` in constructor or`set_params` instead.\n",
            "  warnings.warn(\n",
            "\n"
          ]
        },
        {
          "output_type": "stream",
          "name": "stdout",
          "text": [
            "SCORE:\n",
            "0.7939892878397143\n",
            " 28%|██▊       | 28/100 [00:14<00:26,  2.71trial/s, best loss: -0.7939892878397143]"
          ]
        },
        {
          "output_type": "stream",
          "name": "stderr",
          "text": [
            "/usr/local/lib/python3.10/dist-packages/xgboost/sklearn.py:885: UserWarning: `eval_metric` in `fit` method is deprecated for better compatibility with scikit-learn, use `eval_metric` in constructor or`set_params` instead.\n",
            "  warnings.warn(\n",
            "\n",
            "/usr/local/lib/python3.10/dist-packages/xgboost/sklearn.py:885: UserWarning: `early_stopping_rounds` in `fit` method is deprecated for better compatibility with scikit-learn, use `early_stopping_rounds` in constructor or`set_params` instead.\n",
            "  warnings.warn(\n",
            "\n"
          ]
        },
        {
          "output_type": "stream",
          "name": "stdout",
          "text": [
            "SCORE:\n",
            "0.7939892878397143\n",
            " 29%|██▉       | 29/100 [00:14<00:27,  2.62trial/s, best loss: -0.7939892878397143]"
          ]
        },
        {
          "output_type": "stream",
          "name": "stderr",
          "text": [
            "/usr/local/lib/python3.10/dist-packages/xgboost/sklearn.py:885: UserWarning: `eval_metric` in `fit` method is deprecated for better compatibility with scikit-learn, use `eval_metric` in constructor or`set_params` instead.\n",
            "  warnings.warn(\n",
            "\n",
            "/usr/local/lib/python3.10/dist-packages/xgboost/sklearn.py:885: UserWarning: `early_stopping_rounds` in `fit` method is deprecated for better compatibility with scikit-learn, use `early_stopping_rounds` in constructor or`set_params` instead.\n",
            "  warnings.warn(\n",
            "\n"
          ]
        },
        {
          "output_type": "stream",
          "name": "stdout",
          "text": [
            "SCORE:\n",
            "0.7939892878397143\n",
            " 30%|███       | 30/100 [00:15<00:25,  2.70trial/s, best loss: -0.7939892878397143]"
          ]
        },
        {
          "output_type": "stream",
          "name": "stderr",
          "text": [
            "/usr/local/lib/python3.10/dist-packages/xgboost/sklearn.py:885: UserWarning: `eval_metric` in `fit` method is deprecated for better compatibility with scikit-learn, use `eval_metric` in constructor or`set_params` instead.\n",
            "  warnings.warn(\n",
            "\n",
            "/usr/local/lib/python3.10/dist-packages/xgboost/sklearn.py:885: UserWarning: `early_stopping_rounds` in `fit` method is deprecated for better compatibility with scikit-learn, use `early_stopping_rounds` in constructor or`set_params` instead.\n",
            "  warnings.warn(\n",
            "\n"
          ]
        },
        {
          "output_type": "stream",
          "name": "stdout",
          "text": [
            "SCORE:\n",
            "0.7939892878397143\n",
            " 31%|███       | 31/100 [00:15<00:25,  2.75trial/s, best loss: -0.7939892878397143]"
          ]
        },
        {
          "output_type": "stream",
          "name": "stderr",
          "text": [
            "/usr/local/lib/python3.10/dist-packages/xgboost/sklearn.py:885: UserWarning: `eval_metric` in `fit` method is deprecated for better compatibility with scikit-learn, use `eval_metric` in constructor or`set_params` instead.\n",
            "  warnings.warn(\n",
            "\n",
            "/usr/local/lib/python3.10/dist-packages/xgboost/sklearn.py:885: UserWarning: `early_stopping_rounds` in `fit` method is deprecated for better compatibility with scikit-learn, use `early_stopping_rounds` in constructor or`set_params` instead.\n",
            "  warnings.warn(\n",
            "\n"
          ]
        },
        {
          "output_type": "stream",
          "name": "stdout",
          "text": [
            "SCORE:\n",
            "0.7939892878397143\n",
            " 32%|███▏      | 32/100 [00:15<00:25,  2.69trial/s, best loss: -0.7939892878397143]"
          ]
        },
        {
          "output_type": "stream",
          "name": "stderr",
          "text": [
            "/usr/local/lib/python3.10/dist-packages/xgboost/sklearn.py:885: UserWarning: `eval_metric` in `fit` method is deprecated for better compatibility with scikit-learn, use `eval_metric` in constructor or`set_params` instead.\n",
            "  warnings.warn(\n",
            "\n",
            "/usr/local/lib/python3.10/dist-packages/xgboost/sklearn.py:885: UserWarning: `early_stopping_rounds` in `fit` method is deprecated for better compatibility with scikit-learn, use `early_stopping_rounds` in constructor or`set_params` instead.\n",
            "  warnings.warn(\n",
            "\n"
          ]
        },
        {
          "output_type": "stream",
          "name": "stdout",
          "text": [
            "SCORE:\n",
            "0.7939892878397143\n",
            " 33%|███▎      | 33/100 [00:16<00:24,  2.71trial/s, best loss: -0.7939892878397143]"
          ]
        },
        {
          "output_type": "stream",
          "name": "stderr",
          "text": [
            "/usr/local/lib/python3.10/dist-packages/xgboost/sklearn.py:885: UserWarning: `eval_metric` in `fit` method is deprecated for better compatibility with scikit-learn, use `eval_metric` in constructor or`set_params` instead.\n",
            "  warnings.warn(\n",
            "\n",
            "/usr/local/lib/python3.10/dist-packages/xgboost/sklearn.py:885: UserWarning: `early_stopping_rounds` in `fit` method is deprecated for better compatibility with scikit-learn, use `early_stopping_rounds` in constructor or`set_params` instead.\n",
            "  warnings.warn(\n",
            "\n"
          ]
        },
        {
          "output_type": "stream",
          "name": "stdout",
          "text": [
            "SCORE:\n",
            "0.7939892878397143\n",
            " 34%|███▍      | 34/100 [00:16<00:22,  2.93trial/s, best loss: -0.7939892878397143]"
          ]
        },
        {
          "output_type": "stream",
          "name": "stderr",
          "text": [
            "/usr/local/lib/python3.10/dist-packages/xgboost/sklearn.py:885: UserWarning: `eval_metric` in `fit` method is deprecated for better compatibility with scikit-learn, use `eval_metric` in constructor or`set_params` instead.\n",
            "  warnings.warn(\n",
            "\n",
            "/usr/local/lib/python3.10/dist-packages/xgboost/sklearn.py:885: UserWarning: `early_stopping_rounds` in `fit` method is deprecated for better compatibility with scikit-learn, use `early_stopping_rounds` in constructor or`set_params` instead.\n",
            "  warnings.warn(\n",
            "\n"
          ]
        },
        {
          "output_type": "stream",
          "name": "stdout",
          "text": [
            "SCORE:\n",
            "0.7939892878397143\n",
            " 35%|███▌      | 35/100 [00:16<00:23,  2.78trial/s, best loss: -0.7939892878397143]"
          ]
        },
        {
          "output_type": "stream",
          "name": "stderr",
          "text": [
            "/usr/local/lib/python3.10/dist-packages/xgboost/sklearn.py:885: UserWarning: `eval_metric` in `fit` method is deprecated for better compatibility with scikit-learn, use `eval_metric` in constructor or`set_params` instead.\n",
            "  warnings.warn(\n",
            "\n",
            "/usr/local/lib/python3.10/dist-packages/xgboost/sklearn.py:885: UserWarning: `early_stopping_rounds` in `fit` method is deprecated for better compatibility with scikit-learn, use `early_stopping_rounds` in constructor or`set_params` instead.\n",
            "  warnings.warn(\n",
            "\n"
          ]
        },
        {
          "output_type": "stream",
          "name": "stdout",
          "text": [
            "SCORE:\n",
            "0.7939892878397143\n",
            " 36%|███▌      | 36/100 [00:17<00:23,  2.72trial/s, best loss: -0.7939892878397143]"
          ]
        },
        {
          "output_type": "stream",
          "name": "stderr",
          "text": [
            "/usr/local/lib/python3.10/dist-packages/xgboost/sklearn.py:885: UserWarning: `eval_metric` in `fit` method is deprecated for better compatibility with scikit-learn, use `eval_metric` in constructor or`set_params` instead.\n",
            "  warnings.warn(\n",
            "\n",
            "/usr/local/lib/python3.10/dist-packages/xgboost/sklearn.py:885: UserWarning: `early_stopping_rounds` in `fit` method is deprecated for better compatibility with scikit-learn, use `early_stopping_rounds` in constructor or`set_params` instead.\n",
            "  warnings.warn(\n",
            "\n"
          ]
        },
        {
          "output_type": "stream",
          "name": "stdout",
          "text": [
            "SCORE:\n",
            "0.7939892878397143\n",
            " 37%|███▋      | 37/100 [00:17<00:23,  2.63trial/s, best loss: -0.7939892878397143]"
          ]
        },
        {
          "output_type": "stream",
          "name": "stderr",
          "text": [
            "/usr/local/lib/python3.10/dist-packages/xgboost/sklearn.py:885: UserWarning: `eval_metric` in `fit` method is deprecated for better compatibility with scikit-learn, use `eval_metric` in constructor or`set_params` instead.\n",
            "  warnings.warn(\n",
            "\n",
            "/usr/local/lib/python3.10/dist-packages/xgboost/sklearn.py:885: UserWarning: `early_stopping_rounds` in `fit` method is deprecated for better compatibility with scikit-learn, use `early_stopping_rounds` in constructor or`set_params` instead.\n",
            "  warnings.warn(\n",
            "\n"
          ]
        },
        {
          "output_type": "stream",
          "name": "stdout",
          "text": [
            "SCORE:\n",
            "0.7939892878397143\n",
            " 38%|███▊      | 38/100 [00:18<00:24,  2.58trial/s, best loss: -0.7939892878397143]"
          ]
        },
        {
          "output_type": "stream",
          "name": "stderr",
          "text": [
            "/usr/local/lib/python3.10/dist-packages/xgboost/sklearn.py:885: UserWarning: `eval_metric` in `fit` method is deprecated for better compatibility with scikit-learn, use `eval_metric` in constructor or`set_params` instead.\n",
            "  warnings.warn(\n",
            "\n",
            "/usr/local/lib/python3.10/dist-packages/xgboost/sklearn.py:885: UserWarning: `early_stopping_rounds` in `fit` method is deprecated for better compatibility with scikit-learn, use `early_stopping_rounds` in constructor or`set_params` instead.\n",
            "  warnings.warn(\n",
            "\n"
          ]
        },
        {
          "output_type": "stream",
          "name": "stdout",
          "text": [
            "SCORE:\n",
            "0.7939892878397143\n",
            " 39%|███▉      | 39/100 [00:18<00:24,  2.46trial/s, best loss: -0.7939892878397143]"
          ]
        },
        {
          "output_type": "stream",
          "name": "stderr",
          "text": [
            "/usr/local/lib/python3.10/dist-packages/xgboost/sklearn.py:885: UserWarning: `eval_metric` in `fit` method is deprecated for better compatibility with scikit-learn, use `eval_metric` in constructor or`set_params` instead.\n",
            "  warnings.warn(\n",
            "\n",
            "/usr/local/lib/python3.10/dist-packages/xgboost/sklearn.py:885: UserWarning: `early_stopping_rounds` in `fit` method is deprecated for better compatibility with scikit-learn, use `early_stopping_rounds` in constructor or`set_params` instead.\n",
            "  warnings.warn(\n",
            "\n"
          ]
        },
        {
          "output_type": "stream",
          "name": "stdout",
          "text": [
            "SCORE:\n",
            "0.7939892878397143\n",
            " 40%|████      | 40/100 [00:20<00:54,  1.09trial/s, best loss: -0.7939892878397143]"
          ]
        },
        {
          "output_type": "stream",
          "name": "stderr",
          "text": [
            "/usr/local/lib/python3.10/dist-packages/xgboost/sklearn.py:885: UserWarning: `eval_metric` in `fit` method is deprecated for better compatibility with scikit-learn, use `eval_metric` in constructor or`set_params` instead.\n",
            "  warnings.warn(\n",
            "\n",
            "/usr/local/lib/python3.10/dist-packages/xgboost/sklearn.py:885: UserWarning: `early_stopping_rounds` in `fit` method is deprecated for better compatibility with scikit-learn, use `early_stopping_rounds` in constructor or`set_params` instead.\n",
            "  warnings.warn(\n",
            "\n"
          ]
        },
        {
          "output_type": "stream",
          "name": "stdout",
          "text": [
            "SCORE:\n",
            "0.7939892878397143\n",
            " 41%|████      | 41/100 [00:21<00:44,  1.32trial/s, best loss: -0.7939892878397143]"
          ]
        },
        {
          "output_type": "stream",
          "name": "stderr",
          "text": [
            "/usr/local/lib/python3.10/dist-packages/xgboost/sklearn.py:885: UserWarning: `eval_metric` in `fit` method is deprecated for better compatibility with scikit-learn, use `eval_metric` in constructor or`set_params` instead.\n",
            "  warnings.warn(\n",
            "\n",
            "/usr/local/lib/python3.10/dist-packages/xgboost/sklearn.py:885: UserWarning: `early_stopping_rounds` in `fit` method is deprecated for better compatibility with scikit-learn, use `early_stopping_rounds` in constructor or`set_params` instead.\n",
            "  warnings.warn(\n",
            "\n"
          ]
        },
        {
          "output_type": "stream",
          "name": "stdout",
          "text": [
            "SCORE:\n",
            "0.7939892878397143\n",
            " 42%|████▏     | 42/100 [00:21<00:37,  1.54trial/s, best loss: -0.7939892878397143]"
          ]
        },
        {
          "output_type": "stream",
          "name": "stderr",
          "text": [
            "/usr/local/lib/python3.10/dist-packages/xgboost/sklearn.py:885: UserWarning: `eval_metric` in `fit` method is deprecated for better compatibility with scikit-learn, use `eval_metric` in constructor or`set_params` instead.\n",
            "  warnings.warn(\n",
            "\n",
            "/usr/local/lib/python3.10/dist-packages/xgboost/sklearn.py:885: UserWarning: `early_stopping_rounds` in `fit` method is deprecated for better compatibility with scikit-learn, use `early_stopping_rounds` in constructor or`set_params` instead.\n",
            "  warnings.warn(\n",
            "\n"
          ]
        },
        {
          "output_type": "stream",
          "name": "stdout",
          "text": [
            "SCORE:\n",
            "0.7939892878397143\n",
            " 43%|████▎     | 43/100 [00:21<00:31,  1.84trial/s, best loss: -0.7939892878397143]"
          ]
        },
        {
          "output_type": "stream",
          "name": "stderr",
          "text": [
            "/usr/local/lib/python3.10/dist-packages/xgboost/sklearn.py:885: UserWarning: `eval_metric` in `fit` method is deprecated for better compatibility with scikit-learn, use `eval_metric` in constructor or`set_params` instead.\n",
            "  warnings.warn(\n",
            "\n",
            "/usr/local/lib/python3.10/dist-packages/xgboost/sklearn.py:885: UserWarning: `early_stopping_rounds` in `fit` method is deprecated for better compatibility with scikit-learn, use `early_stopping_rounds` in constructor or`set_params` instead.\n",
            "  warnings.warn(\n",
            "\n"
          ]
        },
        {
          "output_type": "stream",
          "name": "stdout",
          "text": [
            "SCORE:\n",
            "0.7939892878397143\n",
            " 44%|████▍     | 44/100 [00:22<00:29,  1.87trial/s, best loss: -0.7939892878397143]"
          ]
        },
        {
          "output_type": "stream",
          "name": "stderr",
          "text": [
            "/usr/local/lib/python3.10/dist-packages/xgboost/sklearn.py:885: UserWarning: `eval_metric` in `fit` method is deprecated for better compatibility with scikit-learn, use `eval_metric` in constructor or`set_params` instead.\n",
            "  warnings.warn(\n",
            "\n",
            "/usr/local/lib/python3.10/dist-packages/xgboost/sklearn.py:885: UserWarning: `early_stopping_rounds` in `fit` method is deprecated for better compatibility with scikit-learn, use `early_stopping_rounds` in constructor or`set_params` instead.\n",
            "  warnings.warn(\n",
            "\n"
          ]
        },
        {
          "output_type": "stream",
          "name": "stdout",
          "text": [
            "SCORE:\n",
            "0.7939892878397143\n",
            " 45%|████▌     | 45/100 [00:22<00:26,  2.05trial/s, best loss: -0.7939892878397143]"
          ]
        },
        {
          "output_type": "stream",
          "name": "stderr",
          "text": [
            "/usr/local/lib/python3.10/dist-packages/xgboost/sklearn.py:885: UserWarning: `eval_metric` in `fit` method is deprecated for better compatibility with scikit-learn, use `eval_metric` in constructor or`set_params` instead.\n",
            "  warnings.warn(\n",
            "\n",
            "/usr/local/lib/python3.10/dist-packages/xgboost/sklearn.py:885: UserWarning: `early_stopping_rounds` in `fit` method is deprecated for better compatibility with scikit-learn, use `early_stopping_rounds` in constructor or`set_params` instead.\n",
            "  warnings.warn(\n",
            "\n"
          ]
        },
        {
          "output_type": "stream",
          "name": "stdout",
          "text": [
            "SCORE:\n",
            "0.7939892878397143\n",
            "SCORE:\n",
            "0.7939892878397143\n",
            " 47%|████▋     | 47/100 [00:23<00:19,  2.65trial/s, best loss: -0.7939892878397143]"
          ]
        },
        {
          "output_type": "stream",
          "name": "stderr",
          "text": [
            "/usr/local/lib/python3.10/dist-packages/xgboost/sklearn.py:885: UserWarning: `eval_metric` in `fit` method is deprecated for better compatibility with scikit-learn, use `eval_metric` in constructor or`set_params` instead.\n",
            "  warnings.warn(\n",
            "\n",
            "/usr/local/lib/python3.10/dist-packages/xgboost/sklearn.py:885: UserWarning: `early_stopping_rounds` in `fit` method is deprecated for better compatibility with scikit-learn, use `early_stopping_rounds` in constructor or`set_params` instead.\n",
            "  warnings.warn(\n",
            "\n",
            "/usr/local/lib/python3.10/dist-packages/xgboost/sklearn.py:885: UserWarning: `eval_metric` in `fit` method is deprecated for better compatibility with scikit-learn, use `eval_metric` in constructor or`set_params` instead.\n",
            "  warnings.warn(\n",
            "\n",
            "/usr/local/lib/python3.10/dist-packages/xgboost/sklearn.py:885: UserWarning: `early_stopping_rounds` in `fit` method is deprecated for better compatibility with scikit-learn, use `early_stopping_rounds` in constructor or`set_params` instead.\n",
            "  warnings.warn(\n",
            "\n"
          ]
        },
        {
          "output_type": "stream",
          "name": "stdout",
          "text": [
            "SCORE:\n",
            "0.7939892878397143\n",
            " 48%|████▊     | 48/100 [00:23<00:18,  2.80trial/s, best loss: -0.7939892878397143]"
          ]
        },
        {
          "output_type": "stream",
          "name": "stderr",
          "text": [
            "/usr/local/lib/python3.10/dist-packages/xgboost/sklearn.py:885: UserWarning: `eval_metric` in `fit` method is deprecated for better compatibility with scikit-learn, use `eval_metric` in constructor or`set_params` instead.\n",
            "  warnings.warn(\n",
            "\n",
            "/usr/local/lib/python3.10/dist-packages/xgboost/sklearn.py:885: UserWarning: `early_stopping_rounds` in `fit` method is deprecated for better compatibility with scikit-learn, use `early_stopping_rounds` in constructor or`set_params` instead.\n",
            "  warnings.warn(\n",
            "\n"
          ]
        },
        {
          "output_type": "stream",
          "name": "stdout",
          "text": [
            "SCORE:\n",
            "0.7939892878397143\n",
            " 49%|████▉     | 49/100 [00:23<00:18,  2.72trial/s, best loss: -0.7939892878397143]"
          ]
        },
        {
          "output_type": "stream",
          "name": "stderr",
          "text": [
            "/usr/local/lib/python3.10/dist-packages/xgboost/sklearn.py:885: UserWarning: `eval_metric` in `fit` method is deprecated for better compatibility with scikit-learn, use `eval_metric` in constructor or`set_params` instead.\n",
            "  warnings.warn(\n",
            "\n",
            "/usr/local/lib/python3.10/dist-packages/xgboost/sklearn.py:885: UserWarning: `early_stopping_rounds` in `fit` method is deprecated for better compatibility with scikit-learn, use `early_stopping_rounds` in constructor or`set_params` instead.\n",
            "  warnings.warn(\n",
            "\n"
          ]
        },
        {
          "output_type": "stream",
          "name": "stdout",
          "text": [
            "SCORE:\n",
            "0.7939892878397143\n",
            " 50%|█████     | 50/100 [00:24<00:18,  2.63trial/s, best loss: -0.7939892878397143]"
          ]
        },
        {
          "output_type": "stream",
          "name": "stderr",
          "text": [
            "/usr/local/lib/python3.10/dist-packages/xgboost/sklearn.py:885: UserWarning: `eval_metric` in `fit` method is deprecated for better compatibility with scikit-learn, use `eval_metric` in constructor or`set_params` instead.\n",
            "  warnings.warn(\n",
            "\n",
            "/usr/local/lib/python3.10/dist-packages/xgboost/sklearn.py:885: UserWarning: `early_stopping_rounds` in `fit` method is deprecated for better compatibility with scikit-learn, use `early_stopping_rounds` in constructor or`set_params` instead.\n",
            "  warnings.warn(\n",
            "\n"
          ]
        },
        {
          "output_type": "stream",
          "name": "stdout",
          "text": [
            "SCORE:\n",
            "0.7939892878397143\n",
            " 51%|█████     | 51/100 [00:24<00:19,  2.54trial/s, best loss: -0.7939892878397143]"
          ]
        },
        {
          "output_type": "stream",
          "name": "stderr",
          "text": [
            "/usr/local/lib/python3.10/dist-packages/xgboost/sklearn.py:885: UserWarning: `eval_metric` in `fit` method is deprecated for better compatibility with scikit-learn, use `eval_metric` in constructor or`set_params` instead.\n",
            "  warnings.warn(\n",
            "\n",
            "/usr/local/lib/python3.10/dist-packages/xgboost/sklearn.py:885: UserWarning: `early_stopping_rounds` in `fit` method is deprecated for better compatibility with scikit-learn, use `early_stopping_rounds` in constructor or`set_params` instead.\n",
            "  warnings.warn(\n",
            "\n"
          ]
        },
        {
          "output_type": "stream",
          "name": "stdout",
          "text": [
            "SCORE:\n",
            "0.7939892878397143\n",
            " 52%|█████▏    | 52/100 [00:25<00:18,  2.57trial/s, best loss: -0.7939892878397143]"
          ]
        },
        {
          "output_type": "stream",
          "name": "stderr",
          "text": [
            "/usr/local/lib/python3.10/dist-packages/xgboost/sklearn.py:885: UserWarning: `eval_metric` in `fit` method is deprecated for better compatibility with scikit-learn, use `eval_metric` in constructor or`set_params` instead.\n",
            "  warnings.warn(\n",
            "\n",
            "/usr/local/lib/python3.10/dist-packages/xgboost/sklearn.py:885: UserWarning: `early_stopping_rounds` in `fit` method is deprecated for better compatibility with scikit-learn, use `early_stopping_rounds` in constructor or`set_params` instead.\n",
            "  warnings.warn(\n",
            "\n"
          ]
        },
        {
          "output_type": "stream",
          "name": "stdout",
          "text": [
            "SCORE:\n",
            "0.7939892878397143\n",
            " 53%|█████▎    | 53/100 [00:25<00:18,  2.55trial/s, best loss: -0.7939892878397143]"
          ]
        },
        {
          "output_type": "stream",
          "name": "stderr",
          "text": [
            "/usr/local/lib/python3.10/dist-packages/xgboost/sklearn.py:885: UserWarning: `eval_metric` in `fit` method is deprecated for better compatibility with scikit-learn, use `eval_metric` in constructor or`set_params` instead.\n",
            "  warnings.warn(\n",
            "\n",
            "/usr/local/lib/python3.10/dist-packages/xgboost/sklearn.py:885: UserWarning: `early_stopping_rounds` in `fit` method is deprecated for better compatibility with scikit-learn, use `early_stopping_rounds` in constructor or`set_params` instead.\n",
            "  warnings.warn(\n",
            "\n"
          ]
        },
        {
          "output_type": "stream",
          "name": "stdout",
          "text": [
            "SCORE:\n",
            "0.7939892878397143\n",
            " 54%|█████▍    | 54/100 [00:26<00:18,  2.45trial/s, best loss: -0.7939892878397143]"
          ]
        },
        {
          "output_type": "stream",
          "name": "stderr",
          "text": [
            "/usr/local/lib/python3.10/dist-packages/xgboost/sklearn.py:885: UserWarning: `eval_metric` in `fit` method is deprecated for better compatibility with scikit-learn, use `eval_metric` in constructor or`set_params` instead.\n",
            "  warnings.warn(\n",
            "\n",
            "/usr/local/lib/python3.10/dist-packages/xgboost/sklearn.py:885: UserWarning: `early_stopping_rounds` in `fit` method is deprecated for better compatibility with scikit-learn, use `early_stopping_rounds` in constructor or`set_params` instead.\n",
            "  warnings.warn(\n",
            "\n"
          ]
        },
        {
          "output_type": "stream",
          "name": "stdout",
          "text": [
            "SCORE:\n",
            "0.7939892878397143\n",
            " 55%|█████▌    | 55/100 [00:26<00:17,  2.54trial/s, best loss: -0.7939892878397143]"
          ]
        },
        {
          "output_type": "stream",
          "name": "stderr",
          "text": [
            "/usr/local/lib/python3.10/dist-packages/xgboost/sklearn.py:885: UserWarning: `eval_metric` in `fit` method is deprecated for better compatibility with scikit-learn, use `eval_metric` in constructor or`set_params` instead.\n",
            "  warnings.warn(\n",
            "\n",
            "/usr/local/lib/python3.10/dist-packages/xgboost/sklearn.py:885: UserWarning: `early_stopping_rounds` in `fit` method is deprecated for better compatibility with scikit-learn, use `early_stopping_rounds` in constructor or`set_params` instead.\n",
            "  warnings.warn(\n",
            "\n"
          ]
        },
        {
          "output_type": "stream",
          "name": "stdout",
          "text": [
            "SCORE:\n",
            "0.7939892878397143\n",
            " 56%|█████▌    | 56/100 [00:26<00:16,  2.60trial/s, best loss: -0.7939892878397143]"
          ]
        },
        {
          "output_type": "stream",
          "name": "stderr",
          "text": [
            "/usr/local/lib/python3.10/dist-packages/xgboost/sklearn.py:885: UserWarning: `eval_metric` in `fit` method is deprecated for better compatibility with scikit-learn, use `eval_metric` in constructor or`set_params` instead.\n",
            "  warnings.warn(\n",
            "\n",
            "/usr/local/lib/python3.10/dist-packages/xgboost/sklearn.py:885: UserWarning: `early_stopping_rounds` in `fit` method is deprecated for better compatibility with scikit-learn, use `early_stopping_rounds` in constructor or`set_params` instead.\n",
            "  warnings.warn(\n",
            "\n"
          ]
        },
        {
          "output_type": "stream",
          "name": "stdout",
          "text": [
            "SCORE:\n",
            "0.7939892878397143\n",
            " 57%|█████▋    | 57/100 [00:27<00:17,  2.47trial/s, best loss: -0.7939892878397143]"
          ]
        },
        {
          "output_type": "stream",
          "name": "stderr",
          "text": [
            "/usr/local/lib/python3.10/dist-packages/xgboost/sklearn.py:885: UserWarning: `eval_metric` in `fit` method is deprecated for better compatibility with scikit-learn, use `eval_metric` in constructor or`set_params` instead.\n",
            "  warnings.warn(\n",
            "\n",
            "/usr/local/lib/python3.10/dist-packages/xgboost/sklearn.py:885: UserWarning: `early_stopping_rounds` in `fit` method is deprecated for better compatibility with scikit-learn, use `early_stopping_rounds` in constructor or`set_params` instead.\n",
            "  warnings.warn(\n",
            "\n"
          ]
        },
        {
          "output_type": "stream",
          "name": "stdout",
          "text": [
            "SCORE:\n",
            "0.7939892878397143\n",
            " 58%|█████▊    | 58/100 [00:27<00:21,  1.93trial/s, best loss: -0.7939892878397143]"
          ]
        },
        {
          "output_type": "stream",
          "name": "stderr",
          "text": [
            "/usr/local/lib/python3.10/dist-packages/xgboost/sklearn.py:885: UserWarning: `eval_metric` in `fit` method is deprecated for better compatibility with scikit-learn, use `eval_metric` in constructor or`set_params` instead.\n",
            "  warnings.warn(\n",
            "\n",
            "/usr/local/lib/python3.10/dist-packages/xgboost/sklearn.py:885: UserWarning: `early_stopping_rounds` in `fit` method is deprecated for better compatibility with scikit-learn, use `early_stopping_rounds` in constructor or`set_params` instead.\n",
            "  warnings.warn(\n",
            "\n"
          ]
        },
        {
          "output_type": "stream",
          "name": "stdout",
          "text": [
            "SCORE:\n",
            "0.7939892878397143\n",
            " 59%|█████▉    | 59/100 [00:28<00:21,  1.95trial/s, best loss: -0.7939892878397143]"
          ]
        },
        {
          "output_type": "stream",
          "name": "stderr",
          "text": [
            "/usr/local/lib/python3.10/dist-packages/xgboost/sklearn.py:885: UserWarning: `eval_metric` in `fit` method is deprecated for better compatibility with scikit-learn, use `eval_metric` in constructor or`set_params` instead.\n",
            "  warnings.warn(\n",
            "\n",
            "/usr/local/lib/python3.10/dist-packages/xgboost/sklearn.py:885: UserWarning: `early_stopping_rounds` in `fit` method is deprecated for better compatibility with scikit-learn, use `early_stopping_rounds` in constructor or`set_params` instead.\n",
            "  warnings.warn(\n",
            "\n"
          ]
        },
        {
          "output_type": "stream",
          "name": "stdout",
          "text": [
            "SCORE:\n",
            "0.7939892878397143\n",
            " 60%|██████    | 60/100 [00:28<00:18,  2.20trial/s, best loss: -0.7939892878397143]"
          ]
        },
        {
          "output_type": "stream",
          "name": "stderr",
          "text": [
            "/usr/local/lib/python3.10/dist-packages/xgboost/sklearn.py:885: UserWarning: `eval_metric` in `fit` method is deprecated for better compatibility with scikit-learn, use `eval_metric` in constructor or`set_params` instead.\n",
            "  warnings.warn(\n",
            "\n",
            "/usr/local/lib/python3.10/dist-packages/xgboost/sklearn.py:885: UserWarning: `early_stopping_rounds` in `fit` method is deprecated for better compatibility with scikit-learn, use `early_stopping_rounds` in constructor or`set_params` instead.\n",
            "  warnings.warn(\n",
            "\n"
          ]
        },
        {
          "output_type": "stream",
          "name": "stdout",
          "text": [
            "SCORE:\n",
            "0.7939892878397143\n",
            " 61%|██████    | 61/100 [00:29<00:16,  2.31trial/s, best loss: -0.7939892878397143]"
          ]
        },
        {
          "output_type": "stream",
          "name": "stderr",
          "text": [
            "/usr/local/lib/python3.10/dist-packages/xgboost/sklearn.py:885: UserWarning: `eval_metric` in `fit` method is deprecated for better compatibility with scikit-learn, use `eval_metric` in constructor or`set_params` instead.\n",
            "  warnings.warn(\n",
            "\n",
            "/usr/local/lib/python3.10/dist-packages/xgboost/sklearn.py:885: UserWarning: `early_stopping_rounds` in `fit` method is deprecated for better compatibility with scikit-learn, use `early_stopping_rounds` in constructor or`set_params` instead.\n",
            "  warnings.warn(\n",
            "\n"
          ]
        },
        {
          "output_type": "stream",
          "name": "stdout",
          "text": [
            "SCORE:\n",
            "0.7939892878397143\n",
            "SCORE:\n",
            "0.7939892878397143\n",
            " 63%|██████▎   | 63/100 [00:29<00:13,  2.72trial/s, best loss: -0.7939892878397143]"
          ]
        },
        {
          "output_type": "stream",
          "name": "stderr",
          "text": [
            "/usr/local/lib/python3.10/dist-packages/xgboost/sklearn.py:885: UserWarning: `eval_metric` in `fit` method is deprecated for better compatibility with scikit-learn, use `eval_metric` in constructor or`set_params` instead.\n",
            "  warnings.warn(\n",
            "\n",
            "/usr/local/lib/python3.10/dist-packages/xgboost/sklearn.py:885: UserWarning: `early_stopping_rounds` in `fit` method is deprecated for better compatibility with scikit-learn, use `early_stopping_rounds` in constructor or`set_params` instead.\n",
            "  warnings.warn(\n",
            "\n",
            "/usr/local/lib/python3.10/dist-packages/xgboost/sklearn.py:885: UserWarning: `eval_metric` in `fit` method is deprecated for better compatibility with scikit-learn, use `eval_metric` in constructor or`set_params` instead.\n",
            "  warnings.warn(\n",
            "\n",
            "/usr/local/lib/python3.10/dist-packages/xgboost/sklearn.py:885: UserWarning: `early_stopping_rounds` in `fit` method is deprecated for better compatibility with scikit-learn, use `early_stopping_rounds` in constructor or`set_params` instead.\n",
            "  warnings.warn(\n",
            "\n"
          ]
        },
        {
          "output_type": "stream",
          "name": "stdout",
          "text": [
            "SCORE:\n",
            "0.7939892878397143\n",
            " 64%|██████▍   | 64/100 [00:30<00:12,  2.85trial/s, best loss: -0.7939892878397143]"
          ]
        },
        {
          "output_type": "stream",
          "name": "stderr",
          "text": [
            "/usr/local/lib/python3.10/dist-packages/xgboost/sklearn.py:885: UserWarning: `eval_metric` in `fit` method is deprecated for better compatibility with scikit-learn, use `eval_metric` in constructor or`set_params` instead.\n",
            "  warnings.warn(\n",
            "\n",
            "/usr/local/lib/python3.10/dist-packages/xgboost/sklearn.py:885: UserWarning: `early_stopping_rounds` in `fit` method is deprecated for better compatibility with scikit-learn, use `early_stopping_rounds` in constructor or`set_params` instead.\n",
            "  warnings.warn(\n",
            "\n"
          ]
        },
        {
          "output_type": "stream",
          "name": "stdout",
          "text": [
            "SCORE:\n",
            "0.7939892878397143\n",
            " 65%|██████▌   | 65/100 [00:30<00:13,  2.63trial/s, best loss: -0.7939892878397143]"
          ]
        },
        {
          "output_type": "stream",
          "name": "stderr",
          "text": [
            "/usr/local/lib/python3.10/dist-packages/xgboost/sklearn.py:885: UserWarning: `eval_metric` in `fit` method is deprecated for better compatibility with scikit-learn, use `eval_metric` in constructor or`set_params` instead.\n",
            "  warnings.warn(\n",
            "\n",
            "/usr/local/lib/python3.10/dist-packages/xgboost/sklearn.py:885: UserWarning: `early_stopping_rounds` in `fit` method is deprecated for better compatibility with scikit-learn, use `early_stopping_rounds` in constructor or`set_params` instead.\n",
            "  warnings.warn(\n",
            "\n"
          ]
        },
        {
          "output_type": "stream",
          "name": "stdout",
          "text": [
            "SCORE:\n",
            "0.7939892878397143\n",
            " 66%|██████▌   | 66/100 [00:32<00:30,  1.13trial/s, best loss: -0.7939892878397143]"
          ]
        },
        {
          "output_type": "stream",
          "name": "stderr",
          "text": [
            "/usr/local/lib/python3.10/dist-packages/xgboost/sklearn.py:885: UserWarning: `eval_metric` in `fit` method is deprecated for better compatibility with scikit-learn, use `eval_metric` in constructor or`set_params` instead.\n",
            "  warnings.warn(\n",
            "\n",
            "/usr/local/lib/python3.10/dist-packages/xgboost/sklearn.py:885: UserWarning: `early_stopping_rounds` in `fit` method is deprecated for better compatibility with scikit-learn, use `early_stopping_rounds` in constructor or`set_params` instead.\n",
            "  warnings.warn(\n",
            "\n"
          ]
        },
        {
          "output_type": "stream",
          "name": "stdout",
          "text": [
            "SCORE:\n",
            "0.7939892878397143\n",
            " 67%|██████▋   | 67/100 [00:33<00:24,  1.36trial/s, best loss: -0.7939892878397143]"
          ]
        },
        {
          "output_type": "stream",
          "name": "stderr",
          "text": [
            "/usr/local/lib/python3.10/dist-packages/xgboost/sklearn.py:885: UserWarning: `eval_metric` in `fit` method is deprecated for better compatibility with scikit-learn, use `eval_metric` in constructor or`set_params` instead.\n",
            "  warnings.warn(\n",
            "\n",
            "/usr/local/lib/python3.10/dist-packages/xgboost/sklearn.py:885: UserWarning: `early_stopping_rounds` in `fit` method is deprecated for better compatibility with scikit-learn, use `early_stopping_rounds` in constructor or`set_params` instead.\n",
            "  warnings.warn(\n",
            "\n"
          ]
        },
        {
          "output_type": "stream",
          "name": "stdout",
          "text": [
            "SCORE:\n",
            "0.7939892878397143\n",
            " 68%|██████▊   | 68/100 [00:33<00:20,  1.58trial/s, best loss: -0.7939892878397143]"
          ]
        },
        {
          "output_type": "stream",
          "name": "stderr",
          "text": [
            "/usr/local/lib/python3.10/dist-packages/xgboost/sklearn.py:885: UserWarning: `eval_metric` in `fit` method is deprecated for better compatibility with scikit-learn, use `eval_metric` in constructor or`set_params` instead.\n",
            "  warnings.warn(\n",
            "\n",
            "/usr/local/lib/python3.10/dist-packages/xgboost/sklearn.py:885: UserWarning: `early_stopping_rounds` in `fit` method is deprecated for better compatibility with scikit-learn, use `early_stopping_rounds` in constructor or`set_params` instead.\n",
            "  warnings.warn(\n",
            "\n"
          ]
        },
        {
          "output_type": "stream",
          "name": "stdout",
          "text": [
            "SCORE:\n",
            "0.7939892878397143\n",
            " 69%|██████▉   | 69/100 [00:33<00:17,  1.77trial/s, best loss: -0.7939892878397143]"
          ]
        },
        {
          "output_type": "stream",
          "name": "stderr",
          "text": [
            "/usr/local/lib/python3.10/dist-packages/xgboost/sklearn.py:885: UserWarning: `eval_metric` in `fit` method is deprecated for better compatibility with scikit-learn, use `eval_metric` in constructor or`set_params` instead.\n",
            "  warnings.warn(\n",
            "\n",
            "/usr/local/lib/python3.10/dist-packages/xgboost/sklearn.py:885: UserWarning: `early_stopping_rounds` in `fit` method is deprecated for better compatibility with scikit-learn, use `early_stopping_rounds` in constructor or`set_params` instead.\n",
            "  warnings.warn(\n",
            "\n"
          ]
        },
        {
          "output_type": "stream",
          "name": "stdout",
          "text": [
            "SCORE:\n",
            "0.7939892878397143\n",
            " 70%|███████   | 70/100 [00:34<00:15,  1.91trial/s, best loss: -0.7939892878397143]"
          ]
        },
        {
          "output_type": "stream",
          "name": "stderr",
          "text": [
            "/usr/local/lib/python3.10/dist-packages/xgboost/sklearn.py:885: UserWarning: `eval_metric` in `fit` method is deprecated for better compatibility with scikit-learn, use `eval_metric` in constructor or`set_params` instead.\n",
            "  warnings.warn(\n",
            "\n",
            "/usr/local/lib/python3.10/dist-packages/xgboost/sklearn.py:885: UserWarning: `early_stopping_rounds` in `fit` method is deprecated for better compatibility with scikit-learn, use `early_stopping_rounds` in constructor or`set_params` instead.\n",
            "  warnings.warn(\n",
            "\n"
          ]
        },
        {
          "output_type": "stream",
          "name": "stdout",
          "text": [
            "SCORE:\n",
            "0.7939892878397143\n",
            " 71%|███████   | 71/100 [00:34<00:14,  2.05trial/s, best loss: -0.7939892878397143]"
          ]
        },
        {
          "output_type": "stream",
          "name": "stderr",
          "text": [
            "/usr/local/lib/python3.10/dist-packages/xgboost/sklearn.py:885: UserWarning: `eval_metric` in `fit` method is deprecated for better compatibility with scikit-learn, use `eval_metric` in constructor or`set_params` instead.\n",
            "  warnings.warn(\n",
            "\n",
            "/usr/local/lib/python3.10/dist-packages/xgboost/sklearn.py:885: UserWarning: `early_stopping_rounds` in `fit` method is deprecated for better compatibility with scikit-learn, use `early_stopping_rounds` in constructor or`set_params` instead.\n",
            "  warnings.warn(\n",
            "\n"
          ]
        },
        {
          "output_type": "stream",
          "name": "stdout",
          "text": [
            "SCORE:\n",
            "0.7939892878397143\n",
            " 72%|███████▏  | 72/100 [00:34<00:11,  2.34trial/s, best loss: -0.7939892878397143]"
          ]
        },
        {
          "output_type": "stream",
          "name": "stderr",
          "text": [
            "/usr/local/lib/python3.10/dist-packages/xgboost/sklearn.py:885: UserWarning: `eval_metric` in `fit` method is deprecated for better compatibility with scikit-learn, use `eval_metric` in constructor or`set_params` instead.\n",
            "  warnings.warn(\n",
            "\n",
            "/usr/local/lib/python3.10/dist-packages/xgboost/sklearn.py:885: UserWarning: `early_stopping_rounds` in `fit` method is deprecated for better compatibility with scikit-learn, use `early_stopping_rounds` in constructor or`set_params` instead.\n",
            "  warnings.warn(\n",
            "\n"
          ]
        },
        {
          "output_type": "stream",
          "name": "stdout",
          "text": [
            "SCORE:\n",
            "0.7939892878397143\n",
            " 73%|███████▎  | 73/100 [00:35<00:10,  2.50trial/s, best loss: -0.7939892878397143]"
          ]
        },
        {
          "output_type": "stream",
          "name": "stderr",
          "text": [
            "/usr/local/lib/python3.10/dist-packages/xgboost/sklearn.py:885: UserWarning: `eval_metric` in `fit` method is deprecated for better compatibility with scikit-learn, use `eval_metric` in constructor or`set_params` instead.\n",
            "  warnings.warn(\n",
            "\n",
            "/usr/local/lib/python3.10/dist-packages/xgboost/sklearn.py:885: UserWarning: `early_stopping_rounds` in `fit` method is deprecated for better compatibility with scikit-learn, use `early_stopping_rounds` in constructor or`set_params` instead.\n",
            "  warnings.warn(\n",
            "\n"
          ]
        },
        {
          "output_type": "stream",
          "name": "stdout",
          "text": [
            "SCORE:\n",
            "0.7939892878397143\n",
            " 74%|███████▍  | 74/100 [00:35<00:10,  2.60trial/s, best loss: -0.7939892878397143]"
          ]
        },
        {
          "output_type": "stream",
          "name": "stderr",
          "text": [
            "/usr/local/lib/python3.10/dist-packages/xgboost/sklearn.py:885: UserWarning: `eval_metric` in `fit` method is deprecated for better compatibility with scikit-learn, use `eval_metric` in constructor or`set_params` instead.\n",
            "  warnings.warn(\n",
            "\n",
            "/usr/local/lib/python3.10/dist-packages/xgboost/sklearn.py:885: UserWarning: `early_stopping_rounds` in `fit` method is deprecated for better compatibility with scikit-learn, use `early_stopping_rounds` in constructor or`set_params` instead.\n",
            "  warnings.warn(\n",
            "\n"
          ]
        },
        {
          "output_type": "stream",
          "name": "stdout",
          "text": [
            "SCORE:\n",
            "0.7939892878397143\n",
            " 75%|███████▌  | 75/100 [00:36<00:09,  2.59trial/s, best loss: -0.7939892878397143]"
          ]
        },
        {
          "output_type": "stream",
          "name": "stderr",
          "text": [
            "/usr/local/lib/python3.10/dist-packages/xgboost/sklearn.py:885: UserWarning: `eval_metric` in `fit` method is deprecated for better compatibility with scikit-learn, use `eval_metric` in constructor or`set_params` instead.\n",
            "  warnings.warn(\n",
            "\n",
            "/usr/local/lib/python3.10/dist-packages/xgboost/sklearn.py:885: UserWarning: `early_stopping_rounds` in `fit` method is deprecated for better compatibility with scikit-learn, use `early_stopping_rounds` in constructor or`set_params` instead.\n",
            "  warnings.warn(\n",
            "\n"
          ]
        },
        {
          "output_type": "stream",
          "name": "stdout",
          "text": [
            "SCORE:\n",
            "0.7939892878397143\n",
            " 76%|███████▌  | 76/100 [00:36<00:09,  2.51trial/s, best loss: -0.7939892878397143]"
          ]
        },
        {
          "output_type": "stream",
          "name": "stderr",
          "text": [
            "/usr/local/lib/python3.10/dist-packages/xgboost/sklearn.py:885: UserWarning: `eval_metric` in `fit` method is deprecated for better compatibility with scikit-learn, use `eval_metric` in constructor or`set_params` instead.\n",
            "  warnings.warn(\n",
            "\n",
            "/usr/local/lib/python3.10/dist-packages/xgboost/sklearn.py:885: UserWarning: `early_stopping_rounds` in `fit` method is deprecated for better compatibility with scikit-learn, use `early_stopping_rounds` in constructor or`set_params` instead.\n",
            "  warnings.warn(\n",
            "\n"
          ]
        },
        {
          "output_type": "stream",
          "name": "stdout",
          "text": [
            "SCORE:\n",
            "0.7939892878397143\n",
            " 77%|███████▋  | 77/100 [00:36<00:09,  2.47trial/s, best loss: -0.7939892878397143]"
          ]
        },
        {
          "output_type": "stream",
          "name": "stderr",
          "text": [
            "/usr/local/lib/python3.10/dist-packages/xgboost/sklearn.py:885: UserWarning: `eval_metric` in `fit` method is deprecated for better compatibility with scikit-learn, use `eval_metric` in constructor or`set_params` instead.\n",
            "  warnings.warn(\n",
            "\n",
            "/usr/local/lib/python3.10/dist-packages/xgboost/sklearn.py:885: UserWarning: `early_stopping_rounds` in `fit` method is deprecated for better compatibility with scikit-learn, use `early_stopping_rounds` in constructor or`set_params` instead.\n",
            "  warnings.warn(\n",
            "\n"
          ]
        },
        {
          "output_type": "stream",
          "name": "stdout",
          "text": [
            "SCORE:\n",
            "0.7939892878397143\n",
            " 78%|███████▊  | 78/100 [00:37<00:08,  2.54trial/s, best loss: -0.7939892878397143]"
          ]
        },
        {
          "output_type": "stream",
          "name": "stderr",
          "text": [
            "/usr/local/lib/python3.10/dist-packages/xgboost/sklearn.py:885: UserWarning: `eval_metric` in `fit` method is deprecated for better compatibility with scikit-learn, use `eval_metric` in constructor or`set_params` instead.\n",
            "  warnings.warn(\n",
            "\n",
            "/usr/local/lib/python3.10/dist-packages/xgboost/sklearn.py:885: UserWarning: `early_stopping_rounds` in `fit` method is deprecated for better compatibility with scikit-learn, use `early_stopping_rounds` in constructor or`set_params` instead.\n",
            "  warnings.warn(\n",
            "\n"
          ]
        },
        {
          "output_type": "stream",
          "name": "stdout",
          "text": [
            "SCORE:\n",
            "0.7939892878397143\n",
            " 79%|███████▉  | 79/100 [00:37<00:08,  2.52trial/s, best loss: -0.7939892878397143]"
          ]
        },
        {
          "output_type": "stream",
          "name": "stderr",
          "text": [
            "/usr/local/lib/python3.10/dist-packages/xgboost/sklearn.py:885: UserWarning: `eval_metric` in `fit` method is deprecated for better compatibility with scikit-learn, use `eval_metric` in constructor or`set_params` instead.\n",
            "  warnings.warn(\n",
            "\n",
            "/usr/local/lib/python3.10/dist-packages/xgboost/sklearn.py:885: UserWarning: `early_stopping_rounds` in `fit` method is deprecated for better compatibility with scikit-learn, use `early_stopping_rounds` in constructor or`set_params` instead.\n",
            "  warnings.warn(\n",
            "\n"
          ]
        },
        {
          "output_type": "stream",
          "name": "stdout",
          "text": [
            "SCORE:\n",
            "0.7939892878397143\n",
            " 80%|████████  | 80/100 [00:38<00:08,  2.47trial/s, best loss: -0.7939892878397143]"
          ]
        },
        {
          "output_type": "stream",
          "name": "stderr",
          "text": [
            "/usr/local/lib/python3.10/dist-packages/xgboost/sklearn.py:885: UserWarning: `eval_metric` in `fit` method is deprecated for better compatibility with scikit-learn, use `eval_metric` in constructor or`set_params` instead.\n",
            "  warnings.warn(\n",
            "\n",
            "/usr/local/lib/python3.10/dist-packages/xgboost/sklearn.py:885: UserWarning: `early_stopping_rounds` in `fit` method is deprecated for better compatibility with scikit-learn, use `early_stopping_rounds` in constructor or`set_params` instead.\n",
            "  warnings.warn(\n",
            "\n"
          ]
        },
        {
          "output_type": "stream",
          "name": "stdout",
          "text": [
            "SCORE:\n",
            "0.7939892878397143\n",
            " 81%|████████  | 81/100 [00:38<00:08,  2.35trial/s, best loss: -0.7939892878397143]"
          ]
        },
        {
          "output_type": "stream",
          "name": "stderr",
          "text": [
            "/usr/local/lib/python3.10/dist-packages/xgboost/sklearn.py:885: UserWarning: `eval_metric` in `fit` method is deprecated for better compatibility with scikit-learn, use `eval_metric` in constructor or`set_params` instead.\n",
            "  warnings.warn(\n",
            "\n",
            "/usr/local/lib/python3.10/dist-packages/xgboost/sklearn.py:885: UserWarning: `early_stopping_rounds` in `fit` method is deprecated for better compatibility with scikit-learn, use `early_stopping_rounds` in constructor or`set_params` instead.\n",
            "  warnings.warn(\n",
            "\n"
          ]
        },
        {
          "output_type": "stream",
          "name": "stdout",
          "text": [
            "SCORE:\n",
            "0.7939892878397143\n",
            " 82%|████████▏ | 82/100 [00:38<00:06,  2.65trial/s, best loss: -0.7939892878397143]"
          ]
        },
        {
          "output_type": "stream",
          "name": "stderr",
          "text": [
            "/usr/local/lib/python3.10/dist-packages/xgboost/sklearn.py:885: UserWarning: `eval_metric` in `fit` method is deprecated for better compatibility with scikit-learn, use `eval_metric` in constructor or`set_params` instead.\n",
            "  warnings.warn(\n",
            "\n",
            "/usr/local/lib/python3.10/dist-packages/xgboost/sklearn.py:885: UserWarning: `early_stopping_rounds` in `fit` method is deprecated for better compatibility with scikit-learn, use `early_stopping_rounds` in constructor or`set_params` instead.\n",
            "  warnings.warn(\n",
            "\n"
          ]
        },
        {
          "output_type": "stream",
          "name": "stdout",
          "text": [
            "SCORE:\n",
            "0.7939892878397143\n",
            " 83%|████████▎ | 83/100 [00:39<00:06,  2.49trial/s, best loss: -0.7939892878397143]"
          ]
        },
        {
          "output_type": "stream",
          "name": "stderr",
          "text": [
            "/usr/local/lib/python3.10/dist-packages/xgboost/sklearn.py:885: UserWarning: `eval_metric` in `fit` method is deprecated for better compatibility with scikit-learn, use `eval_metric` in constructor or`set_params` instead.\n",
            "  warnings.warn(\n",
            "\n",
            "/usr/local/lib/python3.10/dist-packages/xgboost/sklearn.py:885: UserWarning: `early_stopping_rounds` in `fit` method is deprecated for better compatibility with scikit-learn, use `early_stopping_rounds` in constructor or`set_params` instead.\n",
            "  warnings.warn(\n",
            "\n"
          ]
        },
        {
          "output_type": "stream",
          "name": "stdout",
          "text": [
            "SCORE:\n",
            "0.7939892878397143\n",
            " 84%|████████▍ | 84/100 [00:39<00:06,  2.63trial/s, best loss: -0.7939892878397143]"
          ]
        },
        {
          "output_type": "stream",
          "name": "stderr",
          "text": [
            "/usr/local/lib/python3.10/dist-packages/xgboost/sklearn.py:885: UserWarning: `eval_metric` in `fit` method is deprecated for better compatibility with scikit-learn, use `eval_metric` in constructor or`set_params` instead.\n",
            "  warnings.warn(\n",
            "\n",
            "/usr/local/lib/python3.10/dist-packages/xgboost/sklearn.py:885: UserWarning: `early_stopping_rounds` in `fit` method is deprecated for better compatibility with scikit-learn, use `early_stopping_rounds` in constructor or`set_params` instead.\n",
            "  warnings.warn(\n",
            "\n"
          ]
        },
        {
          "output_type": "stream",
          "name": "stdout",
          "text": [
            "SCORE:\n",
            "0.7939892878397143\n",
            " 85%|████████▌ | 85/100 [00:39<00:05,  2.77trial/s, best loss: -0.7939892878397143]"
          ]
        },
        {
          "output_type": "stream",
          "name": "stderr",
          "text": [
            "/usr/local/lib/python3.10/dist-packages/xgboost/sklearn.py:885: UserWarning: `eval_metric` in `fit` method is deprecated for better compatibility with scikit-learn, use `eval_metric` in constructor or`set_params` instead.\n",
            "  warnings.warn(\n",
            "\n",
            "/usr/local/lib/python3.10/dist-packages/xgboost/sklearn.py:885: UserWarning: `early_stopping_rounds` in `fit` method is deprecated for better compatibility with scikit-learn, use `early_stopping_rounds` in constructor or`set_params` instead.\n",
            "  warnings.warn(\n",
            "\n"
          ]
        },
        {
          "output_type": "stream",
          "name": "stdout",
          "text": [
            "SCORE:\n",
            "0.7939892878397143\n",
            " 86%|████████▌ | 86/100 [00:40<00:04,  2.91trial/s, best loss: -0.7939892878397143]"
          ]
        },
        {
          "output_type": "stream",
          "name": "stderr",
          "text": [
            "/usr/local/lib/python3.10/dist-packages/xgboost/sklearn.py:885: UserWarning: `eval_metric` in `fit` method is deprecated for better compatibility with scikit-learn, use `eval_metric` in constructor or`set_params` instead.\n",
            "  warnings.warn(\n",
            "\n",
            "/usr/local/lib/python3.10/dist-packages/xgboost/sklearn.py:885: UserWarning: `early_stopping_rounds` in `fit` method is deprecated for better compatibility with scikit-learn, use `early_stopping_rounds` in constructor or`set_params` instead.\n",
            "  warnings.warn(\n",
            "\n"
          ]
        },
        {
          "output_type": "stream",
          "name": "stdout",
          "text": [
            "SCORE:\n",
            "0.7939892878397143\n",
            " 87%|████████▋ | 87/100 [00:40<00:04,  2.82trial/s, best loss: -0.7939892878397143]"
          ]
        },
        {
          "output_type": "stream",
          "name": "stderr",
          "text": [
            "/usr/local/lib/python3.10/dist-packages/xgboost/sklearn.py:885: UserWarning: `eval_metric` in `fit` method is deprecated for better compatibility with scikit-learn, use `eval_metric` in constructor or`set_params` instead.\n",
            "  warnings.warn(\n",
            "\n",
            "/usr/local/lib/python3.10/dist-packages/xgboost/sklearn.py:885: UserWarning: `early_stopping_rounds` in `fit` method is deprecated for better compatibility with scikit-learn, use `early_stopping_rounds` in constructor or`set_params` instead.\n",
            "  warnings.warn(\n",
            "\n"
          ]
        },
        {
          "output_type": "stream",
          "name": "stdout",
          "text": [
            "SCORE:\n",
            "0.7939892878397143\n",
            "SCORE:\n",
            "0.7939892878397143\n",
            " 89%|████████▉ | 89/100 [00:41<00:03,  3.38trial/s, best loss: -0.7939892878397143]"
          ]
        },
        {
          "output_type": "stream",
          "name": "stderr",
          "text": [
            "/usr/local/lib/python3.10/dist-packages/xgboost/sklearn.py:885: UserWarning: `eval_metric` in `fit` method is deprecated for better compatibility with scikit-learn, use `eval_metric` in constructor or`set_params` instead.\n",
            "  warnings.warn(\n",
            "\n",
            "/usr/local/lib/python3.10/dist-packages/xgboost/sklearn.py:885: UserWarning: `early_stopping_rounds` in `fit` method is deprecated for better compatibility with scikit-learn, use `early_stopping_rounds` in constructor or`set_params` instead.\n",
            "  warnings.warn(\n",
            "\n",
            "/usr/local/lib/python3.10/dist-packages/xgboost/sklearn.py:885: UserWarning: `eval_metric` in `fit` method is deprecated for better compatibility with scikit-learn, use `eval_metric` in constructor or`set_params` instead.\n",
            "  warnings.warn(\n",
            "\n",
            "/usr/local/lib/python3.10/dist-packages/xgboost/sklearn.py:885: UserWarning: `early_stopping_rounds` in `fit` method is deprecated for better compatibility with scikit-learn, use `early_stopping_rounds` in constructor or`set_params` instead.\n",
            "  warnings.warn(\n",
            "\n"
          ]
        },
        {
          "output_type": "stream",
          "name": "stdout",
          "text": [
            "SCORE:\n",
            "0.7939892878397143\n",
            " 90%|█████████ | 90/100 [00:41<00:03,  3.24trial/s, best loss: -0.7939892878397143]"
          ]
        },
        {
          "output_type": "stream",
          "name": "stderr",
          "text": [
            "/usr/local/lib/python3.10/dist-packages/xgboost/sklearn.py:885: UserWarning: `eval_metric` in `fit` method is deprecated for better compatibility with scikit-learn, use `eval_metric` in constructor or`set_params` instead.\n",
            "  warnings.warn(\n",
            "\n",
            "/usr/local/lib/python3.10/dist-packages/xgboost/sklearn.py:885: UserWarning: `early_stopping_rounds` in `fit` method is deprecated for better compatibility with scikit-learn, use `early_stopping_rounds` in constructor or`set_params` instead.\n",
            "  warnings.warn(\n",
            "\n"
          ]
        },
        {
          "output_type": "stream",
          "name": "stdout",
          "text": [
            "SCORE:\n",
            "0.7939892878397143\n",
            " 91%|█████████ | 91/100 [00:41<00:02,  3.28trial/s, best loss: -0.7939892878397143]"
          ]
        },
        {
          "output_type": "stream",
          "name": "stderr",
          "text": [
            "/usr/local/lib/python3.10/dist-packages/xgboost/sklearn.py:885: UserWarning: `eval_metric` in `fit` method is deprecated for better compatibility with scikit-learn, use `eval_metric` in constructor or`set_params` instead.\n",
            "  warnings.warn(\n",
            "\n",
            "/usr/local/lib/python3.10/dist-packages/xgboost/sklearn.py:885: UserWarning: `early_stopping_rounds` in `fit` method is deprecated for better compatibility with scikit-learn, use `early_stopping_rounds` in constructor or`set_params` instead.\n",
            "  warnings.warn(\n",
            "\n"
          ]
        },
        {
          "output_type": "stream",
          "name": "stdout",
          "text": [
            "SCORE:\n",
            "0.7939892878397143\n",
            " 92%|█████████▏| 92/100 [00:42<00:02,  2.86trial/s, best loss: -0.7939892878397143]"
          ]
        },
        {
          "output_type": "stream",
          "name": "stderr",
          "text": [
            "/usr/local/lib/python3.10/dist-packages/xgboost/sklearn.py:885: UserWarning: `eval_metric` in `fit` method is deprecated for better compatibility with scikit-learn, use `eval_metric` in constructor or`set_params` instead.\n",
            "  warnings.warn(\n",
            "\n",
            "/usr/local/lib/python3.10/dist-packages/xgboost/sklearn.py:885: UserWarning: `early_stopping_rounds` in `fit` method is deprecated for better compatibility with scikit-learn, use `early_stopping_rounds` in constructor or`set_params` instead.\n",
            "  warnings.warn(\n",
            "\n"
          ]
        },
        {
          "output_type": "stream",
          "name": "stdout",
          "text": [
            "SCORE:\n",
            "0.7939892878397143\n",
            " 93%|█████████▎| 93/100 [00:42<00:02,  2.72trial/s, best loss: -0.7939892878397143]"
          ]
        },
        {
          "output_type": "stream",
          "name": "stderr",
          "text": [
            "/usr/local/lib/python3.10/dist-packages/xgboost/sklearn.py:885: UserWarning: `eval_metric` in `fit` method is deprecated for better compatibility with scikit-learn, use `eval_metric` in constructor or`set_params` instead.\n",
            "  warnings.warn(\n",
            "\n",
            "/usr/local/lib/python3.10/dist-packages/xgboost/sklearn.py:885: UserWarning: `early_stopping_rounds` in `fit` method is deprecated for better compatibility with scikit-learn, use `early_stopping_rounds` in constructor or`set_params` instead.\n",
            "  warnings.warn(\n",
            "\n"
          ]
        },
        {
          "output_type": "stream",
          "name": "stdout",
          "text": [
            "SCORE:\n",
            "0.7939892878397143\n",
            " 94%|█████████▍| 94/100 [00:44<00:05,  1.13trial/s, best loss: -0.7939892878397143]"
          ]
        },
        {
          "output_type": "stream",
          "name": "stderr",
          "text": [
            "/usr/local/lib/python3.10/dist-packages/xgboost/sklearn.py:885: UserWarning: `eval_metric` in `fit` method is deprecated for better compatibility with scikit-learn, use `eval_metric` in constructor or`set_params` instead.\n",
            "  warnings.warn(\n",
            "\n",
            "/usr/local/lib/python3.10/dist-packages/xgboost/sklearn.py:885: UserWarning: `early_stopping_rounds` in `fit` method is deprecated for better compatibility with scikit-learn, use `early_stopping_rounds` in constructor or`set_params` instead.\n",
            "  warnings.warn(\n",
            "\n"
          ]
        },
        {
          "output_type": "stream",
          "name": "stdout",
          "text": [
            "SCORE:\n",
            "0.7939892878397143\n",
            " 95%|█████████▌| 95/100 [00:45<00:03,  1.36trial/s, best loss: -0.7939892878397143]"
          ]
        },
        {
          "output_type": "stream",
          "name": "stderr",
          "text": [
            "/usr/local/lib/python3.10/dist-packages/xgboost/sklearn.py:885: UserWarning: `eval_metric` in `fit` method is deprecated for better compatibility with scikit-learn, use `eval_metric` in constructor or`set_params` instead.\n",
            "  warnings.warn(\n",
            "\n",
            "/usr/local/lib/python3.10/dist-packages/xgboost/sklearn.py:885: UserWarning: `early_stopping_rounds` in `fit` method is deprecated for better compatibility with scikit-learn, use `early_stopping_rounds` in constructor or`set_params` instead.\n",
            "  warnings.warn(\n",
            "\n"
          ]
        },
        {
          "output_type": "stream",
          "name": "stdout",
          "text": [
            "SCORE:\n",
            "0.7939892878397143\n",
            " 96%|█████████▌| 96/100 [00:45<00:02,  1.58trial/s, best loss: -0.7939892878397143]"
          ]
        },
        {
          "output_type": "stream",
          "name": "stderr",
          "text": [
            "/usr/local/lib/python3.10/dist-packages/xgboost/sklearn.py:885: UserWarning: `eval_metric` in `fit` method is deprecated for better compatibility with scikit-learn, use `eval_metric` in constructor or`set_params` instead.\n",
            "  warnings.warn(\n",
            "\n",
            "/usr/local/lib/python3.10/dist-packages/xgboost/sklearn.py:885: UserWarning: `early_stopping_rounds` in `fit` method is deprecated for better compatibility with scikit-learn, use `early_stopping_rounds` in constructor or`set_params` instead.\n",
            "  warnings.warn(\n",
            "\n"
          ]
        },
        {
          "output_type": "stream",
          "name": "stdout",
          "text": [
            "SCORE:\n",
            "0.7939892878397143\n",
            " 97%|█████████▋| 97/100 [00:45<00:01,  1.75trial/s, best loss: -0.7939892878397143]"
          ]
        },
        {
          "output_type": "stream",
          "name": "stderr",
          "text": [
            "/usr/local/lib/python3.10/dist-packages/xgboost/sklearn.py:885: UserWarning: `eval_metric` in `fit` method is deprecated for better compatibility with scikit-learn, use `eval_metric` in constructor or`set_params` instead.\n",
            "  warnings.warn(\n",
            "\n",
            "/usr/local/lib/python3.10/dist-packages/xgboost/sklearn.py:885: UserWarning: `early_stopping_rounds` in `fit` method is deprecated for better compatibility with scikit-learn, use `early_stopping_rounds` in constructor or`set_params` instead.\n",
            "  warnings.warn(\n",
            "\n"
          ]
        },
        {
          "output_type": "stream",
          "name": "stdout",
          "text": [
            "SCORE:\n",
            "0.7939892878397143\n",
            " 98%|█████████▊| 98/100 [00:46<00:01,  1.91trial/s, best loss: -0.7939892878397143]"
          ]
        },
        {
          "output_type": "stream",
          "name": "stderr",
          "text": [
            "/usr/local/lib/python3.10/dist-packages/xgboost/sklearn.py:885: UserWarning: `eval_metric` in `fit` method is deprecated for better compatibility with scikit-learn, use `eval_metric` in constructor or`set_params` instead.\n",
            "  warnings.warn(\n",
            "\n",
            "/usr/local/lib/python3.10/dist-packages/xgboost/sklearn.py:885: UserWarning: `early_stopping_rounds` in `fit` method is deprecated for better compatibility with scikit-learn, use `early_stopping_rounds` in constructor or`set_params` instead.\n",
            "  warnings.warn(\n",
            "\n"
          ]
        },
        {
          "output_type": "stream",
          "name": "stdout",
          "text": [
            "SCORE:\n",
            "0.7939892878397143\n",
            " 99%|█████████▉| 99/100 [00:46<00:00,  2.01trial/s, best loss: -0.7939892878397143]"
          ]
        },
        {
          "output_type": "stream",
          "name": "stderr",
          "text": [
            "/usr/local/lib/python3.10/dist-packages/xgboost/sklearn.py:885: UserWarning: `eval_metric` in `fit` method is deprecated for better compatibility with scikit-learn, use `eval_metric` in constructor or`set_params` instead.\n",
            "  warnings.warn(\n",
            "\n",
            "/usr/local/lib/python3.10/dist-packages/xgboost/sklearn.py:885: UserWarning: `early_stopping_rounds` in `fit` method is deprecated for better compatibility with scikit-learn, use `early_stopping_rounds` in constructor or`set_params` instead.\n",
            "  warnings.warn(\n",
            "\n"
          ]
        },
        {
          "output_type": "stream",
          "name": "stdout",
          "text": [
            "SCORE:\n",
            "0.7939892878397143\n",
            "100%|██████████| 100/100 [00:47<00:00,  2.12trial/s, best loss: -0.7939892878397143]\n"
          ]
        }
      ]
    },
    {
      "cell_type": "markdown",
      "source": [
        "4. Ergebnisse: Bewertungs- oder Wertepaare, die der Algorithmus zum Erstellen des Modells verwendet"
      ],
      "metadata": {
        "id": "Eck8XHmxGbFm"
      }
    },
    {
      "cell_type": "code",
      "source": [
        "print(\"The best hyperparameters are : \",\"\\n\")\n",
        "print(best_hyperparams)\n",
        "\n"
      ],
      "metadata": {
        "id": "O2qW17u1H0Nn",
        "outputId": "7f3f040a-e40d-4a1b-8802-10b0776aa2f6",
        "colab": {
          "base_uri": "https://localhost:8080/"
        }
      },
      "execution_count": 13,
      "outputs": [
        {
          "output_type": "stream",
          "name": "stdout",
          "text": [
            "The best hyperparameters are :  \n",
            "\n",
            "{'colsample_bytree': 0.7754253144572327, 'gamma': 2.3428307819009326, 'max_depth': 9.0, 'min_child_weight': 9.0, 'reg_alpha': 87.0, 'reg_lambda': 0.31344499685938565}\n"
          ]
        }
      ]
    },
    {
      "cell_type": "code",
      "source": [
        "XGB_final = xgb.XGBClassifier(colsample_bytree=0.7754253144572327,gamma=2.3428307819009326,max_depth=9,min_child_weight=9.0,reg_alpha=87.0,reg_lambda=0.31344499685938565)\n",
        "XGB_final.fit(X,Y)\n",
        "\n",
        "\n",
        "Model_Bewertung(XGB_final,x_train, y_train,x_test, y_test,X,Y)\n",
        "Visualisierung_AUC(XGB_final,x_test,y_test)"
      ],
      "metadata": {
        "id": "uPZEzyB9Lqr1",
        "outputId": "ef548e35-5a5e-48d5-b3ab-1faaa2ee6dc2",
        "colab": {
          "base_uri": "https://localhost:8080/",
          "height": 698
        }
      },
      "execution_count": 26,
      "outputs": [
        {
          "output_type": "stream",
          "name": "stdout",
          "text": [
            "Bewertungsmetriken\n",
            "####################\n",
            "Vorhersage-Genauigkeit auf Basis der Trainingsdaten: 0.8\n",
            "Vorhersage-Genauigkeit auf Basis der Testdaten: 0.79\n",
            "Vorhersage-Genauigkeit nach Kreuz-Validierung: 0.8\n",
            "***************\n",
            "F1-Score auf Basis der Trainingsdaten: 0.89\n",
            "F1-Score auf Basis der Testdaten: 0.88\n",
            "***************\n"
          ]
        },
        {
          "output_type": "display_data",
          "data": {
            "text/html": [
              "<html>\n",
              "<head><meta charset=\"utf-8\" /></head>\n",
              "<body>\n",
              "    <div>            <script src=\"https://cdnjs.cloudflare.com/ajax/libs/mathjax/2.7.5/MathJax.js?config=TeX-AMS-MML_SVG\"></script><script type=\"text/javascript\">if (window.MathJax && window.MathJax.Hub && window.MathJax.Hub.Config) {window.MathJax.Hub.Config({SVG: {font: \"STIX-Web\"}});}</script>                <script type=\"text/javascript\">window.PlotlyConfig = {MathJaxConfig: 'local'};</script>\n",
              "        <script charset=\"utf-8\" src=\"https://cdn.plot.ly/plotly-2.24.1.min.js\"></script>                <div id=\"19d479b9-2d6b-4a61-837f-e55da04234dc\" class=\"plotly-graph-div\" style=\"height:525px; width:100%;\"></div>            <script type=\"text/javascript\">                                    window.PLOTLYENV=window.PLOTLYENV || {};                                    if (document.getElementById(\"19d479b9-2d6b-4a61-837f-e55da04234dc\")) {                    Plotly.newPlot(                        \"19d479b9-2d6b-4a61-837f-e55da04234dc\",                        [{\"hovertemplate\":\"FPR=%{x}\\u003cbr\\u003eTPR=%{y}\\u003cextra\\u003e\\u003c\\u002fextra\\u003e\",\"legendgroup\":\"\",\"line\":{\"color\":\"#636efa\",\"dash\":\"solid\"},\"marker\":{\"symbol\":\"circle\"},\"mode\":\"lines\",\"name\":\"\",\"showlegend\":false,\"x\":[0.0,0.00012492192379762648,0.00037476577139287947,0.00037476577139287947,0.00037476577139287947,0.0004996876951905059,0.0004996876951905059,0.0011242973141786384,0.0017489069331667708,0.0017489069331667708,0.002248594628357277,0.002623360399750156,0.0029981261711430358,0.0029981261711430358,0.004372267332916927,0.004747033104309807,0.004871955028107433,0.005121798875702686,0.005121798875702686,0.005746408494690818,0.009119300437226733,0.009868831980012493,0.009993753903810118,0.010118675827607745,0.010118675827607745,0.010243597751405372,0.010493441599000624,0.010493441599000624,0.01099312929419113,0.011118051217988758,0.011118051217988758,0.011242973141786383,0.011492816989381637,0.011742660836976889,0.012117426608369768,0.012117426608369768,0.012242348532167395,0.013366645846346033,0.01599000624609619,0.016239850093691444,0.016989381636477202,0.017239225484072456,0.017239225484072456,0.017239225484072456,0.019362898188632106,0.020737039350405995,0.021486570893191757,0.023860087445346657,0.024234853216739537,0.024984384759525295,0.025109306683322924,0.02623360399750156,0.026358525921299187,0.026858213616489695,0.028107432854465958,0.028107432854465958,0.028482198625858837,0.028607120549656466,0.02873204247345409,0.028981886321049345,0.028981886321049345,0.02910680824484697,0.02910680824484697,0.029231730168644596,0.029231730168644596,0.029356652092442224,0.03210493441599001,0.03210493441599001,0.03222985633978763,0.03247970018738289,0.03260462211118051,0.03260462211118051,0.03272954403497814,0.038850718301061835,0.03935040599625234,0.03935040599625234,0.03947532792004997,0.03960024984384759,0.04034978138663335,0.04034978138663335,0.04134915677701437,0.04159900062460962,0.04172392254840725,0.0419737663960025,0.042098688319800126,0.042223610243597755,0.04397251717676452,0.04447220487195503,0.04484697064334791,0.04484697064334791,0.04497189256714553,0.04522173641474079,0.04547158026233604,0.04572142410993129,0.04597126795752655,0.0462211118051218,0.04659587757651468,0.04659587757651468,0.046970643347907556,0.047470331043098064,0.048094940662086194,0.04834478450968145,0.04871955028107433,0.04871955028107433,0.04921923797626483,0.04934415990006246,0.04996876951905059,0.04996876951905059,0.05121798875702686,0.051342910680824486,0.051467832604622114,0.051717676452217365,0.05321673953778888,0.05334166146158651,0.05346658338538413,0.05446595877576515,0.05446595877576515,0.05459088069956277,0.0547158026233604,0.05496564647095565,0.05509056839475328,0.05509056839475328,0.05521549031855091,0.05546533416614616,0.055965021861336665,0.056214865708931916,0.0570893191755153,0.05721424109931293,0.05758900687070581,0.05808869456589631,0.05821361648969394,0.05833853841349157,0.0589631480324797,0.05933791380387258,0.060337289194253595,0.060462211118051216,0.061211742660836975,0.06146158650843223,0.061586508432229854,0.06171143035602748,0.06233603997501561,0.06233603997501561,0.06296064959400374,0.06308557151780138,0.06346033728919426,0.06396002498438476,0.06445971267957526,0.06595877576514678,0.06608369768894441,0.06845721424109931,0.06858213616489695,0.06895690193628982,0.06908182386008745,0.06945658963148033,0.06958151155527795,0.0698313554028732,0.07133041848844472,0.0717051842598376,0.07183010618363522,0.07195502810743286,0.0722048719550281,0.0722048719550281,0.07295440349781386,0.07345409119300438,0.073579013116802,0.07370393504059962,0.07382885696439725,0.07432854465958776,0.07470331043098064,0.07557776389756403,0.07557776389756403,0.07570268582136165,0.07582760774515927,0.07595252966895691,0.07907557776389756,0.07995003123048094,0.07995003123048094,0.0801998750780762,0.08107432854465958,0.08132417239225484,0.08144909431605246,0.08294815740162398,0.08369768894440974,0.083947532792005,0.08407245471580263,0.08457214241099313,0.08469706433479075,0.08507183010618363,0.08507183010618363,0.08669581511555279,0.0868207370393504,0.08757026858213617,0.08794503435352904,0.08894440974391006,0.0905683947532792,0.0905683947532792,0.09069331667707682,0.09069331667707682,0.09081823860087446,0.09094316052467208,0.0910680824484697,0.09156777014366022,0.09231730168644597,0.09281698938163647,0.09306683322923173,0.09331667707682699,0.09331667707682699,0.09356652092442223,0.09381636477201749,0.09406620861961275,0.09456589631480325,0.09456589631480325,0.09506558400999375,0.09569019362898189,0.09606495940037477,0.09706433479075578,0.0971892567145534,0.0985633978763273,0.09868831980012492,0.10006246096189882,0.10018738288569644,0.10018738288569644,0.10031230480949406,0.10118675827607745,0.10131168019987508,0.10156152404747033,0.10331043098063711,0.10393504059962523,0.10405996252342287,0.10505933791380387,0.1051842598376015,0.1070580886945659,0.10718301061836352,0.10743285446595878,0.10830730793254216,0.10855715178013742,0.1094316052467208,0.11030605871330418,0.11043098063710181,0.11143035602748283,0.11193004372267333,0.11193004372267333,0.11267957526545909,0.11280449718925671,0.11380387257963773,0.11517801374141162,0.11542785758900687,0.11680199875078076,0.11717676452217364,0.1174266083697689,0.11880074953154278,0.11880074953154278,0.11892567145534041,0.11992504684572143,0.12017489069331667,0.12117426608369769,0.12204871955028107,0.12392254840724547,0.12417239225484072,0.12467207995003123,0.12529668956901938,0.12604622111180513,0.12617114303560276,0.12654590880699562,0.1267957526545909,0.12692067457838851,0.12804497189256714,0.12891942535915052,0.12904434728294817,0.1291692692067458,0.1292941911305434,0.1330418488444722,0.13316677076826983,0.13354153653966272,0.13379138038725796,0.13491567770143661,0.13516552154903186,0.13554028732042472,0.13603997501561524,0.13603997501561524,0.13628981886321048,0.1391630231105559,0.14078700811992503,0.1420362273579013,0.14253591505309182,0.14278575890068707,0.14328544659587758,0.14428482198625858,0.146158650843223,0.14628357276702061,0.14690818238600875,0.14703310430980637,0.14728294815740162,0.14740787008119924,0.14840724547158027,0.1485321673953779,0.1486570893191755,0.1486570893191755,0.1490318550905684,0.14915677701436603,0.1495315427857589,0.15028107432854465,0.15178013741411617,0.15190505933791382,0.15202998126171144,0.15227982510930668,0.15527795128044972,0.15540287320424734,0.15552779512804496,0.1556527170518426,0.15677701436602123,0.15727670206121175,0.15740162398500937,0.16027482823235478,0.16052467207995003,0.1631480324797002,0.16377264209868833,0.16439725171767644,0.16439725171767644,0.16489693941286696,0.16527170518425985,0.16614615865084323,0.1665209244222361,0.16677076826983137,0.16789506558401,0.16951905059337913,0.1697688944409744,0.17001873828856964,0.17289194253591506,0.1735165521549032,0.17426608369768895,0.1745159275452842,0.1745159275452842,0.17464084946908182,0.17514053716427233,0.1760149906308557,0.17626483447845095,0.17801374141161774,0.18126171143035602,0.18138663335415364,0.18201124297314178,0.18238600874453467,0.18263585259212992,0.18263585259212992,0.18288569643972516,0.1830106183635228,0.1830106183635228,0.18326046221111805,0.1835103060587133,0.1840099937539038,0.18413491567770143,0.18513429106808243,0.18513429106808243,0.18550905683947533,0.18563397876327295,0.18588382261086822,0.1867582760774516,0.18738288569643974,0.19637726420986884,0.19687695190505933,0.19887570268582136,0.2004996876951905,0.20062460961898812,0.20199875078076202,0.2023735165521549,0.2033728919425359,0.21024359775140536,0.21049344159900063,0.21099312929419112,0.21161773891317925,0.21361648969394129,0.21561524047470332,0.21561524047470332,0.2188632104934416,0.21898813241723922,0.2202373516552155,0.220737039350406,0.22186133666458463,0.2226108682073704,0.22348532167395377,0.22361024359775142,0.22598376014990632,0.22623360399750156,0.22635852592129918,0.22660836976889445,0.22723297938788256,0.22748282323547783,0.22760774515927545,0.22760774515927545,0.22773266708307308,0.22935665209244221,0.2297314178638351,0.2297314178638351,0.23123048094940662,0.2316052467207995,0.23173016864459714,0.2324797001873829,0.23272954403497814,0.23285446595877576,0.23297938788257339,0.2348532167395378,0.2410993129294191,0.24122423485321673,0.241474078700812,0.2419737663960025,0.24222361024359776,0.242473454091193,0.24259837601499062,0.24334790755777638,0.2448469706433479,0.24559650218613366,0.24584634603372893,0.2500936914428482,0.25034353529044345,0.25059337913803875,0.250843222985634,0.2598376014990631,0.2614615865084322,0.26158650843222986,0.26158650843222986,0.26196127420362275,0.26196127420362275,0.2623360399750156,0.26420986883198,0.26433479075577765,0.26483447845096814,0.26620861961274206,0.26633354153653965,0.26633354153653965,0.26670830730793255,0.2668332292317302,0.26708307307932544,0.2673329169269207,0.2674578388507183,0.2677076826983136,0.27195502810743283,0.2720799500312305,0.2727045596502186,0.2750780762023735,0.27520299812617116,0.27520299812617116,0.2754528419737664,0.27620237351655214,0.27645221736414743,0.2778263585259213,0.2787008119925047,0.2806995627732667,0.28119925046845723,0.2813241723922548,0.28507183010618364,0.28519675202998124,0.2853216739537789,0.28694565896314805,0.2871955028107433,0.28794503435352903,0.28819487820112427,0.2891942535915053,0.28931917551530295,0.28931917551530295,0.28981886321049344,0.29019362898188633,0.2905683947532792,0.2906933166770768,0.2910680824484697,0.29131792629606496,0.29169269206745785,0.29181761399125544,0.2919425359150531,0.29206745783885074,0.29256714553404123,0.29281698938163647,0.29281698938163647,0.29319175515302937,0.29331667707682696,0.29356652092442226,0.29406620861961275,0.2941911305434104,0.29456589631480323,0.29643972517176764,0.29918800749531543,0.299312929419113,0.29993753903810116,0.30031230480949406,0.3005621486570893,0.3009369144284822,0.30156152404747033,0.3018113678950656,0.3020612117426608,0.3023110555902561,0.30368519675203,0.30393504059962523,0.3043098063710181,0.30455965021861336,0.30593379138038723,0.30618363522798253,0.30655840099937537,0.30680824484697067,0.30693316677076826,0.31193004372267336,0.3121798875702686,0.3138038725796377,0.31442848219862585,0.3149281698938164,0.3149281698938164,0.3153029356652092,0.3154278575890069,0.31580262336039977,0.316052467207995,0.31630231105559026,0.31630231105559026,0.31717676452217364,0.31717676452217364,0.3173016864459713,0.3178013741411618,0.31867582760774515,0.31942535915053094,0.3196752029981262,0.3198001249219238,0.3200499687695191,0.32017489069331667,0.32379762648344784,0.3240474703310431,0.324422236102436,0.3246720799500312,0.3246720799500312,0.32479700187382887,0.3251717676452217,0.3279200499687695,0.3282948157401624,0.32854465958775764,0.3286695815115553,0.33004372267332915,0.3301686445971268,0.3301686445971268,0.33041848844472205,0.3306683322923173,0.33116801998750783,0.3312929419113054,0.3320424734540912,0.33241723922548405,0.33279200499687694,0.3329169269206746,0.33316677076826984,0.3336664584634603,0.333791380387258,0.3340412242348532,0.3345409119300437,0.33466583385384135,0.3352904434728295,0.3354153653966271,0.33591505309181763,0.3364147407870081,0.3369144284821986,0.3404122423485322,0.3406620861961274,0.3419113054341037,0.3420362273579013,0.3426608369768894,0.3439100562148657,0.34490943160524673,0.3450343535290443,0.34590880699562776,0.34640849469081825,0.34753279200499687,0.3476577139287945,0.3505309181761399,0.3505309181761399,0.3509056839475328,0.3514053716427233,0.35165521549031853,0.35165521549031853,0.3520299812617114,0.35227982510930667,0.35265459088069956,0.3529044347282948,0.3532792004996877,0.35340412242348535,0.35452841973766397,0.35490318550905686,0.3551530293566521,0.3571517801374141,0.357526545908807,0.36202373516552155,0.36214865708931915,0.3627732667083073,0.36289818863210493,0.3631480324797002,0.3653966271080575,0.3655215490318551,0.36589631480324797,0.36639600249843846,0.36677076826983135,0.36764522173641473,0.3685196752029981,0.368894440974391,0.3693941286695815,0.3696439725171768,0.36989381636477203,0.36989381636477203,0.3700187382885696,0.37051842598376017,0.37064334790755776,0.3721424109931293,0.37289194253591507,0.3731417863835103,0.3735165521549032,0.37389131792629604,0.37414116177389134,0.37663960024984383,0.3768894440974391,0.37726420986883197,0.37726420986883197,0.3773891317926296,0.37763897564022486,0.37813866333541535,0.3816364772017489,0.3817613991255465,0.3821361648969394,0.3826358525921299,0.3840099937539038,0.38425983760149907,0.3843847595252967,0.38463460337289196,0.38513429106808245,0.38550905683947534,0.3867582760774516,0.3868831980012492,0.38713304184884445,0.3877576514678326,0.38825733916302313,0.3887570268582136,0.3891317926296065,0.3891317926296065,0.3895065584009994,0.3895065584009994,0.38975640224859465,0.3903810118675828,0.390630855715178,0.3931292941911305,0.39325421611492817,0.39362898188632106,0.3947532792004997,0.39562773266708307,0.3958775765146783,0.3966271080574641,0.3967520299812617,0.39687695190505934,0.3975015615240475,0.39762648344784507,0.39787632729544037,0.39787632729544037,0.3982510930668332,0.3985009369144285,0.39875078076202375,0.399000624609619,0.39925046845721424,0.3995003123048095,0.3998750780762024,0.4001249219237976,0.40037476577139286,0.4008744534665834,0.40124921923797624,0.40149906308557154,0.4018738288569644,0.4024984384759525,0.40262336039975016,0.4028732042473454,0.4037476577139288,0.40499687695190506,0.4059962523422861,0.40637101811367893,0.4064959400374766,0.40699562773266706,0.4071205496564647,0.4076202373516552,0.40774515927545285,0.40811992504684574,0.408369768894441,0.40861961274203623,0.40936914428482196,0.4107432854465959,0.411367895065584,0.4114928169893816,0.4118675827607745,0.412367270455965,0.41361648969394127,0.4137414116177389,0.4137414116177389,0.4142410993129294,0.41449094316052465,0.41486570893191754,0.4149906308557152,0.41536539662710803,0.4154903185509057,0.41599000624609617,0.4174890693316677,0.41761399125546533,0.42148657089319175,0.42336039975015616,0.42348532167395375,0.42348532167395375,0.4236102435977514,0.42473454091193,0.4249843847595253,0.4251093066833229,0.4256089943785134,0.42610868207370395,0.42623360399750154,0.4267332916926921,0.4271080574640849,0.4282323547782636,0.4283572767020612,0.4287320424734541,0.4292317301686446,0.4293566520924422,0.4298563397876327,0.4302311055590256,0.431105559025609,0.4314803247970019,0.43235477826358526,0.43235477826358526,0.4362273579013117,0.43672704559650216,0.4391005621486571,0.44022485946283574,0.440474703310431,0.44097439100562147,0.4410993129294191,0.44134915677701436,0.4415990006246096,0.44172392254840726,0.4428482198625859,0.443472829481574,0.44372267332916926,0.4439725171767645,0.4448469706433479,0.4448469706433479,0.44497189256714553,0.44684572142410994,0.44697064334790754,0.44722048719550284,0.4477201748906933,0.44934415990006243,0.4497189256714553,0.44996876951905057,0.4500936914428482,0.45034353529044346,0.4560899437851343,0.4564647095565272,0.4564647095565272,0.4565896314803248,0.45783885071830105,0.4580886945658963,0.46021236727045595,0.46046221111805125,0.4608369768894441,0.4614615865084322,0.46196127420362276,0.462211118051218,0.46420986883198,0.46433479075577766,0.46483447845096815,0.4649594003747658,0.4654590880699563,0.4657089319175515,0.4657089319175515,0.466208619612742,0.4664584634603373,0.46720799500312304,0.4673329169269207,0.46770768269831353,0.46795752654590883,0.4680824484697064,0.4680824484697064,0.46908182386008745,0.4697064334790756,0.47345409119300436,0.47345409119300436,0.4740787008119925,0.4744534665833854,0.47570268582136166,0.47770143660212366,0.47807620237351656,0.48357276702061214,0.483947532792005,0.4841973766396003,0.48432229856339787,0.48469706433479076,0.48519675202998125,0.4871955028107433,0.48744534665833855,0.48757026858213615,0.4891942535915053,0.48931917551530296,0.48944409743910056,0.4895690193628982,0.48994378513429104,0.4900687070580887,0.4908182386008745,0.4929419113054341,0.4930668332292317,0.4934415990006246,0.4935665209244222,0.49793878825733917,0.5014366021236727,0.5020612117426608,0.5021861336664585,0.5033104309806371,0.506683322923173,0.5068082448469706,0.5076826983135541,0.5078076202373517,0.5080574640849469,0.5084322298563397,0.5090568394753279,0.5091817613991255,0.5095565271705185,0.509681449094316,0.5101811367895066,0.5108057464084947,0.5111805121798876,0.5114303560274828,0.5118051217988757,0.5129294191130543,0.5135540287320425,0.5136789506558401,0.5139287945034353,0.5181761399125546,0.5185509056839476,0.5189256714553404,0.5206745783885072,0.5209244222361025,0.5216739537788881,0.5219237976264834,0.5221736414740787,0.5221736414740787,0.5230480949406621,0.5262960649594004,0.5265459088069956,0.5271705184259837,0.5277951280449719,0.5280449718925672,0.5281698938163648,0.5289194253591505,0.5290443472829481,0.5295440349781386,0.5299188007495316,0.5300437226733292,0.5302935665209244,0.5315427857589007,0.5330418488444723,0.5331667707682698,0.5341661461586509,0.5342910680824484,0.5346658338538414,0.5355402873204247,0.53579013116802,0.5365396627108058,0.5380387257963772,0.5384134915677702,0.5390381011867583,0.5391630231105559,0.5394128669581512,0.5399125546533416,0.5404122423485321,0.5435352904434728,0.5439100562148657,0.5571517801374141,0.5610243597751405,0.5610243597751405,0.561524047470331,0.5621486570893192,0.5625234228607121,0.5626483447845096,0.5630231105559026,0.5635227982510931,0.5640224859462836,0.5641474078700812,0.5645221736414741,0.5652717051842598,0.5656464709556527,0.5657713928794503,0.5665209244222361,0.5690193628981887,0.5696439725171768,0.5697688944409743,0.5703935040599625,0.5705184259837601,0.5708931917551531,0.5711430356027483,0.5716427232979387,0.5722673329169269,0.5723922548407245,0.5725171767645222,0.5733916302311055,0.5771392879450343,0.578263585259213,0.5791380387257964,0.580262336039975,0.5805121798875703,0.581261711430356,0.5822610868207371,0.5826358525921299,0.5827607745159276,0.5828856964397252,0.5833853841349157,0.5841349156777015,0.5843847595252967,0.5860087445346658,0.5862585883822611,0.602998126171143,0.6036227357901311,0.6041224234853216,0.6098688319800125,0.610368519675203,0.611367895065584,0.6124921923797626,0.613366645846346,0.6136164896939413,0.6138663335415365,0.6151155527795128,0.6156152404747033,0.6159900062460962,0.6169893816364772,0.6171143035602749,0.636477201748907,0.6367270455965022,0.6382261086820737,0.6383510306058713,0.6391005621486571,0.6393504059962524,0.6396002498438476,0.640474703310431,0.6405996252342286,0.6412242348532168,0.641474078700812,0.6419737663960025,0.6420986883198001,0.6535915053091818,0.653841349156777,0.6545908806995627,0.654840724547158,0.6550905683947533,0.6552154903185509,0.6555902560899438,0.6560899437851343,0.6565896314803248,0.6568394753279201,0.6570893191755153,0.6574640849469082,0.6585883822610868,0.6585883822610868,0.6587133041848845,0.6590880699562773,0.6593379138038726,0.6599625234228607,0.6610868207370394,0.662211118051218,0.6624609618988132,0.6634603372891943,0.6637101811367895,0.6638351030605871,0.6648344784509681,0.6654590880699562,0.6655840099937539,0.6659587757651468,0.6660836976889444,0.6669581511555278,0.6677076826983136,0.6682073703935041,0.6694565896314804,0.6700811992504685,0.670580886945659,0.6707058088694566,0.6709556527170518,0.6714553404122423,0.6719550281074329,0.6722048719550281,0.6724547158026234,0.6734540911930044,0.6769519050593379,0.6770768269831355,0.6795752654590881,0.6798251093066833,0.6805746408494691,0.6815740162398501,0.6818238600874453,0.6820737039350406,0.6821986258588383,0.6821986258588383,0.6824484697064335,0.6831980012492193,0.6833229231730169,0.6853216739537789,0.6854465958775765,0.6854465958775765,0.6864459712679575,0.6869456589631481,0.6916926920674579,0.6926920674578388,0.6931917551530293,0.6939412866958151,0.694316052467208,0.6949406620861961,0.6984384759525296,0.6985633978763273,0.7023110555902561,0.7030605871330419,0.7051842598376015,0.7069331667707682,0.7078076202373517,0.7104309806371019,0.7105559025608994,0.713054341036852,0.7153029356652092,0.7165521549031855,0.7171767645221736,0.7173016864459713,0.7226733291692692,0.723422860712055,0.7235477826358526,0.7240474703310431,0.730418488444722,0.7316677076826983,0.7325421611492817,0.736789506558401,0.7381636477201748,0.7385384134915678,0.7386633354153654,0.7389131792629606,0.7390381011867583,0.7392879450343536,0.7400374765771393,0.7402873204247346,0.7410368519675203,0.7505309181761399,0.7506558400999376,0.7510306058713304,0.7517801374141162,0.7529044347282948,0.7663960024984384,0.7665209244222361,0.7833853841349157,0.7835103060587133,0.7916302311055591,0.7920049968769519,0.79262960649594,0.7935040599625234,0.8031230480949406,0.8032479700187383,0.8043722673329169,0.8048719550281074,0.8054965646470955,0.8058713304184885,0.8161149281698938,0.8162398500936915,0.8181136789506558,0.8294815740162399,0.8402248594628358,0.8412242348532167,0.846470955652717,0.84684572142411,0.8603372891942536,0.8734540911930043,0.8752029981261712,0.8758276077451592,0.8773266708307308,0.8858213616489694,0.8880699562773267,0.9105559025608995,0.91105559025609,0.9131792629606496,0.915053091817614,0.9171767645221737,0.9469081823860087,0.9475327920049968,0.9836352279825109,1.0],\"xaxis\":\"x\",\"y\":[0.0,0.003370245546461242,0.003370245546461242,0.005296100144439095,0.006259027443428021,0.007221954742416947,0.0077034183919114105,0.01203659123736158,0.012999518536350506,0.013962445835339432,0.017332691381800675,0.022147327876745306,0.02407318247472316,0.025517573423206548,0.03033220991815118,0.031295137217140105,0.03225806451612903,0.03225806451612903,0.0327395281656235,0.034183919114106884,0.04718343765045739,0.04766490129995185,0.04910929224843524,0.0495907558979297,0.05007221954742417,0.051035146846413096,0.05151661049590756,0.05247953779489649,0.05247953779489649,0.05296100144439095,0.053442465093885415,0.053442465093885415,0.05440539239287434,0.05681271064034665,0.05922002888781897,0.0601829561868079,0.06066441983630236,0.06355320173326914,0.06981222917669716,0.07029369282619162,0.07173808377467501,0.07221954742416947,0.07270101107366393,0.07366393837265287,0.0784785748675975,0.08233028406355321,0.08233028406355321,0.09436687530091478,0.09581126624939817,0.0967741935483871,0.0967741935483871,0.09773712084737603,0.09821858449687049,0.09821858449687049,0.1006259027443428,0.10110736639383726,0.10110736639383726,0.10158883004333173,0.10158883004333173,0.10207029369282619,0.10303322099181512,0.10303322099181512,0.1044776119402985,0.1044776119402985,0.10688493018777083,0.10736639383726529,0.11988444872412132,0.12132883967260472,0.12229176697159365,0.12277323062108811,0.12277323062108811,0.12373615792007703,0.12373615792007703,0.14299470389985555,0.14299470389985555,0.1439576311988445,0.1439576311988445,0.14443909484833894,0.14443909484833894,0.1463649494463168,0.14829080404429465,0.14829080404429465,0.14829080404429465,0.14829080404429465,0.14829080404429465,0.14925373134328357,0.1516610495907559,0.1516610495907559,0.1516610495907559,0.15262397688974483,0.15262397688974483,0.15358690418873375,0.15358690418873375,0.15599422243620606,0.15599422243620606,0.15599422243620606,0.15647568608570053,0.156957149735195,0.15743861338468945,0.15936446798266732,0.15984593163216176,0.16032739528165624,0.1608088589311507,0.16177178623013963,0.16177178623013963,0.16225324987963408,0.16273471352912855,0.16321617717862302,0.16562349542609534,0.16658642272508425,0.16658642272508425,0.16658642272508425,0.16851227732306212,0.16851227732306212,0.16899374097255657,0.16995666827154549,0.17091959557053443,0.17091959557053443,0.17140105922002888,0.17188252286952335,0.17284545016851227,0.1738083774675012,0.1738083774675012,0.17428984111699566,0.1776600866634569,0.1776600866634569,0.17958594126143476,0.17958594126143476,0.18199325950890707,0.18247472315840155,0.18247472315840155,0.18343765045739047,0.18343765045739047,0.18391911410688494,0.18488204140587386,0.18488204140587386,0.18536350505536833,0.18536350505536833,0.18777082330284064,0.18921521425132404,0.19258545979778527,0.19306692344727974,0.19306692344727974,0.1935483870967742,0.1945113143957631,0.1945113143957631,0.1974000962927299,0.19884448724121329,0.19932595089070776,0.20173326913818007,0.20173326913818007,0.20317766008666346,0.20317766008666346,0.2036591237361579,0.2036591237361579,0.20414058738565238,0.20751083293211361,0.2079922965816081,0.2079922965816081,0.20847376023110256,0.20847376023110256,0.208955223880597,0.2103996148290804,0.21136254212806932,0.21136254212806932,0.2118440057775638,0.2118440057775638,0.21376986037554166,0.21376986037554166,0.21473278767453058,0.21521425132402502,0.2156957149735195,0.2156957149735195,0.2171401059220029,0.22002888781896968,0.22002888781896968,0.22051035146846412,0.22051035146846412,0.2209918151179586,0.22147327876745307,0.22147327876745307,0.222436206066442,0.2248435243139143,0.2248435243139143,0.2248435243139143,0.22580645161290322,0.2262879152623977,0.2262879152623977,0.22676937891189214,0.2272508425613866,0.2272508425613866,0.22821376986037553,0.22821376986037553,0.22821376986037553,0.22965816080885892,0.23062108810784784,0.23110255175734232,0.2315840154068368,0.2315840154068368,0.23350987000481463,0.23350987000481463,0.23447279730380358,0.23639865190178141,0.2368801155512759,0.2368801155512759,0.2378430428502648,0.2392874337987482,0.23976889744824265,0.24121328839672604,0.24121328839672604,0.24121328839672604,0.2416947520462205,0.2416947520462205,0.24265767934520943,0.24362060664419835,0.24362060664419835,0.24362060664419835,0.24795377948964853,0.24795377948964853,0.2508425613866153,0.2508425613866153,0.25180548868560426,0.25180548868560426,0.254694270582571,0.254694270582571,0.254694270582571,0.2575830524795378,0.25806451612903225,0.25806451612903225,0.2585459797785267,0.2585459797785267,0.2614347616754935,0.2614347616754935,0.2614347616754935,0.26336061627347135,0.2638420799229658,0.26480500722195477,0.2652864708714492,0.26624939817043813,0.2676937891189215,0.2676937891189215,0.26865671641791045,0.2705825710158883,0.27106403466538276,0.2725084256138662,0.27684159845931633,0.27684159845931633,0.2778045257583052,0.2778045257583052,0.2778045257583052,0.280693307655272,0.2811747713047665,0.28165623495426095,0.2826191622532499,0.2826191622532499,0.2855079441502167,0.287915262397689,0.29080404429465573,0.29080404429465573,0.29080404429465573,0.29080404429465573,0.2917669715936447,0.2917669715936447,0.2927298988926336,0.2927298988926336,0.2932113625421281,0.294174289841117,0.29465575349061146,0.2961001444390948,0.2961001444390948,0.2965816080885893,0.3018777082330284,0.30235917188252287,0.30284063553201734,0.30284063553201734,0.3042850264805007,0.3047664901299952,0.3047664901299952,0.30524795377948966,0.30572941742898413,0.30572941742898413,0.31439576311988443,0.31584015406836785,0.3172845450168512,0.31872893596533464,0.31872893596533464,0.3206547905633125,0.32113625421280695,0.3230621088107848,0.3230621088107848,0.32402503610977373,0.32450649975926815,0.3249879634087626,0.3249879634087626,0.3278767453057294,0.3283582089552239,0.3283582089552239,0.32932113625421283,0.3302840635532017,0.3307655272026962,0.33124699085219067,0.33269138180067404,0.33461723639865193,0.33509870004814635,0.33509870004814635,0.33509870004814635,0.33798748194511313,0.33798748194511313,0.3389504092441021,0.3389504092441021,0.3408762638420799,0.3413577274915744,0.3413577274915744,0.34569090033702454,0.346172363986519,0.35243139142994706,0.35339431872893595,0.3538757823784304,0.3543572460279249,0.3548387096774194,0.3553201733269138,0.3553201733269138,0.3553201733269138,0.35628310062590274,0.3591718825228695,0.36157920077034184,0.3625421280693308,0.3635050553683197,0.3702455464612422,0.3712084737602311,0.37168993740972556,0.37168993740972556,0.3726528647087145,0.3736157920077034,0.37457871930669234,0.3750601829561868,0.3765045739046702,0.3789118921521425,0.38468945594607606,0.38468945594607606,0.3866153105440539,0.3866153105440539,0.3866153105440539,0.38757823784304285,0.38757823784304285,0.38757823784304285,0.3880597014925373,0.3880597014925373,0.3890226287915262,0.3890226287915262,0.3890226287915262,0.3909484833895041,0.3914299470389986,0.3914299470389986,0.391911410688493,0.391911410688493,0.391911410688493,0.39287433798748195,0.40298507462686567,0.4039480019258546,0.40587385652383245,0.40876263842079924,0.40876263842079924,0.41116995666827155,0.4121328839672605,0.4130958112662494,0.42272508425613864,0.4232065479056331,0.4236880115551276,0.42416947520462206,0.4260953298025999,0.42946557534906116,0.42994703899855563,0.4342802118440058,0.4342802118440058,0.43476167549350025,0.43476167549350025,0.43524313914299473,0.43524313914299473,0.4362060664419836,0.4362060664419836,0.43765045739046704,0.43861338468945593,0.4390948483389504,0.4395763119884449,0.4395763119884449,0.4395763119884449,0.44005777563793935,0.4405392392874338,0.4405392392874338,0.4443909484833895,0.4443909484833895,0.444872412132884,0.4467982667308618,0.4467982667308618,0.4467982667308618,0.4467982667308618,0.4467982667308618,0.4467982667308618,0.44776119402985076,0.4492055849783341,0.45835339431872896,0.45835339431872896,0.4588348579682234,0.4588348579682234,0.4588348579682234,0.4588348579682234,0.4588348579682234,0.4597977852672123,0.46172363986519016,0.4626865671641791,0.4626865671641791,0.470871449205585,0.470871449205585,0.4718343765045739,0.4718343765045739,0.48435243139142997,0.48435243139142997,0.48435243139142997,0.4848338950409244,0.4848338950409244,0.48531535869041886,0.4862782859894078,0.4901299951853635,0.49061145883485796,0.4915743861338469,0.49350024073182475,0.49350024073182475,0.4939817043813192,0.4944631680308137,0.4949446316803081,0.4954260953298026,0.4973519499277805,0.4973519499277805,0.4973519499277805,0.5002407318247473,0.5002407318247473,0.5002407318247473,0.5026480500722196,0.5026480500722196,0.503129513721714,0.503129513721714,0.5045739046701974,0.5045739046701974,0.5055368319691863,0.5064997592681753,0.5089070775156476,0.509388541165142,0.509388541165142,0.5185363505055368,0.5185363505055368,0.5190178141550313,0.5214251324025037,0.5219065960519981,0.5233509870004814,0.5233509870004814,0.5243139142994704,0.5243139142994704,0.5247953779489648,0.5247953779489648,0.5247953779489648,0.5252768415984593,0.5252768415984593,0.5257583052479537,0.5257583052479537,0.5272026961964371,0.5272026961964371,0.5276841598459316,0.5276841598459316,0.5281656234954261,0.529128550794415,0.5296100144439095,0.530091478093404,0.530091478093404,0.5305729417428984,0.5310544053923929,0.5310544053923929,0.5315358690418873,0.5339431872893596,0.5368319691863265,0.5368319691863265,0.5373134328358209,0.5373134328358209,0.5373134328358209,0.5377948964853153,0.5377948964853153,0.5377948964853153,0.5382763601348098,0.5382763601348098,0.5382763601348098,0.5382763601348098,0.5387578237843043,0.5392392874337988,0.5411651420317766,0.5411651420317766,0.5421280693307655,0.5421280693307655,0.5421280693307655,0.5503129513721714,0.5507944150216658,0.5546461242176216,0.5546461242176216,0.5546461242176216,0.555127587867116,0.5556090515166104,0.5565719788155994,0.5565719788155994,0.5575349061145883,0.5580163697640829,0.5589792970630717,0.562349542609533,0.5628310062590275,0.5628310062590275,0.5637939335580163,0.5647568608570053,0.5647568608570053,0.5657197881559942,0.5657197881559942,0.5657197881559942,0.5662012518054886,0.5710158883004334,0.5710158883004334,0.5710158883004334,0.5710158883004334,0.5714973519499278,0.5714973519499278,0.5714973519499278,0.5772749157438614,0.5772749157438614,0.5772749157438614,0.5772749157438614,0.5772749157438614,0.5772749157438614,0.5777563793933558,0.5777563793933558,0.5777563793933558,0.5777563793933558,0.5787193066923447,0.5792007703418391,0.5792007703418391,0.5792007703418391,0.5796822339913337,0.5796822339913337,0.5796822339913337,0.5796822339913337,0.5796822339913337,0.5806451612903226,0.5806451612903226,0.5806451612903226,0.5806451612903226,0.5806451612903226,0.5806451612903226,0.581126624939817,0.5830524795377949,0.5830524795377949,0.5859412614347617,0.5859412614347617,0.5869041887337506,0.5869041887337506,0.5869041887337506,0.587385652383245,0.587385652383245,0.5878671160327396,0.588348579682234,0.5888300433317285,0.594607607125662,0.5950890707751565,0.5950890707751565,0.5984593163216178,0.5984593163216178,0.5989407799711122,0.5994222436206067,0.5994222436206067,0.5994222436206067,0.5994222436206067,0.5994222436206067,0.5994222436206067,0.6003851709195955,0.6003851709195955,0.6003851709195955,0.6013480982185845,0.6013480982185845,0.6066441983630236,0.607125662012518,0.607125662012518,0.607125662012518,0.607125662012518,0.6104959075589793,0.6114588348579683,0.6119402985074627,0.6119402985074627,0.6119402985074627,0.6129032258064516,0.613384689455946,0.613384689455946,0.613384689455946,0.613384689455946,0.613384689455946,0.6138661531054406,0.6138661531054406,0.6138661531054406,0.6138661531054406,0.6157920077034184,0.6157920077034184,0.6157920077034184,0.6157920077034184,0.6167549350024073,0.6172363986519018,0.6196437168993741,0.6196437168993741,0.6196437168993741,0.6201251805488686,0.6201251805488686,0.6201251805488686,0.620606644198363,0.6249398170438132,0.6249398170438132,0.6249398170438132,0.6249398170438132,0.6263842079922965,0.6263842079922965,0.6263842079922965,0.6263842079922965,0.6268656716417911,0.6268656716417911,0.62782859894078,0.62782859894078,0.62782859894078,0.62782859894078,0.62782859894078,0.62782859894078,0.62782859894078,0.6283100625902744,0.6283100625902744,0.6287915262397689,0.6287915262397689,0.6292729898892634,0.6292729898892634,0.6297544535387578,0.6297544535387578,0.6297544535387578,0.6302359171882523,0.6316803081367357,0.6316803081367357,0.6326432354357246,0.6336061627347135,0.6336061627347135,0.6355320173326914,0.6355320173326914,0.6355320173326914,0.6360134809821858,0.6360134809821858,0.6369764082811747,0.6374578719306693,0.6374578719306693,0.6379393355801637,0.6379393355801637,0.6379393355801637,0.6384207992296581,0.6384207992296581,0.6384207992296581,0.6389022628791526,0.6389022628791526,0.6389022628791526,0.6393837265286471,0.6393837265286471,0.640346653827636,0.6408281174771304,0.6408281174771304,0.641309581126625,0.641309581126625,0.641309581126625,0.6417910447761194,0.6417910447761194,0.6417910447761194,0.6417910447761194,0.6422725084256139,0.6422725084256139,0.6422725084256139,0.6422725084256139,0.6441983630235917,0.6441983630235917,0.6441983630235917,0.6441983630235917,0.6441983630235917,0.6451612903225806,0.6451612903225806,0.6456427539720752,0.6456427539720752,0.6456427539720752,0.6456427539720752,0.6456427539720752,0.646605681271064,0.646605681271064,0.646605681271064,0.6485315358690419,0.6494944631680308,0.6533461723639865,0.6538276360134809,0.6538276360134809,0.6543090996629755,0.6543090996629755,0.6543090996629755,0.6543090996629755,0.6543090996629755,0.6557534906114588,0.6557534906114588,0.6557534906114588,0.6557534906114588,0.6557534906114588,0.6571978815599422,0.6571978815599422,0.6571978815599422,0.6586422725084257,0.6586422725084257,0.6605681271064034,0.6605681271064034,0.6605681271064034,0.6620125180548868,0.6634569090033703,0.6639383726528647,0.6706788637457872,0.6711603273952816,0.6745305729417429,0.6754935002407318,0.6759749638902263,0.6764564275397208,0.6764564275397208,0.6764564275397208,0.6769378911892152,0.6769378911892152,0.6779008184882042,0.6783822821376986,0.6788637457871931,0.6788637457871931,0.6788637457871931,0.6793452094366875,0.6793452094366875,0.6798266730861819,0.6798266730861819,0.6807896003851709,0.6807896003851709,0.6812710640346654,0.6822339913336543,0.6827154549831488,0.6827154549831488,0.6831969186326432,0.6884930187770824,0.6884930187770824,0.6889744824265768,0.6889744824265768,0.6909003370245547,0.6909003370245547,0.6909003370245547,0.6909003370245547,0.6909003370245547,0.6918632643235436,0.6918632643235436,0.6918632643235436,0.6918632643235436,0.6918632643235436,0.6918632643235436,0.6918632643235436,0.6918632643235436,0.6918632643235436,0.692344727973038,0.693307655272027,0.6937891189215214,0.6942705825710159,0.6942705825710159,0.6957149735194993,0.6957149735194993,0.6961964371689937,0.6966779008184882,0.6966779008184882,0.6971593644679827,0.7029369282619162,0.7043813192103996,0.7048627828598941,0.7053442465093885,0.705825710158883,0.7077515647568609,0.7077515647568609,0.7140105922002888,0.7140105922002888,0.7140105922002888,0.7144920558497834,0.7144920558497834,0.7144920558497834,0.7144920558497834,0.7154549831487723,0.7154549831487723,0.7168993740972557,0.7168993740972557,0.7173808377467501,0.7173808377467501,0.7178623013962446,0.7178623013962446,0.7178623013962446,0.718343765045739,0.718343765045739,0.718343765045739,0.718343765045739,0.7279730380356283,0.7323062108810785,0.7323062108810785,0.7323062108810785,0.7337506018295619,0.7385652383245065,0.7385652383245065,0.7385652383245065,0.7390467019740009,0.7390467019740009,0.7390467019740009,0.7390467019740009,0.7390467019740009,0.7404910929224844,0.7404910929224844,0.7409725565719788,0.7414540202214733,0.7419354838709677,0.7419354838709677,0.7424169475204622,0.7433798748194511,0.7438613384689456,0.7438613384689456,0.7438613384689456,0.7501203659123736,0.7501203659123736,0.7510832932113626,0.7539720751083293,0.7539720751083293,0.7539720751083293,0.7539720751083293,0.7539720751083293,0.7544535387578238,0.7554164660568127,0.7558979297063072,0.7558979297063072,0.7563793933558016,0.7573423206547906,0.7573423206547906,0.757823784304285,0.757823784304285,0.7583052479537795,0.7583052479537795,0.7583052479537795,0.7583052479537795,0.7587867116032739,0.7597496389022629,0.7597496389022629,0.7597496389022629,0.7607125662012518,0.7607125662012518,0.7607125662012518,0.7607125662012518,0.7607125662012518,0.7611940298507462,0.7611940298507462,0.7611940298507462,0.7611940298507462,0.7611940298507462,0.7616754935002408,0.7616754935002408,0.7616754935002408,0.7616754935002408,0.7616754935002408,0.7761194029850746,0.7790081848820414,0.7794896485315359,0.7794896485315359,0.7799711121810303,0.7804525758305247,0.7804525758305247,0.7804525758305247,0.7809340394800193,0.7818969667790082,0.7818969667790082,0.7818969667790082,0.7818969667790082,0.7823784304285026,0.7823784304285026,0.7843042850264805,0.7852672123254695,0.7857486759749639,0.7857486759749639,0.7857486759749639,0.7857486759749639,0.7857486759749639,0.7857486759749639,0.7862301396244583,0.7867116032739528,0.7871930669234473,0.7871930669234473,0.7876745305729418,0.7900818488204141,0.7900818488204141,0.7900818488204141,0.7910447761194029,0.7910447761194029,0.7910447761194029,0.7920077034183919,0.7920077034183919,0.7924891670678864,0.7924891670678864,0.7924891670678864,0.7924891670678864,0.7924891670678864,0.7924891670678864,0.7924891670678864,0.8083774675012037,0.8083774675012037,0.8083774675012037,0.8127106403466539,0.8127106403466539,0.8141550312951372,0.8141550312951372,0.8146364949446316,0.8146364949446316,0.8151179585941262,0.8151179585941262,0.8151179585941262,0.8165623495426095,0.8165623495426095,0.8165623495426095,0.8314877226769379,0.8324506499759268,0.8329321136254213,0.8334135772749157,0.8334135772749157,0.8334135772749157,0.8334135772749157,0.8334135772749157,0.8334135772749157,0.8338950409244102,0.8343765045739047,0.8343765045739047,0.8343765045739047,0.8401540683678382,0.8401540683678382,0.8401540683678382,0.8401540683678382,0.8406355320173327,0.8406355320173327,0.8406355320173327,0.8406355320173327,0.8406355320173327,0.8406355320173327,0.8411169956668272,0.8411169956668272,0.843042850264805,0.8435243139142995,0.8435243139142995,0.8435243139142995,0.8435243139142995,0.8444872412132884,0.8459316321617718,0.8464130958112662,0.8464130958112662,0.8483389504092441,0.8483389504092441,0.8483389504092441,0.8483389504092441,0.8483389504092441,0.8488204140587385,0.8497833413577275,0.8497833413577275,0.8497833413577275,0.8497833413577275,0.8497833413577275,0.8507462686567164,0.8507462686567164,0.8512277323062108,0.8512277323062108,0.8512277323062108,0.8521906596051998,0.8526721232546943,0.8526721232546943,0.8526721232546943,0.8531535869041887,0.8584496870486278,0.8584496870486278,0.8598940779971113,0.8598940779971113,0.8608570052961001,0.8613384689455946,0.8613384689455946,0.8613384689455946,0.862782859894078,0.8632643235435724,0.8637457871930669,0.8637457871930669,0.8637457871930669,0.8642272508425614,0.8642272508425614,0.8647087144920559,0.8651901781415503,0.8656716417910447,0.8714492055849783,0.8728935965334618,0.8738565238324506,0.8743379874819451,0.8743379874819451,0.8753009147809341,0.8796340876263842,0.8796340876263842,0.88348579682234,0.88348579682234,0.88348579682234,0.88348579682234,0.8839672604718344,0.8839672604718344,0.8839672604718344,0.8854116514203177,0.8858931150698123,0.8858931150698123,0.8863745787193067,0.8868560423688011,0.889744824265768,0.8902262879152624,0.8902262879152624,0.8902262879152624,0.8935965334617236,0.8935965334617236,0.8935965334617236,0.8960038517091959,0.8969667790081849,0.8969667790081849,0.8969667790081849,0.8969667790081849,0.8969667790081849,0.8969667790081849,0.8984111699566683,0.8984111699566683,0.8984111699566683,0.9056331246990852,0.9056331246990852,0.9056331246990852,0.9061145883485797,0.9065960519980741,0.9118921521425133,0.9118921521425133,0.9215214251324025,0.9215214251324025,0.9215214251324025,0.9215214251324025,0.9215214251324025,0.9215214251324025,0.9263360616273472,0.9263360616273472,0.9268175252768416,0.9268175252768416,0.9272989889263361,0.9272989889263361,0.9316321617717862,0.9316321617717862,0.9321136254212807,0.9354838709677419,0.9441502166586423,0.9451131439576312,0.9475204622051036,0.948001925854598,0.9523350987000482,0.9600385170919595,0.9600385170919595,0.9600385170919595,0.9600385170919595,0.9643716899374097,0.9653346172363987,0.9720751083293211,0.9720751083293211,0.974000962927299,0.9754453538757824,0.9754453538757824,0.9850746268656716,0.9850746268656716,0.9956668271545498,1.0],\"yaxis\":\"y\",\"type\":\"scattergl\"}],                        {\"template\":{\"data\":{\"histogram2dcontour\":[{\"type\":\"histogram2dcontour\",\"colorbar\":{\"outlinewidth\":0,\"ticks\":\"\"},\"colorscale\":[[0.0,\"#0d0887\"],[0.1111111111111111,\"#46039f\"],[0.2222222222222222,\"#7201a8\"],[0.3333333333333333,\"#9c179e\"],[0.4444444444444444,\"#bd3786\"],[0.5555555555555556,\"#d8576b\"],[0.6666666666666666,\"#ed7953\"],[0.7777777777777778,\"#fb9f3a\"],[0.8888888888888888,\"#fdca26\"],[1.0,\"#f0f921\"]]}],\"choropleth\":[{\"type\":\"choropleth\",\"colorbar\":{\"outlinewidth\":0,\"ticks\":\"\"}}],\"histogram2d\":[{\"type\":\"histogram2d\",\"colorbar\":{\"outlinewidth\":0,\"ticks\":\"\"},\"colorscale\":[[0.0,\"#0d0887\"],[0.1111111111111111,\"#46039f\"],[0.2222222222222222,\"#7201a8\"],[0.3333333333333333,\"#9c179e\"],[0.4444444444444444,\"#bd3786\"],[0.5555555555555556,\"#d8576b\"],[0.6666666666666666,\"#ed7953\"],[0.7777777777777778,\"#fb9f3a\"],[0.8888888888888888,\"#fdca26\"],[1.0,\"#f0f921\"]]}],\"heatmap\":[{\"type\":\"heatmap\",\"colorbar\":{\"outlinewidth\":0,\"ticks\":\"\"},\"colorscale\":[[0.0,\"#0d0887\"],[0.1111111111111111,\"#46039f\"],[0.2222222222222222,\"#7201a8\"],[0.3333333333333333,\"#9c179e\"],[0.4444444444444444,\"#bd3786\"],[0.5555555555555556,\"#d8576b\"],[0.6666666666666666,\"#ed7953\"],[0.7777777777777778,\"#fb9f3a\"],[0.8888888888888888,\"#fdca26\"],[1.0,\"#f0f921\"]]}],\"heatmapgl\":[{\"type\":\"heatmapgl\",\"colorbar\":{\"outlinewidth\":0,\"ticks\":\"\"},\"colorscale\":[[0.0,\"#0d0887\"],[0.1111111111111111,\"#46039f\"],[0.2222222222222222,\"#7201a8\"],[0.3333333333333333,\"#9c179e\"],[0.4444444444444444,\"#bd3786\"],[0.5555555555555556,\"#d8576b\"],[0.6666666666666666,\"#ed7953\"],[0.7777777777777778,\"#fb9f3a\"],[0.8888888888888888,\"#fdca26\"],[1.0,\"#f0f921\"]]}],\"contourcarpet\":[{\"type\":\"contourcarpet\",\"colorbar\":{\"outlinewidth\":0,\"ticks\":\"\"}}],\"contour\":[{\"type\":\"contour\",\"colorbar\":{\"outlinewidth\":0,\"ticks\":\"\"},\"colorscale\":[[0.0,\"#0d0887\"],[0.1111111111111111,\"#46039f\"],[0.2222222222222222,\"#7201a8\"],[0.3333333333333333,\"#9c179e\"],[0.4444444444444444,\"#bd3786\"],[0.5555555555555556,\"#d8576b\"],[0.6666666666666666,\"#ed7953\"],[0.7777777777777778,\"#fb9f3a\"],[0.8888888888888888,\"#fdca26\"],[1.0,\"#f0f921\"]]}],\"surface\":[{\"type\":\"surface\",\"colorbar\":{\"outlinewidth\":0,\"ticks\":\"\"},\"colorscale\":[[0.0,\"#0d0887\"],[0.1111111111111111,\"#46039f\"],[0.2222222222222222,\"#7201a8\"],[0.3333333333333333,\"#9c179e\"],[0.4444444444444444,\"#bd3786\"],[0.5555555555555556,\"#d8576b\"],[0.6666666666666666,\"#ed7953\"],[0.7777777777777778,\"#fb9f3a\"],[0.8888888888888888,\"#fdca26\"],[1.0,\"#f0f921\"]]}],\"mesh3d\":[{\"type\":\"mesh3d\",\"colorbar\":{\"outlinewidth\":0,\"ticks\":\"\"}}],\"scatter\":[{\"fillpattern\":{\"fillmode\":\"overlay\",\"size\":10,\"solidity\":0.2},\"type\":\"scatter\"}],\"parcoords\":[{\"type\":\"parcoords\",\"line\":{\"colorbar\":{\"outlinewidth\":0,\"ticks\":\"\"}}}],\"scatterpolargl\":[{\"type\":\"scatterpolargl\",\"marker\":{\"colorbar\":{\"outlinewidth\":0,\"ticks\":\"\"}}}],\"bar\":[{\"error_x\":{\"color\":\"#2a3f5f\"},\"error_y\":{\"color\":\"#2a3f5f\"},\"marker\":{\"line\":{\"color\":\"#E5ECF6\",\"width\":0.5},\"pattern\":{\"fillmode\":\"overlay\",\"size\":10,\"solidity\":0.2}},\"type\":\"bar\"}],\"scattergeo\":[{\"type\":\"scattergeo\",\"marker\":{\"colorbar\":{\"outlinewidth\":0,\"ticks\":\"\"}}}],\"scatterpolar\":[{\"type\":\"scatterpolar\",\"marker\":{\"colorbar\":{\"outlinewidth\":0,\"ticks\":\"\"}}}],\"histogram\":[{\"marker\":{\"pattern\":{\"fillmode\":\"overlay\",\"size\":10,\"solidity\":0.2}},\"type\":\"histogram\"}],\"scattergl\":[{\"type\":\"scattergl\",\"marker\":{\"colorbar\":{\"outlinewidth\":0,\"ticks\":\"\"}}}],\"scatter3d\":[{\"type\":\"scatter3d\",\"line\":{\"colorbar\":{\"outlinewidth\":0,\"ticks\":\"\"}},\"marker\":{\"colorbar\":{\"outlinewidth\":0,\"ticks\":\"\"}}}],\"scattermapbox\":[{\"type\":\"scattermapbox\",\"marker\":{\"colorbar\":{\"outlinewidth\":0,\"ticks\":\"\"}}}],\"scatterternary\":[{\"type\":\"scatterternary\",\"marker\":{\"colorbar\":{\"outlinewidth\":0,\"ticks\":\"\"}}}],\"scattercarpet\":[{\"type\":\"scattercarpet\",\"marker\":{\"colorbar\":{\"outlinewidth\":0,\"ticks\":\"\"}}}],\"carpet\":[{\"aaxis\":{\"endlinecolor\":\"#2a3f5f\",\"gridcolor\":\"white\",\"linecolor\":\"white\",\"minorgridcolor\":\"white\",\"startlinecolor\":\"#2a3f5f\"},\"baxis\":{\"endlinecolor\":\"#2a3f5f\",\"gridcolor\":\"white\",\"linecolor\":\"white\",\"minorgridcolor\":\"white\",\"startlinecolor\":\"#2a3f5f\"},\"type\":\"carpet\"}],\"table\":[{\"cells\":{\"fill\":{\"color\":\"#EBF0F8\"},\"line\":{\"color\":\"white\"}},\"header\":{\"fill\":{\"color\":\"#C8D4E3\"},\"line\":{\"color\":\"white\"}},\"type\":\"table\"}],\"barpolar\":[{\"marker\":{\"line\":{\"color\":\"#E5ECF6\",\"width\":0.5},\"pattern\":{\"fillmode\":\"overlay\",\"size\":10,\"solidity\":0.2}},\"type\":\"barpolar\"}],\"pie\":[{\"automargin\":true,\"type\":\"pie\"}]},\"layout\":{\"autotypenumbers\":\"strict\",\"colorway\":[\"#636efa\",\"#EF553B\",\"#00cc96\",\"#ab63fa\",\"#FFA15A\",\"#19d3f3\",\"#FF6692\",\"#B6E880\",\"#FF97FF\",\"#FECB52\"],\"font\":{\"color\":\"#2a3f5f\"},\"hovermode\":\"closest\",\"hoverlabel\":{\"align\":\"left\"},\"paper_bgcolor\":\"white\",\"plot_bgcolor\":\"#E5ECF6\",\"polar\":{\"bgcolor\":\"#E5ECF6\",\"angularaxis\":{\"gridcolor\":\"white\",\"linecolor\":\"white\",\"ticks\":\"\"},\"radialaxis\":{\"gridcolor\":\"white\",\"linecolor\":\"white\",\"ticks\":\"\"}},\"ternary\":{\"bgcolor\":\"#E5ECF6\",\"aaxis\":{\"gridcolor\":\"white\",\"linecolor\":\"white\",\"ticks\":\"\"},\"baxis\":{\"gridcolor\":\"white\",\"linecolor\":\"white\",\"ticks\":\"\"},\"caxis\":{\"gridcolor\":\"white\",\"linecolor\":\"white\",\"ticks\":\"\"}},\"coloraxis\":{\"colorbar\":{\"outlinewidth\":0,\"ticks\":\"\"}},\"colorscale\":{\"sequential\":[[0.0,\"#0d0887\"],[0.1111111111111111,\"#46039f\"],[0.2222222222222222,\"#7201a8\"],[0.3333333333333333,\"#9c179e\"],[0.4444444444444444,\"#bd3786\"],[0.5555555555555556,\"#d8576b\"],[0.6666666666666666,\"#ed7953\"],[0.7777777777777778,\"#fb9f3a\"],[0.8888888888888888,\"#fdca26\"],[1.0,\"#f0f921\"]],\"sequentialminus\":[[0.0,\"#0d0887\"],[0.1111111111111111,\"#46039f\"],[0.2222222222222222,\"#7201a8\"],[0.3333333333333333,\"#9c179e\"],[0.4444444444444444,\"#bd3786\"],[0.5555555555555556,\"#d8576b\"],[0.6666666666666666,\"#ed7953\"],[0.7777777777777778,\"#fb9f3a\"],[0.8888888888888888,\"#fdca26\"],[1.0,\"#f0f921\"]],\"diverging\":[[0,\"#8e0152\"],[0.1,\"#c51b7d\"],[0.2,\"#de77ae\"],[0.3,\"#f1b6da\"],[0.4,\"#fde0ef\"],[0.5,\"#f7f7f7\"],[0.6,\"#e6f5d0\"],[0.7,\"#b8e186\"],[0.8,\"#7fbc41\"],[0.9,\"#4d9221\"],[1,\"#276419\"]]},\"xaxis\":{\"gridcolor\":\"white\",\"linecolor\":\"white\",\"ticks\":\"\",\"title\":{\"standoff\":15},\"zerolinecolor\":\"white\",\"automargin\":true,\"zerolinewidth\":2},\"yaxis\":{\"gridcolor\":\"white\",\"linecolor\":\"white\",\"ticks\":\"\",\"title\":{\"standoff\":15},\"zerolinecolor\":\"white\",\"automargin\":true,\"zerolinewidth\":2},\"scene\":{\"xaxis\":{\"backgroundcolor\":\"#E5ECF6\",\"gridcolor\":\"white\",\"linecolor\":\"white\",\"showbackground\":true,\"ticks\":\"\",\"zerolinecolor\":\"white\",\"gridwidth\":2},\"yaxis\":{\"backgroundcolor\":\"#E5ECF6\",\"gridcolor\":\"white\",\"linecolor\":\"white\",\"showbackground\":true,\"ticks\":\"\",\"zerolinecolor\":\"white\",\"gridwidth\":2},\"zaxis\":{\"backgroundcolor\":\"#E5ECF6\",\"gridcolor\":\"white\",\"linecolor\":\"white\",\"showbackground\":true,\"ticks\":\"\",\"zerolinecolor\":\"white\",\"gridwidth\":2}},\"shapedefaults\":{\"line\":{\"color\":\"#2a3f5f\"}},\"annotationdefaults\":{\"arrowcolor\":\"#2a3f5f\",\"arrowhead\":0,\"arrowwidth\":1},\"geo\":{\"bgcolor\":\"white\",\"landcolor\":\"#E5ECF6\",\"subunitcolor\":\"white\",\"showland\":true,\"showlakes\":true,\"lakecolor\":\"white\"},\"title\":{\"x\":0.05},\"mapbox\":{\"style\":\"light\"}}},\"xaxis\":{\"anchor\":\"y\",\"domain\":[0.0,1.0],\"title\":{\"text\":\"FPR\"}},\"yaxis\":{\"anchor\":\"x\",\"domain\":[0.0,1.0],\"title\":{\"text\":\"TPR\"}},\"legend\":{\"tracegroupgap\":0},\"title\":{\"text\":\"AUC-Wert = 0.67\"},\"shapes\":[{\"type\":\"line\",\"x0\":0,\"x1\":1,\"xref\":\"paper\",\"y0\":0,\"y1\":1,\"yref\":\"paper\",\"line\":{\"color\":\"red\",\"dash\":\"dot\"}}]},                        {\"responsive\": true}                    ).then(function(){\n",
              "                            \n",
              "var gd = document.getElementById('19d479b9-2d6b-4a61-837f-e55da04234dc');\n",
              "var x = new MutationObserver(function (mutations, observer) {{\n",
              "        var display = window.getComputedStyle(gd).display;\n",
              "        if (!display || display === 'none') {{\n",
              "            console.log([gd, 'removed!']);\n",
              "            Plotly.purge(gd);\n",
              "            observer.disconnect();\n",
              "        }}\n",
              "}});\n",
              "\n",
              "// Listen for the removal of the full notebook cells\n",
              "var notebookContainer = gd.closest('#notebook-container');\n",
              "if (notebookContainer) {{\n",
              "    x.observe(notebookContainer, {childList: true});\n",
              "}}\n",
              "\n",
              "// Listen for the clearing of the current output cell\n",
              "var outputEl = gd.closest('.output');\n",
              "if (outputEl) {{\n",
              "    x.observe(outputEl, {childList: true});\n",
              "}}\n",
              "\n",
              "                        })                };                            </script>        </div>\n",
              "</body>\n",
              "</html>"
            ]
          },
          "metadata": {}
        }
      ]
    }
  ]
}